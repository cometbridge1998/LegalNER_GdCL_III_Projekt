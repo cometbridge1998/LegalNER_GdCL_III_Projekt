{
 "cells": [
  {
   "cell_type": "markdown",
   "id": "d4b8b67a",
   "metadata": {},
   "source": [
    "# Model Selection"
   ]
  },
  {
   "cell_type": "code",
   "execution_count": null,
   "id": "877175cf",
   "metadata": {},
   "outputs": [],
   "source": []
  },
  {
   "cell_type": "code",
   "execution_count": null,
   "id": "a3cbf976",
   "metadata": {},
   "outputs": [],
   "source": []
  },
  {
   "cell_type": "code",
   "execution_count": 1,
   "id": "2d47c68b",
   "metadata": {
    "tags": []
   },
   "outputs": [],
   "source": []
  },
  {
   "cell_type": "code",
   "execution_count": 1,
   "id": "18fd8143",
   "metadata": {
    "tags": []
   },
   "outputs": [],
   "source": [
    "from sklearn.feature_extraction.text import CountVectorizer\n",
    "from sklearn.feature_extraction import DictVectorizer\n",
    "from sklearn.preprocessing import OneHotEncoder\n",
    "from sklearn.svm import LinearSVC\n",
    "from sklearn.linear_model import LogisticRegression\n",
    "from sklearn.metrics import accuracy_score, precision_recall_fscore_support, classification_report\n",
    "from sklearn.metrics import confusion_matrix, ConfusionMatrixDisplay\n",
    "from sklearn.linear_model import Perceptron, SGDClassifier\n",
    "from sklearn.naive_bayes import MultinomialNB\n",
    "from sklearn.svm import LinearSVC\n",
    "from sklearn.pipeline import Pipeline"
   ]
  },
  {
   "cell_type": "code",
   "execution_count": 2,
   "id": "65c76c4b",
   "metadata": {
    "tags": []
   },
   "outputs": [],
   "source": [
    "import pandas as pd\n",
    "import numpy as np\n",
    "import scipy as sp\n",
    "from scipy import sparse\n",
    "import re"
   ]
  },
  {
   "cell_type": "code",
   "execution_count": 3,
   "id": "e461de01",
   "metadata": {
    "tags": []
   },
   "outputs": [],
   "source": [
    "from itertools import chain\n",
    "\n",
    "import nltk\n",
    "import sklearn\n",
    "import scipy.stats\n",
    "from sklearn.metrics import make_scorer\n",
    "from sklearn.model_selection import cross_val_score, RandomizedSearchCV, GridSearchCV\n"
   ]
  },
  {
   "cell_type": "code",
   "execution_count": 4,
   "id": "b234ffae",
   "metadata": {
    "tags": []
   },
   "outputs": [],
   "source": [
    "sparse_train = sp.sparse.load_npz('transitional_data/X5_train.npz')\n",
    "sparse_dev = sp.sparse.load_npz('transitional_data/X5_dev.npz')"
   ]
  },
  {
   "cell_type": "code",
   "execution_count": 5,
   "id": "4432e22d",
   "metadata": {
    "tags": []
   },
   "outputs": [],
   "source": [
    "y_train = pd.read_csv(\"transitional_data/y_train.csv\")\n",
    "y_dev = pd.read_csv(\"transitional_data/y_dev.csv\")"
   ]
  },
  {
   "cell_type": "code",
   "execution_count": 6,
   "id": "c52e25ce",
   "metadata": {
    "tags": []
   },
   "outputs": [],
   "source": [
    "y_train = y_train.groupby(by = 'SentenceNR', group_keys=True).apply(lambda x: x)\n",
    "y_train = y_train.rename(columns={\"SentenceNR\": \"Sent\", \"Unnamed: 1\": \"TokenNr\"})"
   ]
  },
  {
   "cell_type": "code",
   "execution_count": 7,
   "id": "c88a5c46",
   "metadata": {
    "tags": []
   },
   "outputs": [],
   "source": [
    "y_dev = y_dev.groupby(by = 'SentenceNR', group_keys=True).apply(lambda x: x)\n",
    "y_dev = y_dev.rename(columns={\"SentenceNR\": \"Sent\", \"Unnamed: 1\": \"TokenNr\"})"
   ]
  },
  {
   "cell_type": "code",
   "execution_count": 8,
   "id": "e3043b57",
   "metadata": {
    "tags": []
   },
   "outputs": [],
   "source": [
    "train_true = y_train[\"Label\"]\n",
    "dev_true = y_dev[\"Label\"]"
   ]
  },
  {
   "cell_type": "code",
   "execution_count": null,
   "id": "fc0c340b",
   "metadata": {},
   "outputs": [],
   "source": []
  },
  {
   "cell_type": "code",
   "execution_count": null,
   "id": "30dd7d88",
   "metadata": {},
   "outputs": [],
   "source": []
  },
  {
   "cell_type": "code",
   "execution_count": null,
   "id": "83b7a51d",
   "metadata": {},
   "outputs": [],
   "source": []
  },
  {
   "cell_type": "code",
   "execution_count": 23,
   "id": "90f6db26",
   "metadata": {
    "tags": []
   },
   "outputs": [],
   "source": [
    "param_grid = {\n",
    "    \"penalty\": [\"l1\", \"l2\"],\n",
    "    \"loss\": [\"hinge\", \"squared_hinge\"],\n",
    "    \"class_weight\": [\"balanced\", None],\n",
    "}"
   ]
  },
  {
   "cell_type": "code",
   "execution_count": 24,
   "id": "b95d2e23",
   "metadata": {
    "tags": []
   },
   "outputs": [],
   "source": [
    "svc = LinearSVC()"
   ]
  },
  {
   "cell_type": "code",
   "execution_count": 25,
   "id": "d26f9448",
   "metadata": {
    "tags": []
   },
   "outputs": [
    {
     "name": "stdout",
     "output_type": "stream",
     "text": [
      "Fitting 5 folds for each of 8 candidates, totalling 40 fits\n"
     ]
    },
    {
     "name": "stderr",
     "output_type": "stream",
     "text": [
      "/opt/python-venv/teaching/lib/python3.8/site-packages/sklearn/model_selection/_validation.py:378: FitFailedWarning: \n",
      "20 fits failed out of a total of 40.\n",
      "The score on these train-test partitions for these parameters will be set to nan.\n",
      "If these failures are not expected, you can try to debug them by setting error_score='raise'.\n",
      "\n",
      "Below are more details about the failures:\n",
      "--------------------------------------------------------------------------------\n",
      "10 fits failed with the following error:\n",
      "Traceback (most recent call last):\n",
      "  File \"/opt/python-venv/teaching/lib/python3.8/site-packages/sklearn/model_selection/_validation.py\", line 686, in _fit_and_score\n",
      "    estimator.fit(X_train, y_train, **fit_params)\n",
      "  File \"/opt/python-venv/teaching/lib/python3.8/site-packages/sklearn/svm/_classes.py\", line 257, in fit\n",
      "    self.coef_, self.intercept_, n_iter_ = _fit_liblinear(\n",
      "  File \"/opt/python-venv/teaching/lib/python3.8/site-packages/sklearn/svm/_base.py\", line 1204, in _fit_liblinear\n",
      "    solver_type = _get_liblinear_solver_type(multi_class, penalty, loss, dual)\n",
      "  File \"/opt/python-venv/teaching/lib/python3.8/site-packages/sklearn/svm/_base.py\", line 1043, in _get_liblinear_solver_type\n",
      "    raise ValueError(\n",
      "ValueError: Unsupported set of arguments: The combination of penalty='l1' and loss='hinge' is not supported, Parameters: penalty='l1', loss='hinge', dual=True\n",
      "\n",
      "--------------------------------------------------------------------------------\n",
      "10 fits failed with the following error:\n",
      "Traceback (most recent call last):\n",
      "  File \"/opt/python-venv/teaching/lib/python3.8/site-packages/sklearn/model_selection/_validation.py\", line 686, in _fit_and_score\n",
      "    estimator.fit(X_train, y_train, **fit_params)\n",
      "  File \"/opt/python-venv/teaching/lib/python3.8/site-packages/sklearn/svm/_classes.py\", line 257, in fit\n",
      "    self.coef_, self.intercept_, n_iter_ = _fit_liblinear(\n",
      "  File \"/opt/python-venv/teaching/lib/python3.8/site-packages/sklearn/svm/_base.py\", line 1204, in _fit_liblinear\n",
      "    solver_type = _get_liblinear_solver_type(multi_class, penalty, loss, dual)\n",
      "  File \"/opt/python-venv/teaching/lib/python3.8/site-packages/sklearn/svm/_base.py\", line 1043, in _get_liblinear_solver_type\n",
      "    raise ValueError(\n",
      "ValueError: Unsupported set of arguments: The combination of penalty='l1' and loss='squared_hinge' are not supported when dual=True, Parameters: penalty='l1', loss='squared_hinge', dual=True\n",
      "\n",
      "  warnings.warn(some_fits_failed_message, FitFailedWarning)\n",
      "/opt/python-venv/teaching/lib/python3.8/site-packages/sklearn/model_selection/_search.py:953: UserWarning: One or more of the test scores are non-finite: [       nan 0.93368319        nan 0.93607316        nan 0.94437743\n",
      "        nan 0.94245438]\n",
      "  warnings.warn(\n"
     ]
    },
    {
     "name": "stdout",
     "output_type": "stream",
     "text": [
      "CPU times: user 25.5 s, sys: 195 ms, total: 25.7 s\n",
      "Wall time: 2min 47s\n"
     ]
    },
    {
     "name": "stderr",
     "output_type": "stream",
     "text": [
      "/opt/python-venv/teaching/lib/python3.8/site-packages/sklearn/svm/_base.py:1225: ConvergenceWarning: Liblinear failed to converge, increase the number of iterations.\n",
      "  warnings.warn(\n"
     ]
    },
    {
     "data": {
      "text/plain": [
       "0.9443774335931711"
      ]
     },
     "execution_count": 25,
     "metadata": {},
     "output_type": "execute_result"
    }
   ],
   "source": [
    "%%time\n",
    "svc_gs = GridSearchCV(svc, param_grid, scoring = \"f1_weighted\", n_jobs = -1, refit='accuracy', cv=0, verbose=1 )\n",
    "svc_gs.fit(sparse_train, train_true)\n",
    "svc_gs.best_score_"
   ]
  },
  {
   "cell_type": "code",
   "execution_count": 26,
   "id": "a0acde88",
   "metadata": {
    "tags": []
   },
   "outputs": [
    {
     "data": {
      "text/plain": [
       "{'class_weight': None, 'loss': 'hinge', 'penalty': 'l2'}"
      ]
     },
     "execution_count": 26,
     "metadata": {},
     "output_type": "execute_result"
    }
   ],
   "source": [
    "svc_gs.best_params_"
   ]
  },
  {
   "cell_type": "code",
   "execution_count": 27,
   "id": "60dfb5fb",
   "metadata": {
    "tags": []
   },
   "outputs": [
    {
     "data": {
      "text/plain": [
       "{'mean_fit_time': array([ 0.61112084, 73.55176854,  0.59393926, 99.03756495,  0.54437971,\n",
       "        62.793436  ,  0.51165848, 57.13910666]),\n",
       " 'std_fit_time': array([7.15223317e-03, 1.02568628e+00, 1.78753626e-02, 9.18787842e-01,\n",
       "        1.28932396e-02, 8.07852753e+00, 2.02344079e-02, 7.82396835e+00]),\n",
       " 'mean_score_time': array([0.        , 0.56579585, 0.        , 0.51427078, 0.        ,\n",
       "        0.41049962, 0.        , 0.29104586]),\n",
       " 'std_score_time': array([0.        , 0.01051894, 0.        , 0.09568159, 0.        ,\n",
       "        0.1215277 , 0.        , 0.01734194]),\n",
       " 'param_class_weight': masked_array(data=['balanced', 'balanced', 'balanced', 'balanced', None,\n",
       "                    None, None, None],\n",
       "              mask=[False, False, False, False, False, False, False, False],\n",
       "        fill_value='?',\n",
       "             dtype=object),\n",
       " 'param_loss': masked_array(data=['hinge', 'hinge', 'squared_hinge', 'squared_hinge',\n",
       "                    'hinge', 'hinge', 'squared_hinge', 'squared_hinge'],\n",
       "              mask=[False, False, False, False, False, False, False, False],\n",
       "        fill_value='?',\n",
       "             dtype=object),\n",
       " 'param_penalty': masked_array(data=['l1', 'l2', 'l1', 'l2', 'l1', 'l2', 'l1', 'l2'],\n",
       "              mask=[False, False, False, False, False, False, False, False],\n",
       "        fill_value='?',\n",
       "             dtype=object),\n",
       " 'params': [{'class_weight': 'balanced', 'loss': 'hinge', 'penalty': 'l1'},\n",
       "  {'class_weight': 'balanced', 'loss': 'hinge', 'penalty': 'l2'},\n",
       "  {'class_weight': 'balanced', 'loss': 'squared_hinge', 'penalty': 'l1'},\n",
       "  {'class_weight': 'balanced', 'loss': 'squared_hinge', 'penalty': 'l2'},\n",
       "  {'class_weight': None, 'loss': 'hinge', 'penalty': 'l1'},\n",
       "  {'class_weight': None, 'loss': 'hinge', 'penalty': 'l2'},\n",
       "  {'class_weight': None, 'loss': 'squared_hinge', 'penalty': 'l1'},\n",
       "  {'class_weight': None, 'loss': 'squared_hinge', 'penalty': 'l2'}],\n",
       " 'split0_test_score': array([       nan, 0.93022959,        nan, 0.93280733,        nan,\n",
       "        0.93887883,        nan, 0.93754315]),\n",
       " 'split1_test_score': array([       nan, 0.93547947,        nan, 0.93731356,        nan,\n",
       "        0.94515641,        nan, 0.94296808]),\n",
       " 'split2_test_score': array([       nan, 0.93684932,        nan, 0.93896733,        nan,\n",
       "        0.9474699 ,        nan, 0.94552135]),\n",
       " 'split3_test_score': array([       nan, 0.93307883,        nan, 0.93596299,        nan,\n",
       "        0.9458924 ,        nan, 0.94374101]),\n",
       " 'split4_test_score': array([       nan, 0.93277874,        nan, 0.9353146 ,        nan,\n",
       "        0.94448963,        nan, 0.94249833]),\n",
       " 'mean_test_score': array([       nan, 0.93368319,        nan, 0.93607316,        nan,\n",
       "        0.94437743,        nan, 0.94245438]),\n",
       " 'std_test_score': array([       nan, 0.00229615,        nan, 0.00205757,        nan,\n",
       "        0.00292276,        nan, 0.00266262]),\n",
       " 'rank_test_score': array([5, 4, 6, 3, 7, 1, 8, 2], dtype=int32)}"
      ]
     },
     "execution_count": 27,
     "metadata": {},
     "output_type": "execute_result"
    }
   ],
   "source": [
    "svc_gs.cv_results_"
   ]
  },
  {
   "cell_type": "code",
   "execution_count": null,
   "id": "05e7e208",
   "metadata": {},
   "outputs": [],
   "source": []
  },
  {
   "cell_type": "code",
   "execution_count": 29,
   "id": "f1437db7",
   "metadata": {},
   "outputs": [],
   "source": [
    "regularization_grid1 = {\n",
    "    \"penalty\": [\"l2\"],\n",
    "    \"loss\": [\"hinge\"],\n",
    "    \"class_weight\": [None],\n",
    "    \"C\": [0.001, 0.01, 0.1, 1],\n",
    "}"
   ]
  },
  {
   "cell_type": "code",
   "execution_count": 30,
   "id": "fd939f56",
   "metadata": {},
   "outputs": [
    {
     "name": "stdout",
     "output_type": "stream",
     "text": [
      "Fitting 5 folds for each of 4 candidates, totalling 20 fits\n",
      "CPU times: user 25.3 s, sys: 91.2 ms, total: 25.4 s\n",
      "Wall time: 1min 48s\n"
     ]
    },
    {
     "name": "stderr",
     "output_type": "stream",
     "text": [
      "/opt/python-venv/teaching/lib/python3.8/site-packages/sklearn/svm/_base.py:1225: ConvergenceWarning: Liblinear failed to converge, increase the number of iterations.\n",
      "  warnings.warn(\n"
     ]
    },
    {
     "data": {
      "text/plain": [
       "0.9443956946408065"
      ]
     },
     "execution_count": 30,
     "metadata": {},
     "output_type": "execute_result"
    }
   ],
   "source": [
    "%%time\n",
    "svc_gs = GridSearchCV(svc, regularization_grid1, scoring = \"f1_weighted\", n_jobs = -1, refit='accuracy', cv=5, verbose=1 )\n",
    "svc_gs.fit(sparse_train, train_true)\n",
    "svc_gs.best_score_"
   ]
  },
  {
   "cell_type": "code",
   "execution_count": 31,
   "id": "c8f99677",
   "metadata": {},
   "outputs": [
    {
     "data": {
      "text/plain": [
       "{'C': 1, 'class_weight': None, 'loss': 'hinge', 'penalty': 'l2'}"
      ]
     },
     "execution_count": 31,
     "metadata": {},
     "output_type": "execute_result"
    }
   ],
   "source": [
    "svc_gs.best_params_"
   ]
  },
  {
   "cell_type": "code",
   "execution_count": 32,
   "id": "b83d4f6e",
   "metadata": {},
   "outputs": [
    {
     "data": {
      "text/plain": [
       "{'mean_fit_time': array([29.87864785, 37.3456902 , 39.3514617 , 45.54885588]),\n",
       " 'std_fit_time': array([1.81097668, 1.77885496, 5.71194149, 1.10663903]),\n",
       " 'mean_score_time': array([0.56772723, 0.56437969, 0.36204786, 0.29094071]),\n",
       " 'std_score_time': array([0.00781076, 0.00966763, 0.08936824, 0.01373026]),\n",
       " 'param_C': masked_array(data=[0.001, 0.01, 0.1, 1],\n",
       "              mask=[False, False, False, False],\n",
       "        fill_value='?',\n",
       "             dtype=object),\n",
       " 'param_class_weight': masked_array(data=[None, None, None, None],\n",
       "              mask=[False, False, False, False],\n",
       "        fill_value='?',\n",
       "             dtype=object),\n",
       " 'param_loss': masked_array(data=['hinge', 'hinge', 'hinge', 'hinge'],\n",
       "              mask=[False, False, False, False],\n",
       "        fill_value='?',\n",
       "             dtype=object),\n",
       " 'param_penalty': masked_array(data=['l2', 'l2', 'l2', 'l2'],\n",
       "              mask=[False, False, False, False],\n",
       "        fill_value='?',\n",
       "             dtype=object),\n",
       " 'params': [{'C': 0.001,\n",
       "   'class_weight': None,\n",
       "   'loss': 'hinge',\n",
       "   'penalty': 'l2'},\n",
       "  {'C': 0.01, 'class_weight': None, 'loss': 'hinge', 'penalty': 'l2'},\n",
       "  {'C': 0.1, 'class_weight': None, 'loss': 'hinge', 'penalty': 'l2'},\n",
       "  {'C': 1, 'class_weight': None, 'loss': 'hinge', 'penalty': 'l2'}],\n",
       " 'split0_test_score': array([0.86888614, 0.91455034, 0.93701454, 0.93891331]),\n",
       " 'split1_test_score': array([0.86944012, 0.91827274, 0.9442044 , 0.94519868]),\n",
       " 'split2_test_score': array([0.87103318, 0.92066794, 0.94521364, 0.94746593]),\n",
       " 'split3_test_score': array([0.87060057, 0.92032028, 0.94413319, 0.94591223]),\n",
       " 'split4_test_score': array([0.86892742, 0.91852523, 0.94342746, 0.94448833]),\n",
       " 'mean_test_score': array([0.86977749, 0.9184673 , 0.94279864, 0.94439569]),\n",
       " 'std_test_score': array([0.0008815 , 0.00217532, 0.00294756, 0.00291328]),\n",
       " 'rank_test_score': array([4, 3, 2, 1], dtype=int32)}"
      ]
     },
     "execution_count": 32,
     "metadata": {},
     "output_type": "execute_result"
    }
   ],
   "source": [
    "svc_gs.cv_results_"
   ]
  },
  {
   "cell_type": "code",
   "execution_count": null,
   "id": "27567beb",
   "metadata": {},
   "outputs": [],
   "source": []
  },
  {
   "cell_type": "code",
   "execution_count": 33,
   "id": "225546a5",
   "metadata": {},
   "outputs": [],
   "source": [
    "regularization_grid2 = {\n",
    "    \"penalty\": [\"l2\"],\n",
    "    \"loss\": [\"hinge\"],\n",
    "    \"class_weight\": [None],\n",
    "    \"C\": [0.2, 0.4, 0.6, 0.8, 1.0],\n",
    "}"
   ]
  },
  {
   "cell_type": "code",
   "execution_count": 34,
   "id": "ed6edacd",
   "metadata": {},
   "outputs": [
    {
     "name": "stdout",
     "output_type": "stream",
     "text": [
      "Fitting 5 folds for each of 5 candidates, totalling 25 fits\n",
      "CPU times: user 22.5 s, sys: 133 ms, total: 22.6 s\n",
      "Wall time: 2min 52s\n"
     ]
    },
    {
     "name": "stderr",
     "output_type": "stream",
     "text": [
      "/opt/python-venv/teaching/lib/python3.8/site-packages/sklearn/svm/_base.py:1225: ConvergenceWarning: Liblinear failed to converge, increase the number of iterations.\n",
      "  warnings.warn(\n"
     ]
    },
    {
     "data": {
      "text/plain": [
       "0.9462532169191098"
      ]
     },
     "execution_count": 34,
     "metadata": {},
     "output_type": "execute_result"
    }
   ],
   "source": [
    "%%time\n",
    "svc_gs = GridSearchCV(svc, regularization_grid2, scoring = \"f1_weighted\", n_jobs = -1, refit='accuracy', cv=5, verbose=1 )\n",
    "svc_gs.fit(sparse_train, train_true)\n",
    "svc_gs.best_score_"
   ]
  },
  {
   "cell_type": "code",
   "execution_count": 35,
   "id": "f7fd1bb0",
   "metadata": {},
   "outputs": [
    {
     "data": {
      "text/plain": [
       "{'C': 0.4, 'class_weight': None, 'loss': 'hinge', 'penalty': 'l2'}"
      ]
     },
     "execution_count": 35,
     "metadata": {},
     "output_type": "execute_result"
    }
   ],
   "source": [
    "svc_gs.best_params_"
   ]
  },
  {
   "cell_type": "code",
   "execution_count": 36,
   "id": "7e1c549d",
   "metadata": {},
   "outputs": [
    {
     "data": {
      "text/plain": [
       "{'mean_fit_time': array([55.44876342, 64.75790887, 69.2640831 , 70.35478449, 59.3426775 ]),\n",
       " 'std_fit_time': array([ 1.5577506 ,  1.22817837,  1.2343852 ,  2.14736422, 16.35957288]),\n",
       " 'mean_score_time': array([0.55639315, 0.57585073, 0.55520101, 0.35943203, 0.28968396]),\n",
       " 'std_score_time': array([0.00970917, 0.04772091, 0.01394407, 0.09013687, 0.01448649]),\n",
       " 'param_C': masked_array(data=[0.2, 0.4, 0.6, 0.8, 1.0],\n",
       "              mask=[False, False, False, False, False],\n",
       "        fill_value='?',\n",
       "             dtype=object),\n",
       " 'param_class_weight': masked_array(data=[None, None, None, None, None],\n",
       "              mask=[False, False, False, False, False],\n",
       "        fill_value='?',\n",
       "             dtype=object),\n",
       " 'param_loss': masked_array(data=['hinge', 'hinge', 'hinge', 'hinge', 'hinge'],\n",
       "              mask=[False, False, False, False, False],\n",
       "        fill_value='?',\n",
       "             dtype=object),\n",
       " 'param_penalty': masked_array(data=['l2', 'l2', 'l2', 'l2', 'l2'],\n",
       "              mask=[False, False, False, False, False],\n",
       "        fill_value='?',\n",
       "             dtype=object),\n",
       " 'params': [{'C': 0.2, 'class_weight': None, 'loss': 'hinge', 'penalty': 'l2'},\n",
       "  {'C': 0.4, 'class_weight': None, 'loss': 'hinge', 'penalty': 'l2'},\n",
       "  {'C': 0.6, 'class_weight': None, 'loss': 'hinge', 'penalty': 'l2'},\n",
       "  {'C': 0.8, 'class_weight': None, 'loss': 'hinge', 'penalty': 'l2'},\n",
       "  {'C': 1.0, 'class_weight': None, 'loss': 'hinge', 'penalty': 'l2'}],\n",
       " 'split0_test_score': array([0.94005848, 0.94060116, 0.94028142, 0.93965276, 0.93891367]),\n",
       " 'split1_test_score': array([0.94640035, 0.94677452, 0.94655548, 0.94539429, 0.9451548 ]),\n",
       " 'split2_test_score': array([0.94896747, 0.94956476, 0.94895608, 0.94822065, 0.94745998]),\n",
       " 'split3_test_score': array([0.94718968, 0.94799612, 0.94753306, 0.94672881, 0.94589051]),\n",
       " 'split4_test_score': array([0.94600863, 0.94632952, 0.94574212, 0.94508169, 0.94446134]),\n",
       " 'mean_test_score': array([0.94572492, 0.94625322, 0.94581363, 0.94501564, 0.94437606]),\n",
       " 'std_test_score': array([0.00301015, 0.00304064, 0.00296622, 0.00290225, 0.00290708]),\n",
       " 'rank_test_score': array([3, 1, 2, 4, 5], dtype=int32)}"
      ]
     },
     "execution_count": 36,
     "metadata": {},
     "output_type": "execute_result"
    }
   ],
   "source": [
    "svc_gs.cv_results_"
   ]
  },
  {
   "cell_type": "code",
   "execution_count": null,
   "id": "d589b681",
   "metadata": {},
   "outputs": [],
   "source": []
  },
  {
   "cell_type": "code",
   "execution_count": 40,
   "id": "6444ae37",
   "metadata": {},
   "outputs": [],
   "source": [
    "regularization_grid3 = {\n",
    "    \"penalty\": [\"l2\"],\n",
    "    \"loss\": [\"hinge\"],\n",
    "    \"class_weight\": [None],\n",
    "    \"C\": [0.25, 0.3, 0.35, 0.4, 0.45, 0.5, 0.55],\n",
    "}"
   ]
  },
  {
   "cell_type": "code",
   "execution_count": 41,
   "id": "f28ffb16",
   "metadata": {},
   "outputs": [
    {
     "name": "stdout",
     "output_type": "stream",
     "text": [
      "Fitting 5 folds for each of 7 candidates, totalling 35 fits\n",
      "CPU times: user 22.2 s, sys: 129 ms, total: 22.3 s\n",
      "Wall time: 3min 31s\n"
     ]
    },
    {
     "name": "stderr",
     "output_type": "stream",
     "text": [
      "/opt/python-venv/teaching/lib/python3.8/site-packages/sklearn/svm/_base.py:1225: ConvergenceWarning: Liblinear failed to converge, increase the number of iterations.\n",
      "  warnings.warn(\n"
     ]
    },
    {
     "data": {
      "text/plain": [
       "0.9463198083146469"
      ]
     },
     "execution_count": 41,
     "metadata": {},
     "output_type": "execute_result"
    }
   ],
   "source": [
    "%%time\n",
    "svc_gs = GridSearchCV(svc, regularization_grid3, scoring = \"f1_weighted\", n_jobs = -1, refit='accuracy', cv=5, verbose=1 )\n",
    "svc_gs.fit(sparse_train, train_true)\n",
    "svc_gs.best_score_"
   ]
  },
  {
   "cell_type": "code",
   "execution_count": 42,
   "id": "27067a94",
   "metadata": {},
   "outputs": [
    {
     "data": {
      "text/plain": [
       "{'C': 0.35, 'class_weight': None, 'loss': 'hinge', 'penalty': 'l2'}"
      ]
     },
     "execution_count": 42,
     "metadata": {},
     "output_type": "execute_result"
    }
   ],
   "source": [
    "svc_gs.best_params_"
   ]
  },
  {
   "cell_type": "code",
   "execution_count": 43,
   "id": "4fc7ec38",
   "metadata": {},
   "outputs": [
    {
     "data": {
      "text/plain": [
       "{'mean_fit_time': array([59.49461484, 61.38623385, 62.69376602, 64.66976638, 64.79793425,\n",
       "        59.91664267, 58.55881348]),\n",
       " 'std_fit_time': array([1.15413159, 1.32367912, 1.05066868, 2.02375587, 2.33354859,\n",
       "        2.29413409, 2.75102115]),\n",
       " 'mean_score_time': array([0.58273444, 0.56601439, 0.56533198, 0.57672439, 0.57468157,\n",
       "        0.36247888, 0.29188786]),\n",
       " 'std_score_time': array([0.04582077, 0.01601401, 0.03386912, 0.03144619, 0.0309859 ,\n",
       "        0.10157721, 0.01893803]),\n",
       " 'param_C': masked_array(data=[0.25, 0.3, 0.35, 0.4, 0.45, 0.5, 0.55],\n",
       "              mask=[False, False, False, False, False, False, False],\n",
       "        fill_value='?',\n",
       "             dtype=object),\n",
       " 'param_class_weight': masked_array(data=[None, None, None, None, None, None, None],\n",
       "              mask=[False, False, False, False, False, False, False],\n",
       "        fill_value='?',\n",
       "             dtype=object),\n",
       " 'param_loss': masked_array(data=['hinge', 'hinge', 'hinge', 'hinge', 'hinge', 'hinge',\n",
       "                    'hinge'],\n",
       "              mask=[False, False, False, False, False, False, False],\n",
       "        fill_value='?',\n",
       "             dtype=object),\n",
       " 'param_penalty': masked_array(data=['l2', 'l2', 'l2', 'l2', 'l2', 'l2', 'l2'],\n",
       "              mask=[False, False, False, False, False, False, False],\n",
       "        fill_value='?',\n",
       "             dtype=object),\n",
       " 'params': [{'C': 0.25,\n",
       "   'class_weight': None,\n",
       "   'loss': 'hinge',\n",
       "   'penalty': 'l2'},\n",
       "  {'C': 0.3, 'class_weight': None, 'loss': 'hinge', 'penalty': 'l2'},\n",
       "  {'C': 0.35, 'class_weight': None, 'loss': 'hinge', 'penalty': 'l2'},\n",
       "  {'C': 0.4, 'class_weight': None, 'loss': 'hinge', 'penalty': 'l2'},\n",
       "  {'C': 0.45, 'class_weight': None, 'loss': 'hinge', 'penalty': 'l2'},\n",
       "  {'C': 0.5, 'class_weight': None, 'loss': 'hinge', 'penalty': 'l2'},\n",
       "  {'C': 0.55, 'class_weight': None, 'loss': 'hinge', 'penalty': 'l2'}],\n",
       " 'split0_test_score': array([0.94050785, 0.94060762, 0.94060063, 0.94058436, 0.94037485,\n",
       "        0.94037683, 0.94038613]),\n",
       " 'split1_test_score': array([0.94676911, 0.94689656, 0.94675773, 0.94677426, 0.94669849,\n",
       "        0.94666796, 0.94662758]),\n",
       " 'split2_test_score': array([0.9492825 , 0.94948667, 0.949757  , 0.94955237, 0.94959348,\n",
       "        0.9492776 , 0.94901883]),\n",
       " 'split3_test_score': array([0.9474403 , 0.94787972, 0.94795786, 0.94798287, 0.94787326,\n",
       "        0.94786426, 0.94778975]),\n",
       " 'split4_test_score': array([0.94638047, 0.94648043, 0.94652583, 0.94632876, 0.94618266,\n",
       "        0.94604333, 0.94587952]),\n",
       " 'mean_test_score': array([0.94607605, 0.9462702 , 0.94631981, 0.94624452, 0.94614455,\n",
       "        0.94604599, 0.94594036]),\n",
       " 'std_test_score': array([0.00295704, 0.00301455, 0.00308028, 0.00304266, 0.00311388,\n",
       "        0.00304222, 0.00297397]),\n",
       " 'rank_test_score': array([5, 2, 1, 3, 4, 6, 7], dtype=int32)}"
      ]
     },
     "execution_count": 43,
     "metadata": {},
     "output_type": "execute_result"
    }
   ],
   "source": [
    "svc_gs.cv_results_"
   ]
  },
  {
   "cell_type": "code",
   "execution_count": null,
   "id": "5f2e7acc",
   "metadata": {},
   "outputs": [],
   "source": []
  },
  {
   "cell_type": "code",
   "execution_count": 9,
   "id": "5085365f",
   "metadata": {},
   "outputs": [],
   "source": [
    "from evaluation import get_all_labels, get_classify_report, get_recognition_report, get_confusion_matrix"
   ]
  },
  {
   "cell_type": "code",
   "execution_count": 10,
   "id": "b1314784",
   "metadata": {},
   "outputs": [
    {
     "name": "stdout",
     "output_type": "stream",
     "text": [
      "CPU times: user 21.7 s, sys: 146 ms, total: 21.8 s\n",
      "Wall time: 21.8 s\n"
     ]
    },
    {
     "name": "stderr",
     "output_type": "stream",
     "text": [
      "/home/ccl/oj43ecpu/.local/lib/python3.8/site-packages/sklearn/svm/_base.py:976: ConvergenceWarning: Liblinear failed to converge, increase the number of iterations.\n",
      "  warnings.warn(\"Liblinear failed to converge, increase \"\n"
     ]
    },
    {
     "data": {
      "text/plain": [
       "LinearSVC(C=0.35, loss='hinge')"
      ]
     },
     "execution_count": 10,
     "metadata": {},
     "output_type": "execute_result"
    }
   ],
   "source": [
    "svc = LinearSVC( loss = \"hinge\", C = 0.35)\n",
    "%time svc.fit(sparse_train, train_true)"
   ]
  },
  {
   "cell_type": "code",
   "execution_count": 11,
   "id": "022b6028",
   "metadata": {},
   "outputs": [
    {
     "name": "stdout",
     "output_type": "stream",
     "text": [
      "CPU times: user 17.5 ms, sys: 3.81 ms, total: 21.3 ms\n",
      "Wall time: 19.9 ms\n"
     ]
    }
   ],
   "source": [
    "%%time\n",
    "dev_pred = svc.predict(sparse_dev)"
   ]
  },
  {
   "cell_type": "code",
   "execution_count": 12,
   "id": "e1d95cdd",
   "metadata": {},
   "outputs": [
    {
     "name": "stdout",
     "output_type": "stream",
     "text": [
      "CPU times: user 32.1 ms, sys: 2 µs, total: 32.1 ms\n",
      "Wall time: 32 ms\n",
      "CPU times: user 5.63 ms, sys: 58 µs, total: 5.69 ms\n",
      "Wall time: 5.44 ms\n"
     ]
    }
   ],
   "source": [
    "%time labels_pred = get_all_labels(dev_pred)\n",
    "%time labels_true = get_all_labels(dev_true.tolist())"
   ]
  },
  {
   "cell_type": "code",
   "execution_count": 13,
   "id": "e5419eee",
   "metadata": {},
   "outputs": [
    {
     "name": "stdout",
     "output_type": "stream",
     "text": [
      "              precision    recall  f1-score   support\n",
      "\n",
      " CASE_NUMBER       0.99      0.96      0.97        70\n",
      "       COURT       0.99      1.00      1.00       130\n",
      "        DATE       1.00      1.00      1.00       208\n",
      "         GPE       0.97      0.97      0.97       128\n",
      "       JUDGE       0.50      1.00      0.67         7\n",
      "         ORG       0.80      0.83      0.81        58\n",
      "OTHER_PERSON       0.88      0.81      0.84       217\n",
      "  PETITIONER       0.30      0.38      0.33         8\n",
      "   PRECEDENT       0.79      0.84      0.82        69\n",
      "   PROVISION       0.99      1.00      1.00       197\n",
      "  RESPONDENT       0.00      0.00      0.00         2\n",
      "     STATUTE       0.99      0.99      0.99       180\n",
      "     WITNESS       0.69      0.69      0.69        45\n",
      "\n",
      "    accuracy                           0.93      1319\n",
      "   macro avg       0.76      0.80      0.78      1319\n",
      "weighted avg       0.93      0.93      0.93      1319\n",
      "\n"
     ]
    }
   ],
   "source": [
    "detected_true, valid_pred = get_classify_report(labels_true, labels_pred, report=True)"
   ]
  },
  {
   "cell_type": "code",
   "execution_count": 14,
   "id": "805f9b93",
   "metadata": {},
   "outputs": [
    {
     "name": "stdout",
     "output_type": "stream",
     "text": [
      "              precision    recall  f1-score   support\n",
      "\n",
      " CASE_NUMBER       0.58      0.55      0.57       121\n",
      "       COURT       0.82      0.73      0.77       178\n",
      "        DATE       0.90      0.94      0.92       222\n",
      "         GPE       0.64      0.68      0.66       182\n",
      "       JUDGE       0.32      0.88      0.47         8\n",
      "         ORG       0.41      0.30      0.35       159\n",
      "OTHER_PERSON       0.75      0.64      0.69       276\n",
      "  PETITIONER       0.21      0.33      0.26         9\n",
      "   PRECEDENT       0.37      0.33      0.35       177\n",
      "   PROVISION       0.76      0.76      0.76       258\n",
      "  RESPONDENT       0.00      0.00      0.00         5\n",
      "     STATUTE       0.81      0.80      0.80       222\n",
      "     WITNESS       0.48      0.53      0.50        58\n",
      "\n",
      "   micro avg       0.68      0.65      0.67      1875\n",
      "   macro avg       0.54      0.58      0.55      1875\n",
      "weighted avg       0.68      0.65      0.67      1875\n",
      "\n"
     ]
    }
   ],
   "source": [
    "all_labels_compare = get_recognition_report(true = labels_true, pred = labels_pred, report=True)"
   ]
  },
  {
   "cell_type": "code",
   "execution_count": 15,
   "id": "9db879af",
   "metadata": {},
   "outputs": [
    {
     "data": {
      "image/png": "[encoded data removed]",
      "text/plain": [
       "<Figure size 432x288 with 2 Axes>"
      ]
     },
     "metadata": {
      "needs_background": "light"
     },
     "output_type": "display_data"
    }
   ],
   "source": [
    "get_confusion_matrix(pred = all_labels_compare[\"pred\"], true = all_labels_compare[\"true\"], cat=\"natural_person\")"
   ]
  },
  {
   "cell_type": "code",
   "execution_count": null,
   "id": "ffc69fa5",
   "metadata": {},
   "outputs": [],
   "source": []
  },
  {
   "cell_type": "code",
   "execution_count": 39,
   "id": "17db948a",
   "metadata": {},
   "outputs": [
    {
     "name": "stdout",
     "output_type": "stream",
     "text": [
      "X.shape: (349077, 71646)\n"
     ]
    },
    {
     "name": "stderr",
     "output_type": "stream",
     "text": [
      "/home/ccl/oj43ecpu/.local/lib/python3.8/site-packages/sklearn/svm/_base.py:976: ConvergenceWarning: Liblinear failed to converge, increase the number of iterations.\n",
      "  warnings.warn(\"Liblinear failed to converge, increase \"\n"
     ]
    }
   ],
   "source": [
    "from sklearn.feature_selection import SelectFromModel\n",
    "X, y = sparse_train, train_true\n",
    "print(f\"X.shape: {X.shape}\")\n",
    "lsvc_l1 = LinearSVC( penalty='l1', loss = \"squared_hinge\", dual = False, C = 0.35).fit(X, y)\n",
    "lsvc_l2 = LinearSVC( penalty='l2', loss = \"hinge\", C = 0.35).fit(X, y)"
   ]
  },
  {
   "cell_type": "code",
   "execution_count": 42,
   "id": "e44ec657",
   "metadata": {},
   "outputs": [
    {
     "name": "stdout",
     "output_type": "stream",
     "text": [
      "X_train_new.shape: (349077, 18550)\n",
      "X_dev_new.shape: (37455, 18550)\n"
     ]
    }
   ],
   "source": [
    "# L1 norm\n",
    "model_l1 = SelectFromModel(lsvc_l1, prefit=True)\n",
    "X_train_new = model_l1.transform(X)\n",
    "X_dev_new = model_l1.transform(sparse_dev)\n",
    "print(f\"X_train_new.shape: {X_train_new.shape}\")\n",
    "print(f\"X_dev_new.shape: {X_dev_new.shape}\")"
   ]
  },
  {
   "cell_type": "code",
   "execution_count": 43,
   "id": "5560c7b6",
   "metadata": {},
   "outputs": [
    {
     "name": "stdout",
     "output_type": "stream",
     "text": [
      "X_train_new.shape: (349077, 25492)\n",
      "X_dev_new.shape: (37455, 25492)\n"
     ]
    }
   ],
   "source": [
    "# L2 norm\n",
    "model_l2 = SelectFromModel(lsvc_l2, prefit=True)\n",
    "X_train_new = model_l2.transform(X)\n",
    "X_dev_new = model_l2.transform(sparse_dev)\n",
    "print(f\"X_train_new.shape: {X_train_new.shape}\")\n",
    "print(f\"X_dev_new.shape: {X_dev_new.shape}\")"
   ]
  },
  {
   "cell_type": "code",
   "execution_count": null,
   "id": "dc3a1c30",
   "metadata": {},
   "outputs": [],
   "source": []
  },
  {
   "cell_type": "code",
   "execution_count": 28,
   "id": "563da59e",
   "metadata": {},
   "outputs": [
    {
     "name": "stdout",
     "output_type": "stream",
     "text": [
      "X_train.shape: (349077, 71646)\n"
     ]
    }
   ],
   "source": [
    "from sklearn.ensemble import ExtraTreesClassifier\n",
    "from sklearn.feature_selection import SelectFromModel\n",
    "X_train, y_train = sparse_train, train_true\n",
    "print(f\"X_train.shape: {X_train.shape}\")\n",
    "clf = ExtraTreesClassifier(n_estimators=50)\n",
    "clf = clf.fit(X, y)"
   ]
  },
  {
   "cell_type": "code",
   "execution_count": 30,
   "id": "162fe6aa",
   "metadata": {},
   "outputs": [
    {
     "data": {
      "text/plain": [
       "(71646,)"
      ]
     },
     "execution_count": 30,
     "metadata": {},
     "output_type": "execute_result"
    }
   ],
   "source": [
    "clf.feature_importances_.shape"
   ]
  },
  {
   "cell_type": "code",
   "execution_count": 31,
   "id": "bc2cf950",
   "metadata": {},
   "outputs": [
    {
     "name": "stdout",
     "output_type": "stream",
     "text": [
      "X_train_new.shape: (349077, 6983)\n",
      "X_dev_new.shape: (37455, 6983)\n"
     ]
    }
   ],
   "source": [
    "model = SelectFromModel(clf, prefit=True)\n",
    "X_train_new = model.transform(X_train)\n",
    "X_dev_new = model.transform(sparse_dev)\n",
    "print(f\"X_train_new.shape: {X_train_new.shape}\")\n",
    "print(f\"X_dev_new.shape: {X_dev_new.shape}\")"
   ]
  },
  {
   "cell_type": "code",
   "execution_count": 32,
   "id": "59eeae7b",
   "metadata": {},
   "outputs": [
    {
     "name": "stdout",
     "output_type": "stream",
     "text": [
      "CPU times: user 1.13 s, sys: 3 µs, total: 1.13 s\n",
      "Wall time: 1.13 s\n"
     ]
    }
   ],
   "source": [
    "%%time\n",
    "dev_pred = clf.predict(sparse_dev)"
   ]
  },
  {
   "cell_type": "code",
   "execution_count": 33,
   "id": "4d5e2246",
   "metadata": {},
   "outputs": [
    {
     "name": "stdout",
     "output_type": "stream",
     "text": [
      "CPU times: user 5.58 ms, sys: 0 ns, total: 5.58 ms\n",
      "Wall time: 5.29 ms\n",
      "CPU times: user 5.59 ms, sys: 0 ns, total: 5.59 ms\n",
      "Wall time: 5.5 ms\n"
     ]
    }
   ],
   "source": [
    "%time labels_pred = get_all_labels(dev_pred)\n",
    "%time labels_true = get_all_labels(dev_true.tolist())"
   ]
  },
  {
   "cell_type": "code",
   "execution_count": 34,
   "id": "14e54e09",
   "metadata": {},
   "outputs": [
    {
     "name": "stdout",
     "output_type": "stream",
     "text": [
      "              precision    recall  f1-score   support\n",
      "\n",
      " CASE_NUMBER       0.58      0.37      0.45       121\n",
      "       COURT       0.87      0.74      0.80       178\n",
      "        DATE       0.92      0.83      0.87       222\n",
      "         GPE       0.55      0.34      0.42       182\n",
      "       JUDGE       0.45      0.62      0.53         8\n",
      "         ORG       0.46      0.23      0.30       159\n",
      "OTHER_PERSON       0.57      0.34      0.43       276\n",
      "  PETITIONER       0.00      0.00      0.00         9\n",
      "   PRECEDENT       0.28      0.21      0.24       177\n",
      "   PROVISION       0.78      0.76      0.77       258\n",
      "  RESPONDENT       0.00      0.00      0.00         5\n",
      "     STATUTE       0.88      0.76      0.82       222\n",
      "     WITNESS       0.29      0.16      0.20        58\n",
      "\n",
      "   micro avg       0.69      0.52      0.59      1875\n",
      "   macro avg       0.51      0.41      0.45      1875\n",
      "weighted avg       0.65      0.52      0.57      1875\n",
      "\n"
     ]
    },
    {
     "name": "stderr",
     "output_type": "stream",
     "text": [
      "/home/ccl/oj43ecpu/.local/lib/python3.8/site-packages/sklearn/metrics/_classification.py:1221: UndefinedMetricWarning: Precision and F-score are ill-defined and being set to 0.0 in labels with no predicted samples. Use `zero_division` parameter to control this behavior.\n",
      "  _warn_prf(average, modifier, msg_start, len(result))\n"
     ]
    }
   ],
   "source": [
    "all_labels_compare = get_recognition_report(true = labels_true, pred = labels_pred, report=True)"
   ]
  },
  {
   "cell_type": "code",
   "execution_count": null,
   "id": "8b7bda26",
   "metadata": {},
   "outputs": [],
   "source": []
  },
  {
   "cell_type": "code",
   "execution_count": null,
   "id": "fdd4e018",
   "metadata": {},
   "outputs": [],
   "source": []
  },
  {
   "cell_type": "code",
   "execution_count": null,
   "id": "2e702367",
   "metadata": {},
   "outputs": [],
   "source": []
  },
  {
   "cell_type": "code",
   "execution_count": 9,
   "id": "d3b5fc5f",
   "metadata": {},
   "outputs": [],
   "source": [
    "%matplotlib inline\n",
    "import matplotlib.pyplot as plt\n",
    "plt.style.use('ggplot')\n",
    "\n",
    "import sklearn_crfsuite\n",
    "from sklearn_crfsuite import scorers\n",
    "from sklearn_crfsuite import metrics"
   ]
  },
  {
   "cell_type": "code",
   "execution_count": 10,
   "id": "78c33510",
   "metadata": {
    "tags": []
   },
   "outputs": [],
   "source": [
    "def word2features(sent, i):\n",
    "    word = sent[i][0]\n",
    "    postag = sent[i][1]\n",
    "\n",
    "    features = {\n",
    "        'bias': 1.0,\n",
    "        'word.lower()': word.lower(),\n",
    "        'word[-3:]': word[-3:],\n",
    "        'word[-2:]': word[-2:],\n",
    "        'word.isupper()': word.isupper(),\n",
    "        'word.istitle()': word.istitle(),\n",
    "        'word.isdigit()': word.isdigit(),\n",
    "        'postag': postag,\n",
    "        'postag[:2]': postag[:2],\n",
    "    }\n",
    "    if i > 0:\n",
    "        word1 = sent[i-1][0]\n",
    "        postag1 = sent[i-1][1]\n",
    "        features.update({\n",
    "            '-1:word.lower()': word1.lower(),\n",
    "            '-1:word.istitle()': word1.istitle(),\n",
    "            '-1:word.isupper()': word1.isupper(),\n",
    "            '-1:postag': postag1,\n",
    "            '-1:postag[:2]': postag1[:2],\n",
    "        })\n",
    "    else:\n",
    "        features['BOS'] = True\n",
    "\n",
    "    if i < len(sent)-1:\n",
    "        word1 = sent[i+1][0]\n",
    "        postag1 = sent[i+1][1]\n",
    "        features.update({\n",
    "            '+1:word.lower()': word1.lower(),\n",
    "            '+1:word.istitle()': word1.istitle(),\n",
    "            '+1:word.isupper()': word1.isupper(),\n",
    "            '+1:postag': postag1,\n",
    "            '+1:postag[:2]': postag1[:2],\n",
    "        })\n",
    "    else:\n",
    "        features['EOS'] = True\n",
    "\n",
    "    return features\n",
    "\n",
    "\n",
    "def sent2features(sent):\n",
    "    return [word2features(sent, i) for i in range(len(sent))]\n",
    "\n",
    "def sent2labels(sent):\n",
    "    return [label for token, postag, label in sent]\n",
    "\n",
    "def sent2tokens(sent):\n",
    "    return [token for token, postag, label in sent]"
   ]
  },
  {
   "cell_type": "code",
   "execution_count": 11,
   "id": "6b433907",
   "metadata": {
    "tags": []
   },
   "outputs": [],
   "source": [
    "df_train = pd.read_csv(\"transitional_data/tagged_train_filled.csv\", keep_default_na=False)\n",
    "df_dev = pd.read_csv(\"transitional_data/tagged_dev_filled.csv\", keep_default_na=False)"
   ]
  },
  {
   "cell_type": "code",
   "execution_count": 12,
   "id": "680c6793",
   "metadata": {
    "tags": []
   },
   "outputs": [],
   "source": [
    "train = df_train[[\"Token\", \"standard_tagger\", \"Label\"]]\n",
    "dev = df_dev[[\"Token\", \"standard_tagger\", \"Label\"]]"
   ]
  },
  {
   "cell_type": "code",
   "execution_count": 13,
   "id": "0ac7081b",
   "metadata": {
    "tags": []
   },
   "outputs": [],
   "source": [
    "train = train.values.tolist()\n",
    "dev = dev.values.tolist()"
   ]
  },
  {
   "cell_type": "code",
   "execution_count": null,
   "id": "163d838e",
   "metadata": {
    "tags": []
   },
   "outputs": [],
   "source": []
  },
  {
   "cell_type": "code",
   "execution_count": 14,
   "id": "57c37aa1",
   "metadata": {
    "tags": []
   },
   "outputs": [],
   "source": [
    "def enumerate_tokens(sentence):\n",
    "    c = 1\n",
    "    for index, row in sentence.iterrows():\n",
    "        sentence.at[index, 'TokenNR'] = c\n",
    "        c += 1\n",
    "    return sentence"
   ]
  },
  {
   "cell_type": "code",
   "execution_count": 15,
   "id": "f0c27a62",
   "metadata": {
    "tags": []
   },
   "outputs": [
    {
     "name": "stdout",
     "output_type": "stream",
     "text": [
      "CPU times: user 2.84 s, sys: 0 ns, total: 2.84 s\n",
      "Wall time: 2.83 s\n",
      "CPU times: user 26.9 s, sys: 37 ms, total: 27 s\n",
      "Wall time: 26.9 s\n"
     ]
    }
   ],
   "source": [
    "%time df_dev = df_dev.groupby(by = 'SentenceNR', group_keys=True).apply(enumerate_tokens)\n",
    "%time df_train = df_train.groupby(by = 'SentenceNR', group_keys=True).apply(enumerate_tokens)"
   ]
  },
  {
   "cell_type": "code",
   "execution_count": 16,
   "id": "4dff742a",
   "metadata": {
    "tags": []
   },
   "outputs": [],
   "source": [
    "train_SentenceNR = df_train.SentenceNR.unique()\n",
    "dev_SentenceNR = df_dev.SentenceNR.unique()"
   ]
  },
  {
   "cell_type": "code",
   "execution_count": 17,
   "id": "ea54f7f0",
   "metadata": {
    "tags": []
   },
   "outputs": [],
   "source": [
    "train_sents = [df_train[ df_train[\"SentenceNR\"]==nr][[\"Token\", \"standard_tagger\", \"Label\"]].values.tolist() for nr in train_SentenceNR ]\n",
    "dev_sents = [df_dev[ df_dev[\"SentenceNR\"]==nr][[\"Token\", \"standard_tagger\", \"Label\"]].values.tolist() for nr in dev_SentenceNR ]"
   ]
  },
  {
   "cell_type": "code",
   "execution_count": 18,
   "id": "703409d5",
   "metadata": {
    "tags": []
   },
   "outputs": [
    {
     "name": "stdout",
     "output_type": "stream",
     "text": [
      "CPU times: user 584 ms, sys: 88.2 ms, total: 673 ms\n",
      "Wall time: 670 ms\n"
     ]
    }
   ],
   "source": [
    "%%time\n",
    "X_train = [sent2features(s) for s in train_sents]\n",
    "y_train = [sent2labels(s) for s in train_sents]\n",
    "\n",
    "X_dev = [sent2features(s) for s in dev_sents]\n",
    "y_dev = [sent2labels(s) for s in dev_sents]"
   ]
  },
  {
   "cell_type": "code",
   "execution_count": null,
   "id": "1bf04865",
   "metadata": {
    "tags": []
   },
   "outputs": [],
   "source": []
  },
  {
   "cell_type": "code",
   "execution_count": 22,
   "id": "b9cc54e6",
   "metadata": {
    "tags": []
   },
   "outputs": [
    {
     "name": "stdout",
     "output_type": "stream",
     "text": [
      "CPU times: user 1min 15s, sys: 57.5 ms, total: 1min 15s\n",
      "Wall time: 1min 15s\n"
     ]
    },
    {
     "name": "stderr",
     "output_type": "stream",
     "text": [
      "/home/ccl/oj43ecpu/.local/lib/python3.8/site-packages/sklearn/base.py:209: FutureWarning: From version 0.24, get_params will raise an AttributeError if a parameter cannot be retrieved as an instance attribute. Previously it would return None.\n",
      "  warnings.warn('From version 0.24, get_params will raise an '\n"
     ]
    },
    {
     "data": {
      "text/plain": [
       "CRF(algorithm='lbfgs', all_possible_transitions=True, c1=0.17311222730699913,\n",
       "    c2=0.2034091783796535, keep_tempfiles=None, max_iterations=100)"
      ]
     },
     "execution_count": 22,
     "metadata": {},
     "output_type": "execute_result"
    }
   ],
   "source": [
    "%%time\n",
    "crf = sklearn_crfsuite.CRF(\n",
    "    algorithm='lbfgs',\n",
    "    #{'c1': 0.17311222730699913, 'c2': 0.2034091783796535}\n",
    "    c1=0.17311222730699913,\n",
    "    c2=0.2034091783796535,\n",
    "    max_iterations=100,\n",
    "    all_possible_transitions=True\n",
    ")\n",
    "crf.fit(X_train, y_train)\n"
   ]
  },
  {
   "cell_type": "code",
   "execution_count": 23,
   "id": "35d88c2e",
   "metadata": {
    "tags": []
   },
   "outputs": [],
   "source": [
    "labels = ['B-ORG', 'I-ORG', 'B-OTHER_PERSON', 'I-OTHER_PERSON', 'B-WITNESS', 'I-WITNESS', 'B-GPE', 'B-STATUTE', 'B-DATE', 'I-DATE', 'B-PROVISION', 'I-PROVISION', 'I-STATUTE', 'B-COURT', 'I-COURT', 'B-PRECEDENT', 'I-PRECEDENT', 'B-CASE_NUMBER', 'I-CASE_NUMBER', 'I-GPE', 'B-PETITIONER', 'I-PETITIONER', 'B-JUDGE', 'I-JUDGE', 'B-RESPONDENT', 'I-RESPONDENT']\n"
   ]
  },
  {
   "cell_type": "code",
   "execution_count": 24,
   "id": "2f19aca6",
   "metadata": {
    "tags": []
   },
   "outputs": [],
   "source": [
    "y_pred = crf.predict(X_dev)"
   ]
  },
  {
   "cell_type": "code",
   "execution_count": null,
   "id": "f9c9a2d0",
   "metadata": {},
   "outputs": [],
   "source": []
  },
  {
   "cell_type": "code",
   "execution_count": 25,
   "id": "cd1337b5",
   "metadata": {
    "tags": []
   },
   "outputs": [],
   "source": [
    "from evaluation import get_recognition_report, get_all_labels"
   ]
  },
  {
   "cell_type": "code",
   "execution_count": 26,
   "id": "3ec9bacf",
   "metadata": {
    "tags": []
   },
   "outputs": [],
   "source": [
    "from functools import reduce\n",
    "y_dev = reduce(lambda a,b:a+b, y_dev)\n",
    "y_pred = reduce(lambda a,b:a+b, y_pred)"
   ]
  },
  {
   "cell_type": "code",
   "execution_count": 27,
   "id": "e11b1b31",
   "metadata": {
    "tags": []
   },
   "outputs": [],
   "source": [
    "y_pred = get_all_labels(y_pred)\n",
    "y_true = get_all_labels(y_dev)"
   ]
  },
  {
   "cell_type": "code",
   "execution_count": 28,
   "id": "e4838fc5",
   "metadata": {
    "tags": []
   },
   "outputs": [
    {
     "name": "stdout",
     "output_type": "stream",
     "text": [
      "              precision    recall  f1-score   support\n",
      "\n",
      " CASE_NUMBER       0.79      0.64      0.71       121\n",
      "       COURT       0.89      0.83      0.85       178\n",
      "        DATE       0.95      0.91      0.93       222\n",
      "         GPE       0.68      0.54      0.60       182\n",
      "       JUDGE       0.80      1.00      0.89         8\n",
      "         ORG       0.66      0.47      0.55       159\n",
      "OTHER_PERSON       0.78      0.71      0.74       276\n",
      "  PETITIONER       0.30      0.33      0.32         9\n",
      "   PRECEDENT       0.68      0.60      0.64       177\n",
      "   PROVISION       0.92      0.87      0.89       258\n",
      "  RESPONDENT       0.00      0.00      0.00         5\n",
      "     STATUTE       0.87      0.82      0.85       222\n",
      "     WITNESS       0.59      0.47      0.52        58\n",
      "\n",
      "   micro avg       0.81      0.72      0.76      1875\n",
      "   macro avg       0.68      0.63      0.65      1875\n",
      "weighted avg       0.80      0.72      0.75      1875\n",
      "\n"
     ]
    }
   ],
   "source": [
    "all_labels_compare = get_recognition_report(y_true, y_pred, report=True)"
   ]
  },
  {
   "cell_type": "code",
   "execution_count": 34,
   "id": "d499d880",
   "metadata": {},
   "outputs": [
    {
     "name": "stdout",
     "output_type": "stream",
     "text": [
      "Top likely transitions:\n",
      "B-COURT \t->\t I-COURT 6.634040\n",
      "I-ORG  \t->\t I-ORG   6.604673\n",
      "B-ORG  \t->\t I-ORG   6.581671\n",
      "I-PROVISION \t->\t I-PROVISION 6.508698\n",
      "B-CASE_NUMBER \t->\t I-CASE_NUMBER 6.089499\n",
      "B-RESPONDENT \t->\t I-RESPONDENT 6.088118\n",
      "B-PROVISION \t->\t I-PROVISION 6.055514\n",
      "B-JUDGE \t->\t I-JUDGE 6.051411\n",
      "I-COURT \t->\t I-COURT 5.929151\n",
      "I-RESPONDENT \t->\t I-RESPONDENT 5.891065\n",
      "B-PETITIONER \t->\t I-PETITIONER 5.886041\n",
      "I-CASE_NUMBER \t->\t I-CASE_NUMBER 5.739036\n",
      "I-STATUTE \t->\t I-STATUTE 5.672302\n",
      "B-OTHER_PERSON \t->\t I-OTHER_PERSON 5.514474\n",
      "B-PRECEDENT \t->\t I-PRECEDENT 5.307245\n",
      "B-STATUTE \t->\t I-STATUTE 5.240033\n",
      "I-PRECEDENT \t->\t I-PRECEDENT 5.196088\n",
      "I-PETITIONER \t->\t I-PETITIONER 5.169114\n",
      "I-JUDGE \t->\t I-JUDGE 4.944655\n",
      "B-DATE \t->\t I-DATE  4.731277\n"
     ]
    }
   ],
   "source": [
    "from collections import Counter\n",
    "\n",
    "def print_transitions(trans_features):\n",
    "    for (label_from, label_to), weight in trans_features:\n",
    "        print(\"%-6s \\t->\\t %-7s %0.6f\" % (label_from, label_to, weight))\n",
    "\n",
    "print(\"Top likely transitions:\")\n",
    "print_transitions(Counter(crf.transition_features_).most_common(20))"
   ]
  },
  {
   "cell_type": "code",
   "execution_count": 35,
   "id": "520dfd80",
   "metadata": {},
   "outputs": [
    {
     "name": "stdout",
     "output_type": "stream",
     "text": [
      "Top positive:\n",
      "5.912660 B-JUDGE  -1:word.lower():justice\n",
      "5.840469 B-ORG    word.lower():parliament\n",
      "5.659227 B-STATUTE word.lower():constitution\n",
      "5.058730 B-PETITIONER -1:word.lower():appellant\n",
      "5.020820 B-WITNESS -1:word.lower():witness\n",
      "4.942253 B-GPE    -1:word.lower():village\n",
      "4.599063 o        BOS\n",
      "4.479745 B-OTHER_PERSON -1:word.lower():mr.\n",
      "4.363304 B-RESPONDENT -1:word.lower():respondent\n",
      "4.334479 B-STATUTE word[-2:]:PC\n",
      "4.088398 B-JUDGE  +1:word.lower():j.\n",
      "4.054246 B-PETITIONER -1:word.lower():petitioner\n",
      "3.889782 B-STATUTE word.lower():cr.p.c.\n",
      "3.813236 o        word.lower():shri\n",
      "3.689824 o        EOS\n",
      "3.653998 B-ORG    -1:word.lower():m/s.\n",
      "3.639895 B-RESPONDENT word.lower():sidhu-respondent\n",
      "3.639895 B-RESPONDENT -1:word.lower():prof.\n",
      "3.615445 B-DATE   -1:word.lower():dated\n",
      "3.558988 I-PROVISION -1:word.lower():section\n",
      "3.459603 B-OTHER_PERSON -1:word.lower():shri\n",
      "3.416740 B-OTHER_PERSON -1:word.lower():lord\n",
      "3.401350 B-OTHER_PERSON BOS\n",
      "3.380099 B-GPE    -1:word.lower():district\n",
      "3.341876 B-ORG    -1:word.lower():messrs.\n",
      "3.326135 B-STATUTE word[-3:]:P.C\n",
      "3.283966 B-STATUTE word[-3:]:PC.\n",
      "3.235764 B-DATE   -1:word.lower():on\n",
      "3.232984 o        word.lower():justice\n",
      "3.208536 B-STATUTE word.lower():i.p.c.\n",
      "\n",
      "Top negative:\n",
      "-2.079965 o        word[-3:]:kar\n",
      "-2.080632 o        -1:word.lower():supreme\n",
      "-2.101397 o        word.lower():united\n",
      "-2.101777 o        word.lower():limited\n",
      "-2.112329 o        word[-3:]:012\n",
      "-2.113167 o        word[-2:]:MA\n",
      "-2.143250 o        word.lower():constitution\n",
      "-2.154323 o        word[-2:]:ka\n",
      "-2.159673 o        word[-3:]:ngh\n",
      "-2.176308 o        word.lower():madras\n",
      "-2.186494 o        word[-2:]:av\n",
      "-2.205373 o        word[-2:]:DA\n",
      "-2.255331 o        -1:word.lower():justice\n",
      "-2.288602 o        word[-3:]:ira\n",
      "-2.295960 o        -1:word.lower():united\n",
      "-2.319678 o        word[-2:]:TA\n",
      "-2.336041 o        word[-2:]:PC\n",
      "-2.394625 o        word[-2:]:BI\n",
      "-2.405641 I-WITNESS word.isupper()\n",
      "-2.452497 o        -1:word.lower():sri\n",
      "-2.486915 I-PRECEDENT -1:word.lower():]\n",
      "-2.493765 o        word.lower():parliament\n",
      "-2.562522 o        -1:word.lower():smt.\n",
      "-2.668181 o        -1:word.lower():ltd\n",
      "-2.698582 o        -1:word.lower():mr.\n",
      "-2.867852 o        word[-3:]:lal\n",
      "-3.076056 o        -1:word.lower():dr.\n",
      "-3.097427 o        +1:word.lower():s/o\n",
      "-3.284672 o        word[-2:]:ah\n",
      "-5.113884 B-DATE   word.isdigit()\n"
     ]
    }
   ],
   "source": [
    "def print_state_features(state_features):\n",
    "    for (attr, label), weight in state_features:\n",
    "        print(\"%0.6f %-8s %s\" % (weight, label, attr))\n",
    "\n",
    "print(\"Top positive:\")\n",
    "print_state_features(Counter(crf.state_features_).most_common(30))\n",
    "\n",
    "print(\"\\nTop negative:\")\n",
    "print_state_features(Counter(crf.state_features_).most_common()[-30:])"
   ]
  },
  {
   "cell_type": "code",
   "execution_count": null,
   "id": "c816cd7d",
   "metadata": {},
   "outputs": [],
   "source": []
  },
  {
   "cell_type": "code",
   "execution_count": null,
   "id": "55bb7fb7",
   "metadata": {},
   "outputs": [],
   "source": []
  },
  {
   "cell_type": "code",
   "execution_count": null,
   "id": "ab096d6f",
   "metadata": {},
   "outputs": [],
   "source": []
  },
  {
   "cell_type": "code",
   "execution_count": null,
   "id": "e9212f7e",
   "metadata": {},
   "outputs": [],
   "source": []
  },
  {
   "cell_type": "code",
   "execution_count": null,
   "id": "547acb09",
   "metadata": {},
   "outputs": [],
   "source": []
  },
  {
   "cell_type": "code",
   "execution_count": null,
   "id": "69b5991c",
   "metadata": {
    "tags": []
   },
   "outputs": [],
   "source": []
  },
  {
   "cell_type": "code",
   "execution_count": 29,
   "id": "7c530372",
   "metadata": {
    "tags": []
   },
   "outputs": [
    {
     "data": {
      "text/plain": [
       "'0.23.2'"
      ]
     },
     "execution_count": 29,
     "metadata": {},
     "output_type": "execute_result"
    }
   ],
   "source": [
    "sklearn.__version__"
   ]
  },
  {
   "cell_type": "code",
   "execution_count": 22,
   "id": "7bf14ecc",
   "metadata": {
    "tags": []
   },
   "outputs": [
    {
     "name": "stdout",
     "output_type": "stream",
     "text": [
      "Fitting 3 folds for each of 50 candidates, totalling 150 fits\n"
     ]
    },
    {
     "name": "stderr",
     "output_type": "stream",
     "text": [
      "[Parallel(n_jobs=-1)]: Using backend LokyBackend with 12 concurrent workers.\n",
      "[Parallel(n_jobs=-1)]: Done  26 tasks      | elapsed:  6.1min\n",
      "[Parallel(n_jobs=-1)]: Done 150 out of 150 | elapsed: 26.0min finished\n"
     ]
    },
    {
     "name": "stdout",
     "output_type": "stream",
     "text": [
      "CPU times: user 3min 51s, sys: 15 s, total: 4min 6s\n",
      "Wall time: 27min 12s\n"
     ]
    },
    {
     "data": {
      "text/plain": [
       "RandomizedSearchCV(cv=3,\n",
       "                   estimator=CRF(algorithm='lbfgs',\n",
       "                                 all_possible_transitions=True,\n",
       "                                 keep_tempfiles=None, max_iterations=100),\n",
       "                   n_iter=50, n_jobs=-1,\n",
       "                   param_distributions={'c1': <scipy.stats._distn_infrastructure.rv_frozen object at 0x7f7b71df0d90>,\n",
       "                                        'c2': <scipy.stats._distn_infrastructure.rv_frozen object at 0x7f7b71dc0640>},\n",
       "                   scoring=make_scorer(flat_f1_score, av...=weighted, labels=['B-ORG', 'I-ORG', 'B-OTHER_PERSON', 'I-OTHER_PERSON', 'B-WITNESS', 'I-WITNESS', 'B-GPE', 'B-STATUTE', 'B-DATE', 'I-DATE', 'B-PROVISION', 'I-PROVISION', 'I-STATUTE', 'B-COURT', 'I-COURT', 'B-PRECEDENT', 'I-PRECEDENT', 'B-CASE_NUMBER', 'I-CASE_NUMBER', 'I-GPE', 'B-PETITIONER', 'I-PETITIONER', 'B-JUDGE', 'I-JUDGE', 'B-RESPONDENT', 'I-RESPONDENT']),\n",
       "                   verbose=1)"
      ]
     },
     "execution_count": 22,
     "metadata": {},
     "output_type": "execute_result"
    }
   ],
   "source": [
    "%%time\n",
    "# define fixed parameters and parameters to search\n",
    "crf = sklearn_crfsuite.CRF(\n",
    "    algorithm='lbfgs',\n",
    "    max_iterations=100,\n",
    "    all_possible_transitions=True\n",
    ")\n",
    "params_space = {\n",
    "    'c1': scipy.stats.expon(scale=0.5),\n",
    "    'c2': scipy.stats.expon(scale=0.05),\n",
    "}\n",
    "\n",
    "# use the same metric for evaluation\n",
    "f1_scorer = make_scorer(metrics.flat_f1_score,\n",
    "                        average='weighted', labels=labels)\n",
    "\n",
    "# search\n",
    "rs = RandomizedSearchCV(crf, params_space,\n",
    "                        cv=3,\n",
    "                        verbose=1,\n",
    "                        n_jobs=-1,\n",
    "                        n_iter=50,\n",
    "                        scoring=f1_scorer)\n",
    "rs.fit(X_train, y_train)"
   ]
  },
  {
   "cell_type": "code",
   "execution_count": 23,
   "id": "86a5b18f",
   "metadata": {},
   "outputs": [
    {
     "name": "stdout",
     "output_type": "stream",
     "text": [
      "best params: {'c1': 0.17311222730699913, 'c2': 0.2034091783796535}\n",
      "best CV score: 0.8064517715530343\n",
      "model size: 2.56M\n"
     ]
    }
   ],
   "source": [
    "# crf = rs.best_estimator_\n",
    "print('best params:', rs.best_params_)\n",
    "print('best CV score:', rs.best_score_)\n",
    "print('model size: {:0.2f}M'.format(rs.best_estimator_.size_ / 1000000))"
   ]
  },
  {
   "cell_type": "code",
   "execution_count": 51,
   "id": "2a905b5b",
   "metadata": {},
   "outputs": [],
   "source": [
    "crf = rs.best_estimator_\n",
    "y_pred = crf.predict(X_dev)\n",
    "#print(metrics.flat_classification_report(\n",
    "#    y_true, y_pred, labels=sorted_labels, digits=3\n",
    "#))"
   ]
  },
  {
   "cell_type": "code",
   "execution_count": 52,
   "id": "4859c140",
   "metadata": {},
   "outputs": [],
   "source": [
    "y_dev = reduce(lambda a,b:a+b, y_dev)\n",
    "y_pred = reduce(lambda a,b:a+b, y_pred)"
   ]
  },
  {
   "cell_type": "code",
   "execution_count": 53,
   "id": "87430197",
   "metadata": {},
   "outputs": [],
   "source": [
    "y_pred = get_all_labels(y_pred)\n",
    "y_true = get_all_labels(y_dev)"
   ]
  },
  {
   "cell_type": "code",
   "execution_count": 54,
   "id": "f379a718",
   "metadata": {},
   "outputs": [
    {
     "name": "stdout",
     "output_type": "stream",
     "text": [
      "              precision    recall  f1-score   support\n",
      "\n",
      "                   0.00      0.00      0.00    2377.0\n",
      "\n",
      "   micro avg       0.00      0.00      0.00    2377.0\n",
      "   macro avg       0.00      0.00      0.00    2377.0\n",
      "weighted avg       0.00      0.00      0.00    2377.0\n",
      "\n"
     ]
    }
   ],
   "source": [
    "all_labels_compare = get_recognition_report(y_true, y_pred, report=True)"
   ]
  },
  {
   "cell_type": "code",
   "execution_count": null,
   "id": "be312d42",
   "metadata": {},
   "outputs": [],
   "source": [
    "from collections import Counter\n",
    "\n",
    "def print_transitions(trans_features):\n",
    "    for (label_from, label_to), weight in trans_features:\n",
    "        print(\"%-6s -> %-7s %0.6f\" % (label_from, label_to, weight))\n",
    "\n",
    "print(\"Top likely transitions:\")\n",
    "print_transitions(Counter(crf.transition_features_).most_common(20))\n",
    "\n",
    "print(\"\\nTop unlikely transitions:\")\n",
    "print_transitions(Counter(crf.transition_features_).most_common()[-20:])"
   ]
  },
  {
   "cell_type": "code",
   "execution_count": null,
   "id": "d6b7a0e2",
   "metadata": {},
   "outputs": [],
   "source": []
  },
  {
   "cell_type": "code",
   "execution_count": null,
   "id": "77575ec6",
   "metadata": {},
   "outputs": [],
   "source": []
  },
  {
   "cell_type": "code",
   "execution_count": null,
   "id": "d0de81de",
   "metadata": {},
   "outputs": [],
   "source": []
  }
 ],
 "metadata": {
  "kernelspec": {
   "display_name": "Python 3",
   "language": "python",
   "name": "python3"
  },
  "language_info": {
   "codemirror_mode": {
    "name": "ipython",
    "version": 3
   },
   "file_extension": ".py",
   "mimetype": "text/x-python",
   "name": "python",
   "nbconvert_exporter": "python",
   "pygments_lexer": "ipython3",
   "version": "3.8.10"
  }
 },
 "nbformat": 4,
 "nbformat_minor": 5
}
