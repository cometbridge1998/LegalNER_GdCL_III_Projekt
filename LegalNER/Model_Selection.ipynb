{
 "cells": [
  {
   "cell_type": "markdown",
   "id": "a2fa9ee2",
   "metadata": {},
   "source": [
    "# Model Selection"
   ]
  },
  {
   "cell_type": "markdown",
   "id": "999f0baf",
   "metadata": {},
   "source": [
    "compare the machine learning results of a <b>support vector machine</b> (SVC) of sklearn and the <b>sklearn_crfsuite</b> model, which is especially designed to learn the sequence of labels. <br>"
   ]
  },
  {
   "cell_type": "code",
   "execution_count": 1,
   "id": "90f32450",
   "metadata": {
    "tags": []
   },
   "outputs": [],
   "source": [
    "import nltk\n",
    "import pandas as pd\n",
    "import numpy as np\n",
    "import scipy as sp\n",
    "import sklearn\n",
    "from scipy import sparse\n",
    "from sklearn.svm import LinearSVC\n",
    "from sklearn.model_selection import GridSearchCV"
   ]
  },
  {
   "cell_type": "code",
   "execution_count": 2,
   "id": "078deac5",
   "metadata": {
    "tags": []
   },
   "outputs": [],
   "source": [
    "from evaluation import get_all_labels, get_classify_report, get_recognition_report, get_confusion_matrix"
   ]
  },
  {
   "cell_type": "code",
   "execution_count": 3,
   "id": "e5bbc111",
   "metadata": {
    "tags": []
   },
   "outputs": [],
   "source": [
    "sparse_train = sp.sparse.load_npz('transitional_data/X5_train.npz')\n",
    "sparse_dev = sp.sparse.load_npz('transitional_data/X5_dev.npz')"
   ]
  },
  {
   "cell_type": "code",
   "execution_count": 4,
   "id": "471e027d",
   "metadata": {
    "tags": []
   },
   "outputs": [],
   "source": [
    "y_train = pd.read_csv(\"transitional_data/y_train.csv\")\n",
    "y_dev = pd.read_csv(\"transitional_data/y_dev.csv\")"
   ]
  },
  {
   "cell_type": "code",
   "execution_count": 5,
   "id": "f167b8f3",
   "metadata": {
    "tags": []
   },
   "outputs": [],
   "source": [
    "y_train = y_train.groupby(by = 'SentenceNR', group_keys=True).apply(lambda x: x)\n",
    "y_train = y_train.rename(columns={\"SentenceNR\": \"Sent\", \"Unnamed: 1\": \"TokenNr\"})"
   ]
  },
  {
   "cell_type": "code",
   "execution_count": 6,
   "id": "12a22ca4",
   "metadata": {
    "tags": []
   },
   "outputs": [],
   "source": [
    "y_dev = y_dev.groupby(by = 'SentenceNR', group_keys=True).apply(lambda x: x)\n",
    "y_dev = y_dev.rename(columns={\"SentenceNR\": \"Sent\", \"Unnamed: 1\": \"TokenNr\"})"
   ]
  },
  {
   "cell_type": "code",
   "execution_count": 7,
   "id": "30cb3d5c",
   "metadata": {
    "tags": []
   },
   "outputs": [],
   "source": [
    "train_true = y_train[\"Label\"]\n",
    "dev_true = y_dev[\"Label\"]"
   ]
  },
  {
   "cell_type": "code",
   "execution_count": null,
   "id": "8a6e8a61",
   "metadata": {},
   "outputs": [],
   "source": []
  },
  {
   "cell_type": "markdown",
   "id": "61adce21",
   "metadata": {},
   "source": [
    "## Parameter fine tuning for the LinearSVC model"
   ]
  },
  {
   "cell_type": "code",
   "execution_count": 23,
   "id": "8d101619",
   "metadata": {
    "tags": []
   },
   "outputs": [],
   "source": [
    "param_grid = {\n",
    "    \"penalty\": [\"l1\", \"l2\"],\n",
    "    \"loss\": [\"hinge\", \"squared_hinge\"],\n",
    "    \"class_weight\": [\"balanced\", None],\n",
    "}"
   ]
  },
  {
   "cell_type": "code",
   "execution_count": 24,
   "id": "a23677ad",
   "metadata": {
    "tags": []
   },
   "outputs": [],
   "source": [
    "svc = LinearSVC()"
   ]
  },
  {
   "cell_type": "code",
   "execution_count": 7,
   "id": "28c05e24",
   "metadata": {
    "tags": []
   },
   "outputs": [],
   "source": [
    "if False:\n",
    "    %%time\n",
    "    svc_gs = GridSearchCV(svc, param_grid, scoring = \"f1_weighted\", n_jobs = -1, refit='accuracy', cv=0, verbose=1 )\n",
    "    svc_gs.fit(sparse_train, train_true)\n",
    "    print(svc_gs.best_score_)\n",
    "    print(svc_gs.best_params_)\n",
    "    print(svc_gs.cv_results_)"
   ]
  },
  {
   "cell_type": "code",
   "execution_count": 29,
   "id": "5485c133",
   "metadata": {},
   "outputs": [],
   "source": [
    "regularization_grid1 = {\n",
    "    \"penalty\": [\"l2\"],\n",
    "    \"loss\": [\"hinge\"],\n",
    "    \"class_weight\": [None],\n",
    "    \"C\": [0.001, 0.01, 0.1, 1],\n",
    "}"
   ]
  },
  {
   "cell_type": "code",
   "execution_count": 8,
   "id": "e793e94c",
   "metadata": {
    "tags": []
   },
   "outputs": [],
   "source": [
    "if False:\n",
    "    %%time\n",
    "    svc_gs = GridSearchCV(svc, regularization_grid1, scoring = \"f1_weighted\", n_jobs = -1, refit='accuracy', cv=5, verbose=1 )\n",
    "    svc_gs.fit(sparse_train, train_true)\n",
    "    print(svc_gs.best_score_)\n",
    "    print(svc_gs.best_params_)\n",
    "    print(svc_gs.cv_results_)"
   ]
  },
  {
   "cell_type": "code",
   "execution_count": 10,
   "id": "19b31c5d",
   "metadata": {
    "tags": []
   },
   "outputs": [],
   "source": [
    "regularization_grid2 = {\n",
    "    \"penalty\": [\"l2\"],\n",
    "    \"loss\": [\"hinge\"],\n",
    "    \"class_weight\": [None],\n",
    "    \"C\": [0.2, 0.4, 0.6, 0.8, 1.0],\n",
    "}"
   ]
  },
  {
   "cell_type": "code",
   "execution_count": 11,
   "id": "95e79da3",
   "metadata": {
    "tags": []
   },
   "outputs": [],
   "source": [
    "if False:\n",
    "    %%time\n",
    "    svc_gs = GridSearchCV(svc, regularization_grid2, scoring = \"f1_weighted\", n_jobs = -1, refit='accuracy', cv=5, verbose=1 )\n",
    "    svc_gs.fit(sparse_train, train_true)\n",
    "    print(svc_gs.best_score_)\n",
    "    print(svc_gs.best_params_)\n",
    "    print(svc_gs.cv_results_)"
   ]
  },
  {
   "cell_type": "code",
   "execution_count": 12,
   "id": "4be9efed",
   "metadata": {
    "tags": []
   },
   "outputs": [],
   "source": [
    "regularization_grid3 = {\n",
    "    \"penalty\": [\"l2\"],\n",
    "    \"loss\": [\"hinge\"],\n",
    "    \"class_weight\": [None],\n",
    "    \"C\": [0.25, 0.3, 0.35, 0.4, 0.45, 0.5, 0.55],\n",
    "}"
   ]
  },
  {
   "cell_type": "code",
   "execution_count": 13,
   "id": "478c53ca",
   "metadata": {
    "tags": []
   },
   "outputs": [],
   "source": [
    "if False:\n",
    "    %%time\n",
    "    svc_gs = GridSearchCV(svc, regularization_grid3, scoring = \"f1_weighted\", n_jobs = -1, refit='accuracy', cv=5, verbose=1 )\n",
    "    svc_gs.fit(sparse_train, train_true)\n",
    "    print(svc_gs.best_score_)\n",
    "    print(svc_gs.best_params_)\n",
    "    print(svc_gs.cv_results_)"
   ]
  },
  {
   "cell_type": "markdown",
   "id": "67b0224f",
   "metadata": {},
   "source": [
    "## best paramter combination according to the GridSearchCV\n",
    "#### {'C': 0.35, 'class_weight': None, 'loss': 'hinge', 'penalty': 'l2'}\n",
    "weighed average f1 score of classifying: 93% <br>\n",
    "weighed average f1 score of recognition: 67% <br>"
   ]
  },
  {
   "cell_type": "code",
   "execution_count": 24,
   "id": "6a72801a",
   "metadata": {
    "tags": []
   },
   "outputs": [
    {
     "name": "stdout",
     "output_type": "stream",
     "text": [
      "CPU times: user 40.9 s, sys: 230 ms, total: 41.1 s\n",
      "Wall time: 41.2 s\n"
     ]
    },
    {
     "name": "stderr",
     "output_type": "stream",
     "text": [
      "/home/luxinyao/.local/lib/python3.10/site-packages/sklearn/svm/_base.py:1225: ConvergenceWarning: Liblinear failed to converge, increase the number of iterations.\n",
      "  warnings.warn(\n"
     ]
    },
    {
     "data": {
      "text/html": [
       "<style>#sk-container-id-1 {color: black;background-color: white;}#sk-container-id-1 pre{padding: 0;}#sk-container-id-1 div.sk-toggleable {background-color: white;}#sk-container-id-1 label.sk-toggleable__label {cursor: pointer;display: block;width: 100%;margin-bottom: 0;padding: 0.3em;box-sizing: border-box;text-align: center;}#sk-container-id-1 label.sk-toggleable__label-arrow:before {content: \"▸\";float: left;margin-right: 0.25em;color: #696969;}#sk-container-id-1 label.sk-toggleable__label-arrow:hover:before {color: black;}#sk-container-id-1 div.sk-estimator:hover label.sk-toggleable__label-arrow:before {color: black;}#sk-container-id-1 div.sk-toggleable__content {max-height: 0;max-width: 0;overflow: hidden;text-align: left;background-color: #f0f8ff;}#sk-container-id-1 div.sk-toggleable__content pre {margin: 0.2em;color: black;border-radius: 0.25em;background-color: #f0f8ff;}#sk-container-id-1 input.sk-toggleable__control:checked~div.sk-toggleable__content {max-height: 200px;max-width: 100%;overflow: auto;}#sk-container-id-1 input.sk-toggleable__control:checked~label.sk-toggleable__label-arrow:before {content: \"▾\";}#sk-container-id-1 div.sk-estimator input.sk-toggleable__control:checked~label.sk-toggleable__label {background-color: #d4ebff;}#sk-container-id-1 div.sk-label input.sk-toggleable__control:checked~label.sk-toggleable__label {background-color: #d4ebff;}#sk-container-id-1 input.sk-hidden--visually {border: 0;clip: rect(1px 1px 1px 1px);clip: rect(1px, 1px, 1px, 1px);height: 1px;margin: -1px;overflow: hidden;padding: 0;position: absolute;width: 1px;}#sk-container-id-1 div.sk-estimator {font-family: monospace;background-color: #f0f8ff;border: 1px dotted black;border-radius: 0.25em;box-sizing: border-box;margin-bottom: 0.5em;}#sk-container-id-1 div.sk-estimator:hover {background-color: #d4ebff;}#sk-container-id-1 div.sk-parallel-item::after {content: \"\";width: 100%;border-bottom: 1px solid gray;flex-grow: 1;}#sk-container-id-1 div.sk-label:hover label.sk-toggleable__label {background-color: #d4ebff;}#sk-container-id-1 div.sk-serial::before {content: \"\";position: absolute;border-left: 1px solid gray;box-sizing: border-box;top: 0;bottom: 0;left: 50%;z-index: 0;}#sk-container-id-1 div.sk-serial {display: flex;flex-direction: column;align-items: center;background-color: white;padding-right: 0.2em;padding-left: 0.2em;position: relative;}#sk-container-id-1 div.sk-item {position: relative;z-index: 1;}#sk-container-id-1 div.sk-parallel {display: flex;align-items: stretch;justify-content: center;background-color: white;position: relative;}#sk-container-id-1 div.sk-item::before, #sk-container-id-1 div.sk-parallel-item::before {content: \"\";position: absolute;border-left: 1px solid gray;box-sizing: border-box;top: 0;bottom: 0;left: 50%;z-index: -1;}#sk-container-id-1 div.sk-parallel-item {display: flex;flex-direction: column;z-index: 1;position: relative;background-color: white;}#sk-container-id-1 div.sk-parallel-item:first-child::after {align-self: flex-end;width: 50%;}#sk-container-id-1 div.sk-parallel-item:last-child::after {align-self: flex-start;width: 50%;}#sk-container-id-1 div.sk-parallel-item:only-child::after {width: 0;}#sk-container-id-1 div.sk-dashed-wrapped {border: 1px dashed gray;margin: 0 0.4em 0.5em 0.4em;box-sizing: border-box;padding-bottom: 0.4em;background-color: white;}#sk-container-id-1 div.sk-label label {font-family: monospace;font-weight: bold;display: inline-block;line-height: 1.2em;}#sk-container-id-1 div.sk-label-container {text-align: center;}#sk-container-id-1 div.sk-container {/* jupyter's `normalize.less` sets `[hidden] { display: none; }` but bootstrap.min.css set `[hidden] { display: none !important; }` so we also need the `!important` here to be able to override the default hidden behavior on the sphinx rendered scikit-learn.org. See: https://github.com/scikit-learn/scikit-learn/issues/21755 */display: inline-block !important;position: relative;}#sk-container-id-1 div.sk-text-repr-fallback {display: none;}</style><div id=\"sk-container-id-1\" class=\"sk-top-container\"><div class=\"sk-text-repr-fallback\"><pre>LinearSVC(C=0.35, loss=&#x27;hinge&#x27;)</pre><b>In a Jupyter environment, please rerun this cell to show the HTML representation or trust the notebook. <br />On GitHub, the HTML representation is unable to render, please try loading this page with nbviewer.org.</b></div><div class=\"sk-container\" hidden><div class=\"sk-item\"><div class=\"sk-estimator sk-toggleable\"><input class=\"sk-toggleable__control sk-hidden--visually\" id=\"sk-estimator-id-1\" type=\"checkbox\" checked><label for=\"sk-estimator-id-1\" class=\"sk-toggleable__label sk-toggleable__label-arrow\">LinearSVC</label><div class=\"sk-toggleable__content\"><pre>LinearSVC(C=0.35, loss=&#x27;hinge&#x27;)</pre></div></div></div></div></div>"
      ],
      "text/plain": [
       "LinearSVC(C=0.35, loss='hinge')"
      ]
     },
     "execution_count": 24,
     "metadata": {},
     "output_type": "execute_result"
    }
   ],
   "source": [
    "svc = LinearSVC(C=0.35, class_weight=None, loss=\"hinge\", penalty=\"l2\")\n",
    "%time svc.fit(sparse_train, train_true)"
   ]
  },
  {
   "cell_type": "code",
   "execution_count": 25,
   "id": "440f28dd",
   "metadata": {
    "tags": []
   },
   "outputs": [
    {
     "name": "stdout",
     "output_type": "stream",
     "text": [
      "CPU times: user 44.7 ms, sys: 0 ns, total: 44.7 ms\n",
      "Wall time: 43.9 ms\n"
     ]
    }
   ],
   "source": [
    "%%time\n",
    "dev_pred = svc.predict(sparse_dev)"
   ]
  },
  {
   "cell_type": "code",
   "execution_count": 29,
   "id": "d7982cc7",
   "metadata": {
    "tags": []
   },
   "outputs": [
    {
     "name": "stdout",
     "output_type": "stream",
     "text": [
      "CPU times: user 16.3 ms, sys: 0 ns, total: 16.3 ms\n",
      "Wall time: 16.3 ms\n",
      "CPU times: user 88.1 ms, sys: 0 ns, total: 88.1 ms\n",
      "Wall time: 88.6 ms\n"
     ]
    }
   ],
   "source": [
    "%time labels_pred = get_all_labels(dev_pred)\n",
    "%time labels_true = get_all_labels(dev_true.tolist())"
   ]
  },
  {
   "cell_type": "code",
   "execution_count": 30,
   "id": "70a0cfd6",
   "metadata": {
    "tags": []
   },
   "outputs": [
    {
     "name": "stdout",
     "output_type": "stream",
     "text": [
      "              precision    recall  f1-score   support\n",
      "\n",
      " CASE_NUMBER       0.99      0.96      0.97        70\n",
      "       COURT       0.99      1.00      1.00       130\n",
      "        DATE       1.00      1.00      1.00       208\n",
      "         GPE       0.97      0.97      0.97       128\n",
      "       JUDGE       0.50      1.00      0.67         7\n",
      "         ORG       0.81      0.83      0.82        58\n",
      "OTHER_PERSON       0.88      0.81      0.84       217\n",
      "  PETITIONER       0.30      0.38      0.33         8\n",
      "   PRECEDENT       0.79      0.85      0.82        68\n",
      "   PROVISION       0.99      1.00      1.00       197\n",
      "  RESPONDENT       0.00      0.00      0.00         2\n",
      "     STATUTE       0.99      0.99      0.99       180\n",
      "     WITNESS       0.69      0.69      0.69        45\n",
      "\n",
      "    accuracy                           0.93      1318\n",
      "   macro avg       0.76      0.81      0.78      1318\n",
      "weighted avg       0.93      0.93      0.93      1318\n",
      "\n"
     ]
    }
   ],
   "source": [
    "detected_true, valid_pred = get_classify_report(labels_true, labels_pred, report=True)"
   ]
  },
  {
   "cell_type": "code",
   "execution_count": 31,
   "id": "411157ad",
   "metadata": {
    "tags": []
   },
   "outputs": [
    {
     "name": "stdout",
     "output_type": "stream",
     "text": [
      "              precision    recall  f1-score   support\n",
      "\n",
      " CASE_NUMBER       0.58      0.55      0.57       121\n",
      "       COURT       0.82      0.73      0.77       178\n",
      "        DATE       0.90      0.94      0.92       222\n",
      "         GPE       0.64      0.68      0.66       182\n",
      "       JUDGE       0.32      0.88      0.47         8\n",
      "         ORG       0.41      0.30      0.35       159\n",
      "OTHER_PERSON       0.75      0.64      0.69       276\n",
      "  PETITIONER       0.21      0.33      0.26         9\n",
      "   PRECEDENT       0.37      0.33      0.35       177\n",
      "   PROVISION       0.76      0.76      0.76       258\n",
      "  RESPONDENT       0.00      0.00      0.00         5\n",
      "     STATUTE       0.81      0.80      0.80       222\n",
      "     WITNESS       0.48      0.53      0.50        58\n",
      "\n",
      "   micro avg       0.68      0.65      0.67      1875\n",
      "   macro avg       0.54      0.58      0.55      1875\n",
      "weighted avg       0.68      0.65      0.67      1875\n",
      "\n"
     ]
    }
   ],
   "source": [
    "all_labels_compare = get_recognition_report(true = labels_true, pred = labels_pred, report=True)"
   ]
  },
  {
   "cell_type": "code",
   "execution_count": 32,
   "id": "2c82f81b",
   "metadata": {
    "tags": []
   },
   "outputs": [
    {
     "data": {
      "image/png": "[encoded data removed]",
      "text/plain": [
       "<Figure size 640x480 with 2 Axes>"
      ]
     },
     "metadata": {},
     "output_type": "display_data"
    }
   ],
   "source": [
    "get_confusion_matrix(pred = all_labels_compare[\"pred\"], true = all_labels_compare[\"true\"], cat=\"natural_person\")"
   ]
  },
  {
   "cell_type": "code",
   "execution_count": null,
   "id": "6969b834",
   "metadata": {},
   "outputs": [],
   "source": []
  },
  {
   "cell_type": "markdown",
   "id": "118addf1",
   "metadata": {},
   "source": [
    "## Problem: Feature Selection\n",
    "Which features in the feature matrix make bigger contributions to the machine learning?"
   ]
  },
  {
   "cell_type": "code",
   "execution_count": 39,
   "id": "6990d6d0",
   "metadata": {},
   "outputs": [
    {
     "name": "stdout",
     "output_type": "stream",
     "text": [
      "X.shape: (349077, 71646)\n"
     ]
    },
    {
     "name": "stderr",
     "output_type": "stream",
     "text": [
      "/home/ccl/oj43ecpu/.local/lib/python3.8/site-packages/sklearn/svm/_base.py:976: ConvergenceWarning: Liblinear failed to converge, increase the number of iterations.\n",
      "  warnings.warn(\"Liblinear failed to converge, increase \"\n"
     ]
    }
   ],
   "source": [
    "from sklearn.feature_selection import SelectFromModel\n",
    "X, y = sparse_train, train_true\n",
    "print(f\"X.shape: {X.shape}\")\n",
    "lsvc_l1 = LinearSVC( penalty='l1', loss = \"squared_hinge\", dual = False, C = 0.35).fit(X, y)\n",
    "lsvc_l2 = LinearSVC( penalty='l2', loss = \"hinge\", C = 0.35).fit(X, y)"
   ]
  },
  {
   "cell_type": "code",
   "execution_count": 42,
   "id": "ed12e9d9",
   "metadata": {},
   "outputs": [
    {
     "name": "stdout",
     "output_type": "stream",
     "text": [
      "X_train_new.shape: (349077, 18550)\n",
      "X_dev_new.shape: (37455, 18550)\n"
     ]
    }
   ],
   "source": [
    "# L1 norm\n",
    "model_l1 = SelectFromModel(lsvc_l1, prefit=True)\n",
    "X_train_new = model_l1.transform(X)\n",
    "X_dev_new = model_l1.transform(sparse_dev)\n",
    "print(f\"X_train_new.shape: {X_train_new.shape}\")\n",
    "print(f\"X_dev_new.shape: {X_dev_new.shape}\")"
   ]
  },
  {
   "cell_type": "code",
   "execution_count": 43,
   "id": "d773c6b9",
   "metadata": {},
   "outputs": [
    {
     "name": "stdout",
     "output_type": "stream",
     "text": [
      "X_train_new.shape: (349077, 25492)\n",
      "X_dev_new.shape: (37455, 25492)\n"
     ]
    }
   ],
   "source": [
    "# L2 norm\n",
    "model_l2 = SelectFromModel(lsvc_l2, prefit=True)\n",
    "X_train_new = model_l2.transform(X)\n",
    "X_dev_new = model_l2.transform(sparse_dev)\n",
    "print(f\"X_train_new.shape: {X_train_new.shape}\")\n",
    "print(f\"X_dev_new.shape: {X_dev_new.shape}\")"
   ]
  },
  {
   "cell_type": "code",
   "execution_count": null,
   "id": "921abddb",
   "metadata": {},
   "outputs": [],
   "source": []
  },
  {
   "cell_type": "code",
   "execution_count": 28,
   "id": "2f422430",
   "metadata": {},
   "outputs": [
    {
     "name": "stdout",
     "output_type": "stream",
     "text": [
      "X_train.shape: (349077, 71646)\n"
     ]
    }
   ],
   "source": [
    "from sklearn.ensemble import ExtraTreesClassifier\n",
    "from sklearn.feature_selection import SelectFromModel\n",
    "X_train, y_train = sparse_train, train_true\n",
    "print(f\"X_train.shape: {X_train.shape}\")\n",
    "clf = ExtraTreesClassifier(n_estimators=50)\n",
    "clf = clf.fit(X, y)"
   ]
  },
  {
   "cell_type": "code",
   "execution_count": 30,
   "id": "7ee25d48",
   "metadata": {},
   "outputs": [
    {
     "data": {
      "text/plain": [
       "(71646,)"
      ]
     },
     "execution_count": 30,
     "metadata": {},
     "output_type": "execute_result"
    }
   ],
   "source": [
    "clf.feature_importances_.shape"
   ]
  },
  {
   "cell_type": "code",
   "execution_count": 31,
   "id": "1970f25b",
   "metadata": {},
   "outputs": [
    {
     "name": "stdout",
     "output_type": "stream",
     "text": [
      "X_train_new.shape: (349077, 6983)\n",
      "X_dev_new.shape: (37455, 6983)\n"
     ]
    }
   ],
   "source": [
    "model = SelectFromModel(clf, prefit=True)\n",
    "X_train_new = model.transform(X_train)\n",
    "X_dev_new = model.transform(sparse_dev)\n",
    "print(f\"X_train_new.shape: {X_train_new.shape}\")\n",
    "print(f\"X_dev_new.shape: {X_dev_new.shape}\")"
   ]
  },
  {
   "cell_type": "code",
   "execution_count": 32,
   "id": "9e4b83b2",
   "metadata": {},
   "outputs": [
    {
     "name": "stdout",
     "output_type": "stream",
     "text": [
      "CPU times: user 1.13 s, sys: 3 µs, total: 1.13 s\n",
      "Wall time: 1.13 s\n"
     ]
    }
   ],
   "source": [
    "%%time\n",
    "dev_pred = clf.predict(sparse_dev)"
   ]
  },
  {
   "cell_type": "code",
   "execution_count": 33,
   "id": "5b50dcb4",
   "metadata": {},
   "outputs": [
    {
     "name": "stdout",
     "output_type": "stream",
     "text": [
      "CPU times: user 5.58 ms, sys: 0 ns, total: 5.58 ms\n",
      "Wall time: 5.29 ms\n",
      "CPU times: user 5.59 ms, sys: 0 ns, total: 5.59 ms\n",
      "Wall time: 5.5 ms\n"
     ]
    }
   ],
   "source": [
    "%time labels_pred = get_all_labels(dev_pred)\n",
    "%time labels_true = get_all_labels(dev_true.tolist())"
   ]
  },
  {
   "cell_type": "code",
   "execution_count": 34,
   "id": "98c8ac23",
   "metadata": {},
   "outputs": [
    {
     "name": "stdout",
     "output_type": "stream",
     "text": [
      "              precision    recall  f1-score   support\n",
      "\n",
      " CASE_NUMBER       0.58      0.37      0.45       121\n",
      "       COURT       0.87      0.74      0.80       178\n",
      "        DATE       0.92      0.83      0.87       222\n",
      "         GPE       0.55      0.34      0.42       182\n",
      "       JUDGE       0.45      0.62      0.53         8\n",
      "         ORG       0.46      0.23      0.30       159\n",
      "OTHER_PERSON       0.57      0.34      0.43       276\n",
      "  PETITIONER       0.00      0.00      0.00         9\n",
      "   PRECEDENT       0.28      0.21      0.24       177\n",
      "   PROVISION       0.78      0.76      0.77       258\n",
      "  RESPONDENT       0.00      0.00      0.00         5\n",
      "     STATUTE       0.88      0.76      0.82       222\n",
      "     WITNESS       0.29      0.16      0.20        58\n",
      "\n",
      "   micro avg       0.69      0.52      0.59      1875\n",
      "   macro avg       0.51      0.41      0.45      1875\n",
      "weighted avg       0.65      0.52      0.57      1875\n",
      "\n"
     ]
    },
    {
     "name": "stderr",
     "output_type": "stream",
     "text": [
      "/home/ccl/oj43ecpu/.local/lib/python3.8/site-packages/sklearn/metrics/_classification.py:1221: UndefinedMetricWarning: Precision and F-score are ill-defined and being set to 0.0 in labels with no predicted samples. Use `zero_division` parameter to control this behavior.\n",
      "  _warn_prf(average, modifier, msg_start, len(result))\n"
     ]
    }
   ],
   "source": [
    "all_labels_compare = get_recognition_report(true = labels_true, pred = labels_pred, report=True)"
   ]
  },
  {
   "cell_type": "code",
   "execution_count": null,
   "id": "42732646",
   "metadata": {},
   "outputs": [],
   "source": []
  },
  {
   "cell_type": "markdown",
   "id": "85db874a",
   "metadata": {},
   "source": [
    "## sklearn_crfsuite Model\n",
    "We will use the default feature matrix of the model. Details see below. <br>\n",
    "<i>NB: This Model is only compatible only with a sklearn version lower as 0.24</i> <br>"
   ]
  },
  {
   "cell_type": "markdown",
   "id": "28b0ccfd",
   "metadata": {},
   "source": [
    "weighed average f1 score of classifying: 95%  ( + 2% comparing to the svm model ) <br>\n",
    "weighed average f1 score of recognition: 75% ( + 8% comparing to the svm model) "
   ]
  },
  {
   "cell_type": "code",
   "execution_count": 29,
   "id": "7fa63678",
   "metadata": {},
   "outputs": [
    {
     "data": {
      "text/plain": [
       "'0.23.2'"
      ]
     },
     "execution_count": 29,
     "metadata": {},
     "output_type": "execute_result"
    }
   ],
   "source": [
    "sklearn.__version__"
   ]
  },
  {
   "cell_type": "code",
   "execution_count": 7,
   "id": "77879619",
   "metadata": {
    "tags": []
   },
   "outputs": [],
   "source": [
    "import sklearn_crfsuite\n",
    "from sklearn_crfsuite import scorers\n",
    "from sklearn_crfsuite import metrics"
   ]
  },
  {
   "cell_type": "code",
   "execution_count": 8,
   "id": "6562c21e",
   "metadata": {
    "tags": []
   },
   "outputs": [],
   "source": [
    "def word2features(sent, i):\n",
    "    word = sent[i][0]\n",
    "    postag = sent[i][1]\n",
    "\n",
    "    features = {\n",
    "        'bias': 1.0,\n",
    "        'word.lower()': word.lower(),\n",
    "        'word[-3:]': word[-3:],\n",
    "        'word[-2:]': word[-2:],\n",
    "        'word.isupper()': word.isupper(),\n",
    "        'word.istitle()': word.istitle(),\n",
    "        'word.isdigit()': word.isdigit(),\n",
    "        'postag': postag,\n",
    "        'postag[:2]': postag[:2],\n",
    "    }\n",
    "    if i > 0:\n",
    "        word1 = sent[i-1][0]\n",
    "        postag1 = sent[i-1][1]\n",
    "        features.update({\n",
    "            '-1:word.lower()': word1.lower(),\n",
    "            '-1:word.istitle()': word1.istitle(),\n",
    "            '-1:word.isupper()': word1.isupper(),\n",
    "            '-1:postag': postag1,\n",
    "            '-1:postag[:2]': postag1[:2],\n",
    "        })\n",
    "    else:\n",
    "        features['BOS'] = True\n",
    "\n",
    "    if i < len(sent)-1:\n",
    "        word1 = sent[i+1][0]\n",
    "        postag1 = sent[i+1][1]\n",
    "        features.update({\n",
    "            '+1:word.lower()': word1.lower(),\n",
    "            '+1:word.istitle()': word1.istitle(),\n",
    "            '+1:word.isupper()': word1.isupper(),\n",
    "            '+1:postag': postag1,\n",
    "            '+1:postag[:2]': postag1[:2],\n",
    "        })\n",
    "    else:\n",
    "        features['EOS'] = True\n",
    "\n",
    "    return features\n",
    "\n",
    "\n",
    "def sent2features(sent):\n",
    "    return [word2features(sent, i) for i in range(len(sent))]\n",
    "\n",
    "def sent2labels(sent):\n",
    "    return [label for token, postag, label in sent]\n",
    "\n",
    "def sent2tokens(sent):\n",
    "    return [token for token, postag, label in sent]"
   ]
  },
  {
   "cell_type": "markdown",
   "id": "baaaa482",
   "metadata": {},
   "source": [
    "<br>\n",
    "convert the dataframe to a structure required by the sklearn_crfsuite model."
   ]
  },
  {
   "cell_type": "code",
   "execution_count": 9,
   "id": "1bc99638",
   "metadata": {
    "tags": []
   },
   "outputs": [],
   "source": [
    "df_train = pd.read_csv(\"transitional_data/tagged_train_filled.csv\", keep_default_na=False)\n",
    "df_dev = pd.read_csv(\"transitional_data/tagged_dev_filled.csv\", keep_default_na=False)"
   ]
  },
  {
   "cell_type": "code",
   "execution_count": 10,
   "id": "e4cf7729",
   "metadata": {
    "tags": []
   },
   "outputs": [],
   "source": [
    "train = df_train[[\"Token\", \"standard_tagger\", \"Label\"]]\n",
    "dev = df_dev[[\"Token\", \"standard_tagger\", \"Label\"]]"
   ]
  },
  {
   "cell_type": "code",
   "execution_count": 11,
   "id": "79ff5169",
   "metadata": {
    "tags": []
   },
   "outputs": [],
   "source": [
    "train = train.values.tolist()\n",
    "dev = dev.values.tolist()"
   ]
  },
  {
   "cell_type": "code",
   "execution_count": 12,
   "id": "22bc7192",
   "metadata": {
    "tags": []
   },
   "outputs": [],
   "source": [
    "def enumerate_tokens(sentence):\n",
    "    c = 1\n",
    "    for index, row in sentence.iterrows():\n",
    "        sentence.at[index, 'TokenNR'] = c\n",
    "        c += 1\n",
    "    return sentence"
   ]
  },
  {
   "cell_type": "code",
   "execution_count": 13,
   "id": "aa94d8ba",
   "metadata": {
    "tags": []
   },
   "outputs": [
    {
     "name": "stdout",
     "output_type": "stream",
     "text": [
      "CPU times: user 3.1 s, sys: 0 ns, total: 3.1 s\n",
      "Wall time: 3.1 s\n",
      "CPU times: user 30.4 s, sys: 108 ms, total: 30.5 s\n",
      "Wall time: 30.5 s\n"
     ]
    }
   ],
   "source": [
    "%time df_dev = df_dev.groupby(by = 'SentenceNR', group_keys=True).apply(enumerate_tokens)\n",
    "%time df_train = df_train.groupby(by = 'SentenceNR', group_keys=True).apply(enumerate_tokens)"
   ]
  },
  {
   "cell_type": "code",
   "execution_count": 14,
   "id": "b14b2d2d",
   "metadata": {
    "tags": []
   },
   "outputs": [],
   "source": [
    "train_SentenceNR = df_train.SentenceNR.unique()\n",
    "dev_SentenceNR = df_dev.SentenceNR.unique()"
   ]
  },
  {
   "cell_type": "code",
   "execution_count": 15,
   "id": "064ad528",
   "metadata": {
    "tags": []
   },
   "outputs": [],
   "source": [
    "train_sents = [df_train[ df_train[\"SentenceNR\"]==nr][[\"Token\", \"standard_tagger\", \"Label\"]].values.tolist() for nr in train_SentenceNR ]\n",
    "dev_sents = [df_dev[ df_dev[\"SentenceNR\"]==nr][[\"Token\", \"standard_tagger\", \"Label\"]].values.tolist() for nr in dev_SentenceNR ]"
   ]
  },
  {
   "cell_type": "code",
   "execution_count": 16,
   "id": "89acd0a2",
   "metadata": {
    "tags": []
   },
   "outputs": [
    {
     "name": "stdout",
     "output_type": "stream",
     "text": [
      "CPU times: user 643 ms, sys: 56 ms, total: 699 ms\n",
      "Wall time: 697 ms\n"
     ]
    }
   ],
   "source": [
    "%%time\n",
    "X_train = [sent2features(s) for s in train_sents]\n",
    "y_train = [sent2labels(s) for s in train_sents]\n",
    "\n",
    "X_dev = [sent2features(s) for s in dev_sents]\n",
    "y_dev = [sent2labels(s) for s in dev_sents]"
   ]
  },
  {
   "cell_type": "code",
   "execution_count": 17,
   "id": "136e1298",
   "metadata": {
    "tags": []
   },
   "outputs": [
    {
     "name": "stdout",
     "output_type": "stream",
     "text": [
      "CPU times: user 1min 20s, sys: 47.1 ms, total: 1min 20s\n",
      "Wall time: 1min 20s\n"
     ]
    },
    {
     "name": "stderr",
     "output_type": "stream",
     "text": [
      "/home/ccl/oj43ecpu/.local/lib/python3.8/site-packages/sklearn/base.py:209: FutureWarning: From version 0.24, get_params will raise an AttributeError if a parameter cannot be retrieved as an instance attribute. Previously it would return None.\n",
      "  warnings.warn('From version 0.24, get_params will raise an '\n"
     ]
    },
    {
     "data": {
      "text/plain": [
       "CRF(algorithm='lbfgs', all_possible_transitions=True, c1=0.17311222730699913,\n",
       "    c2=0.2034091783796535, keep_tempfiles=None, max_iterations=100)"
      ]
     },
     "execution_count": 17,
     "metadata": {},
     "output_type": "execute_result"
    }
   ],
   "source": [
    "%%time\n",
    "crf = sklearn_crfsuite.CRF(\n",
    "    algorithm='lbfgs',\n",
    "    #{'c1': 0.17311222730699913, 'c2': 0.2034091783796535} according to the Hyperparameter Finetuning\n",
    "    c1=0.17311222730699913,\n",
    "    c2=0.2034091783796535,\n",
    "    max_iterations=100,\n",
    "    all_possible_transitions=True\n",
    ")\n",
    "crf.fit(X_train, y_train)"
   ]
  },
  {
   "cell_type": "code",
   "execution_count": 22,
   "id": "8e5446a7",
   "metadata": {
    "tags": []
   },
   "outputs": [],
   "source": [
    "y_pred = crf.predict(X_dev)"
   ]
  },
  {
   "cell_type": "markdown",
   "id": "6c0c251a",
   "metadata": {
    "tags": []
   },
   "source": [
    "<br>\n",
    "convert the label lists(y_dev(true), y_pred) back into a flat structure required by the evaluation tools."
   ]
  },
  {
   "cell_type": "code",
   "execution_count": 23,
   "id": "55507cad",
   "metadata": {
    "tags": []
   },
   "outputs": [],
   "source": [
    "from functools import reduce\n",
    "y_dev = reduce(lambda a,b:a+b, y_dev)\n",
    "y_pred = reduce(lambda a,b:a+b, y_pred)"
   ]
  },
  {
   "cell_type": "code",
   "execution_count": 26,
   "id": "0e107e51",
   "metadata": {
    "tags": []
   },
   "outputs": [],
   "source": [
    "y_pred = get_all_labels(y_pred)\n",
    "y_true = get_all_labels(y_dev)"
   ]
  },
  {
   "cell_type": "code",
   "execution_count": 27,
   "id": "deed3abf",
   "metadata": {
    "tags": []
   },
   "outputs": [
    {
     "name": "stdout",
     "output_type": "stream",
     "text": [
      "              precision    recall  f1-score   support\n",
      "\n",
      " CASE_NUMBER       0.97      0.94      0.96        82\n",
      "       COURT       1.00      0.99      1.00       148\n",
      "        DATE       0.99      1.00      0.99       201\n",
      "         GPE       0.95      0.93      0.94       105\n",
      "       JUDGE       1.00      1.00      1.00         8\n",
      "         ORG       0.96      0.97      0.97        76\n",
      "OTHER_PERSON       0.86      0.89      0.88       218\n",
      "  PETITIONER       0.38      0.43      0.40         7\n",
      "   PRECEDENT       0.99      0.97      0.98       109\n",
      "   PROVISION       1.00      1.00      1.00       225\n",
      "  RESPONDENT       0.00      0.00      0.00         3\n",
      "     STATUTE       1.00      1.00      1.00       183\n",
      "     WITNESS       0.61      0.54      0.57        50\n",
      "\n",
      "    accuracy                           0.95      1415\n",
      "   macro avg       0.82      0.82      0.82      1415\n",
      "weighted avg       0.95      0.95      0.95      1415\n",
      "\n"
     ]
    }
   ],
   "source": [
    "detected_true, valid_pred = get_classify_report(y_true, y_pred, report=True)"
   ]
  },
  {
   "cell_type": "code",
   "execution_count": 28,
   "id": "b9f8396b",
   "metadata": {
    "tags": []
   },
   "outputs": [
    {
     "name": "stdout",
     "output_type": "stream",
     "text": [
      "              precision    recall  f1-score   support\n",
      "\n",
      " CASE_NUMBER       0.79      0.64      0.71       121\n",
      "       COURT       0.89      0.83      0.85       178\n",
      "        DATE       0.95      0.91      0.93       222\n",
      "         GPE       0.68      0.54      0.60       182\n",
      "       JUDGE       0.80      1.00      0.89         8\n",
      "         ORG       0.66      0.47      0.55       159\n",
      "OTHER_PERSON       0.78      0.71      0.74       276\n",
      "  PETITIONER       0.30      0.33      0.32         9\n",
      "   PRECEDENT       0.68      0.60      0.64       177\n",
      "   PROVISION       0.92      0.87      0.89       258\n",
      "  RESPONDENT       0.00      0.00      0.00         5\n",
      "     STATUTE       0.87      0.82      0.85       222\n",
      "     WITNESS       0.59      0.47      0.52        58\n",
      "\n",
      "   micro avg       0.81      0.72      0.76      1875\n",
      "   macro avg       0.68      0.63      0.65      1875\n",
      "weighted avg       0.80      0.72      0.75      1875\n",
      "\n"
     ]
    }
   ],
   "source": [
    "all_labels_compare = get_recognition_report(y_true, y_pred, report=True)"
   ]
  },
  {
   "cell_type": "code",
   "execution_count": 33,
   "id": "3a244f46",
   "metadata": {},
   "outputs": [
    {
     "data": {
      "image/png": "[encoded data removed]",
      "text/plain": [
       "<Figure size 432x288 with 2 Axes>"
      ]
     },
     "metadata": {
      "needs_background": "light"
     },
     "output_type": "display_data"
    }
   ],
   "source": [
    "get_confusion_matrix(pred = all_labels_compare[\"pred\"], true = all_labels_compare[\"true\"], cat=\"natural_person\")"
   ]
  },
  {
   "cell_type": "code",
   "execution_count": null,
   "id": "691dc6d2",
   "metadata": {},
   "outputs": [],
   "source": []
  },
  {
   "cell_type": "markdown",
   "id": "42b0f295",
   "metadata": {},
   "source": [
    "## Analysis\n",
    "crfsuirte provides two functions to analyse the quality of mashine learning.<br>\n",
    "<b>print_transitions</b> shows which labels are often mixed with each other. <br>\n",
    "<b>print_state_features</b> shows \"typical\" features of each label."
   ]
  },
  {
   "cell_type": "code",
   "execution_count": 34,
   "id": "eceb0cab",
   "metadata": {},
   "outputs": [
    {
     "name": "stdout",
     "output_type": "stream",
     "text": [
      "Top likely transitions:\n",
      "B-COURT \t->\t I-COURT 6.634040\n",
      "I-ORG  \t->\t I-ORG   6.604673\n",
      "B-ORG  \t->\t I-ORG   6.581671\n",
      "I-PROVISION \t->\t I-PROVISION 6.508698\n",
      "B-CASE_NUMBER \t->\t I-CASE_NUMBER 6.089499\n",
      "B-RESPONDENT \t->\t I-RESPONDENT 6.088118\n",
      "B-PROVISION \t->\t I-PROVISION 6.055514\n",
      "B-JUDGE \t->\t I-JUDGE 6.051411\n",
      "I-COURT \t->\t I-COURT 5.929151\n",
      "I-RESPONDENT \t->\t I-RESPONDENT 5.891065\n"
     ]
    }
   ],
   "source": [
    "from collections import Counter\n",
    "\n",
    "def print_transitions(trans_features):\n",
    "    for (label_from, label_to), weight in trans_features:\n",
    "        print(\"%-6s \\t->\\t %-7s %0.6f\" % (label_from, label_to, weight))\n",
    "\n",
    "print(\"Top likely transitions:\")\n",
    "print_transitions(Counter(crf.transition_features_).most_common(10))"
   ]
  },
  {
   "cell_type": "code",
   "execution_count": 35,
   "id": "f408ae73",
   "metadata": {},
   "outputs": [
    {
     "name": "stdout",
     "output_type": "stream",
     "text": [
      "Top positive:\n",
      "5.912660 B-JUDGE  -1:word.lower():justice\n",
      "5.840469 B-ORG    word.lower():parliament\n",
      "5.659227 B-STATUTE word.lower():constitution\n",
      "5.058730 B-PETITIONER -1:word.lower():appellant\n",
      "5.020820 B-WITNESS -1:word.lower():witness\n",
      "4.942253 B-GPE    -1:word.lower():village\n",
      "4.599063 o        BOS\n",
      "4.479745 B-OTHER_PERSON -1:word.lower():mr.\n",
      "4.363304 B-RESPONDENT -1:word.lower():respondent\n",
      "4.334479 B-STATUTE word[-2:]:PC\n",
      "\n",
      "Top negative:\n",
      "-2.486915 I-PRECEDENT -1:word.lower():]\n",
      "-2.493765 o        word.lower():parliament\n",
      "-2.562522 o        -1:word.lower():smt.\n",
      "-2.668181 o        -1:word.lower():ltd\n",
      "-2.698582 o        -1:word.lower():mr.\n",
      "-2.867852 o        word[-3:]:lal\n",
      "-3.076056 o        -1:word.lower():dr.\n",
      "-3.097427 o        +1:word.lower():s/o\n",
      "-3.284672 o        word[-2:]:ah\n",
      "-5.113884 B-DATE   word.isdigit()\n"
     ]
    }
   ],
   "source": [
    "def print_state_features(state_features):\n",
    "    for (attr, label), weight in state_features:\n",
    "        print(\"%0.6f %-8s %s\" % (weight, label, attr))\n",
    "\n",
    "print(\"Top positive:\")\n",
    "print_state_features(Counter(crf.state_features_).most_common(10))\n",
    "\n",
    "print(\"\\nTop negative:\")\n",
    "print_state_features(Counter(crf.state_features_).most_common()[-10:])"
   ]
  },
  {
   "cell_type": "code",
   "execution_count": null,
   "id": "613e827d",
   "metadata": {},
   "outputs": [],
   "source": []
  },
  {
   "cell_type": "markdown",
   "id": "f4727ce2",
   "metadata": {},
   "source": [
    "## Visualization with SpaCy"
   ]
  },
  {
   "cell_type": "code",
   "execution_count": 3,
   "id": "4dd817bb",
   "metadata": {
    "tags": []
   },
   "outputs": [
    {
     "name": "stderr",
     "output_type": "stream",
     "text": [
      "2023-03-22 15:08:48.242663: I tensorflow/core/platform/cpu_feature_guard.cc:193] This TensorFlow binary is optimized with oneAPI Deep Neural Network Library (oneDNN) to use the following CPU instructions in performance-critical operations:  AVX2 FMA\n",
      "To enable them in other operations, rebuild TensorFlow with the appropriate compiler flags.\n",
      "2023-03-22 15:08:48.602907: W tensorflow/compiler/xla/stream_executor/platform/default/dso_loader.cc:64] Could not load dynamic library 'libcudart.so.11.0'; dlerror: libcudart.so.11.0: cannot open shared object file: No such file or directory\n",
      "2023-03-22 15:08:48.602927: I tensorflow/compiler/xla/stream_executor/cuda/cudart_stub.cc:29] Ignore above cudart dlerror if you do not have a GPU set up on your machine.\n",
      "2023-03-22 15:08:50.057505: W tensorflow/compiler/xla/stream_executor/platform/default/dso_loader.cc:64] Could not load dynamic library 'libnvinfer.so.7'; dlerror: libnvinfer.so.7: cannot open shared object file: No such file or directory\n",
      "2023-03-22 15:08:50.057616: W tensorflow/compiler/xla/stream_executor/platform/default/dso_loader.cc:64] Could not load dynamic library 'libnvinfer_plugin.so.7'; dlerror: libnvinfer_plugin.so.7: cannot open shared object file: No such file or directory\n",
      "2023-03-22 15:08:50.057624: W tensorflow/compiler/tf2tensorrt/utils/py_utils.cc:38] TF-TRT Warning: Cannot dlopen some TensorRT libraries. If you would like to use Nvidia GPU with TensorRT, please make sure the missing libraries mentioned above are installed properly.\n",
      "2023-03-22 15:08:50.993895: W tensorflow/compiler/xla/stream_executor/platform/default/dso_loader.cc:64] Could not load dynamic library 'libcuda.so.1'; dlerror: libcuda.so.1: cannot open shared object file: No such file or directory\n",
      "2023-03-22 15:08:50.994172: W tensorflow/compiler/xla/stream_executor/cuda/cuda_driver.cc:265] failed call to cuInit: UNKNOWN ERROR (303)\n",
      "2023-03-22 15:08:50.994194: I tensorflow/compiler/xla/stream_executor/cuda/cuda_diagnostics.cc:156] kernel driver does not appear to be running on this host (linuxlxy): /proc/driver/nvidia/version does not exist\n"
     ]
    }
   ],
   "source": [
    "import spacy\n",
    "from spacy import displacy\n",
    "from spacy.attrs import LOWER, POS, ENT_TYPE, IS_ALPHA\n",
    "from spacy.tokens import Doc"
   ]
  },
  {
   "cell_type": "code",
   "execution_count": 4,
   "id": "809f9ba7",
   "metadata": {
    "tags": []
   },
   "outputs": [],
   "source": [
    "df_dev = pd.read_csv(\"transitional_data/tagged_dev_filled.csv\", keep_default_na=False)"
   ]
  },
  {
   "cell_type": "code",
   "execution_count": 15,
   "id": "0a78857b-4e21-4a26-96e1-bad683963697",
   "metadata": {
    "tags": []
   },
   "outputs": [
    {
     "name": "stdout",
     "output_type": "stream",
     "text": [
      "['o', 'o', 'o', 'B-STATUTE', 'o', 'o', 'o', 'o', 'o', 'o', 'o', 'o', 'o', 'o', 'o', 'o', 'o', 'o', 'o', 'o', 'o', 'o', 'o', 'o', 'B-PRECEDENT', 'I-PRECEDENT', 'I-PRECEDENT', 'I-PRECEDENT', 'I-PRECEDENT', 'I-PRECEDENT', 'I-PRECEDENT', 'I-PRECEDENT', 'I-PRECEDENT', 'I-PRECEDENT', 'I-PRECEDENT', 'I-PRECEDENT', 'I-PRECEDENT', 'o', 'B-PRECEDENT', 'I-PRECEDENT', 'I-PRECEDENT', 'I-PRECEDENT', 'I-PRECEDENT', 'I-PRECEDENT', 'I-PRECEDENT', 'I-PRECEDENT', 'I-PRECEDENT', 'I-PRECEDENT', 'I-PRECEDENT', 'I-PRECEDENT', 'I-PRECEDENT', 'o', 'o', 'o', 'o', 'o', 'o', 'o']\n"
     ]
    }
   ],
   "source": [
    "print(df_dev.groupby(\"SentenceNR\").get_group(0)[\"Label\"].tolist())"
   ]
  },
  {
   "cell_type": "code",
   "execution_count": 38,
   "id": "1e677aca",
   "metadata": {
    "tags": []
   },
   "outputs": [],
   "source": [
    "sents20 = []\n",
    "labels20 = []\n",
    "for i in range(20):\n",
    "    \n",
    "    sent = df_dev.groupby(\"SentenceNR\").get_group(i)[\"Token\"].tolist()\n",
    "    sent.append(\"\\n\")\n",
    "    sents20 += sent\n",
    "    \n",
    "    label = df_dev.groupby(\"SentenceNR\").get_group(i)[\"Label\"].tolist()\n",
    "    label.append(\"o\")\n",
    "    labels20 += label"
   ]
  },
  {
   "cell_type": "code",
   "execution_count": 39,
   "id": "e17454c1",
   "metadata": {
    "tags": []
   },
   "outputs": [
    {
     "data": {
      "text/plain": [
       "True"
      ]
     },
     "execution_count": 39,
     "metadata": {},
     "output_type": "execute_result"
    }
   ],
   "source": [
    "len(sents) == len(labels)"
   ]
  },
  {
   "cell_type": "code",
   "execution_count": 40,
   "id": "c8136423",
   "metadata": {
    "tags": []
   },
   "outputs": [],
   "source": [
    "labels_new = []\n",
    "for i in labels20:\n",
    "    if i != \"o\":\n",
    "        labels_new.append(i)\n",
    "    else:\n",
    "        labels_new.append(\"O\")"
   ]
  },
  {
   "cell_type": "code",
   "execution_count": null,
   "id": "dfa9afc0",
   "metadata": {
    "tags": []
   },
   "outputs": [],
   "source": []
  },
  {
   "cell_type": "code",
   "execution_count": 42,
   "id": "5adc62eb",
   "metadata": {
    "tags": []
   },
   "outputs": [],
   "source": [
    "nlp = spacy.load(\"en_core_web_sm\")\n",
    "doc = Doc(nlp.vocab, words=sents20, ents = labels_new)"
   ]
  },
  {
   "cell_type": "code",
   "execution_count": 43,
   "id": "595d4012-7228-4a17-8e07-4fc400a2fe7c",
   "metadata": {
    "tags": []
   },
   "outputs": [],
   "source": [
    "colors = {'COURT': \"#bbabf2\", 'PETITIONER': \"#f570ea\", \"RESPONDENT\": \"#cdee81\", 'JUDGE': \"#fdd8a5\",\n",
    "          \"LAWYER\": \"#f9d380\", 'WITNESS': \"violet\", \"STATUTE\": \"#faea99\", \"PROVISION\": \"yellow\",\n",
    "          'CASE_NUMBER': \"#fbb1cf\", \"PRECEDENT\": \"#fad6d6\", 'DATE': \"#b1ecf7\", 'OTHER_PERSON': \"#b0f6a2\",\n",
    "          'ORG':'#a57db5','GPE':'#7fdbd4'}"
   ]
  },
  {
   "cell_type": "code",
   "execution_count": 44,
   "id": "b1c963a5",
   "metadata": {
    "tags": []
   },
   "outputs": [
    {
     "name": "stderr",
     "output_type": "stream",
     "text": [
      "/home/luxinyao/.local/lib/python3.10/site-packages/spacy/displacy/__init__.py:108: UserWarning: [W011] It looks like you're calling displacy.serve from within a Jupyter notebook or a similar environment. This likely means you're already running a local web server, so there's no need to make displaCy start another one. Instead, you should be able to replace displacy.serve with displacy.render to show the visualization.\n",
      "  warnings.warn(Warnings.W011)\n"
     ]
    },
    {
     "data": {
      "text/html": [
       "<span class=\"tex2jax_ignore\"><!DOCTYPE html>\n",
       "<html lang=\"en\">\n",
       "    <head>\n",
       "        <title>displaCy</title>\n",
       "    </head>\n",
       "\n",
       "    <body style=\"font-size: 16px; font-family: -apple-system, BlinkMacSystemFont, 'Segoe UI', Helvetica, Arial, sans-serif, 'Apple Color Emoji', 'Segoe UI Emoji', 'Segoe UI Symbol'; padding: 4rem 2rem; direction: ltr\">\n",
       "<figure style=\"margin-bottom: 6rem\">\n",
       "<div class=\"entities\" style=\"line-height: 2.5; direction: ltr\">True , our \n",
       "<mark class=\"entity\" style=\"background: #faea99; padding: 0.45em 0.6em; margin: 0 0.25em; line-height: 1; border-radius: 0.35em;\">\n",
       "    Constitution\n",
       "    <span style=\"font-size: 0.8em; font-weight: bold; line-height: 1; border-radius: 0.35em; vertical-align: middle; margin-left: 0.5rem\">STATUTE</span>\n",
       "</mark>\n",
       " has no 'due process ' clause or the VIII Amendment ; but , in this branch of law , after \n",
       "<mark class=\"entity\" style=\"background: #fad6d6; padding: 0.45em 0.6em; margin: 0 0.25em; line-height: 1; border-radius: 0.35em;\">\n",
       "    R.C. Cooper v. Union of India , ( 1970 ) 1 SCC 248\n",
       "    <span style=\"font-size: 0.8em; font-weight: bold; line-height: 1; border-radius: 0.35em; vertical-align: middle; margin-left: 0.5rem\">PRECEDENT</span>\n",
       "</mark>\n",
       " and \n",
       "<mark class=\"entity\" style=\"background: #fad6d6; padding: 0.45em 0.6em; margin: 0 0.25em; line-height: 1; border-radius: 0.35em;\">\n",
       "    Maneka Gandhi v. Union of India , ( 1978 ) 1 SCC 248\n",
       "    <span style=\"font-size: 0.8em; font-weight: bold; line-height: 1; border-radius: 0.35em; vertical-align: middle; margin-left: 0.5rem\">PRECEDENT</span>\n",
       "</mark>\n",
       " , the consequence is the same . </br> ( See Principles of Statutory Interpretation by Justice \n",
       "<mark class=\"entity\" style=\"background: #fdd8a5; padding: 0.45em 0.6em; margin: 0 0.25em; line-height: 1; border-radius: 0.35em;\">\n",
       "    G.P. Singh\n",
       "    <span style=\"font-size: 0.8em; font-weight: bold; line-height: 1; border-radius: 0.35em; vertical-align: middle; margin-left: 0.5rem\">JUDGE</span>\n",
       "</mark>\n",
       " , 9th Edn. , 2004 at p. 438. ) . </br> Their Lordships have said -- `` It is a sound rule of construction of a statute firmly established in \n",
       "<mark class=\"entity\" style=\"background: #7fdbd4; padding: 0.45em 0.6em; margin: 0 0.25em; line-height: 1; border-radius: 0.35em;\">\n",
       "    England\n",
       "    <span style=\"font-size: 0.8em; font-weight: bold; line-height: 1; border-radius: 0.35em; vertical-align: middle; margin-left: 0.5rem\">GPE</span>\n",
       "</mark>\n",
       " as far back as 1584 when \n",
       "<mark class=\"entity\" style=\"background: #b0f6a2; padding: 0.45em 0.6em; margin: 0 0.25em; line-height: 1; border-radius: 0.35em;\">\n",
       "    Heydon\n",
       "    <span style=\"font-size: 0.8em; font-weight: bold; line-height: 1; border-radius: 0.35em; vertical-align: middle; margin-left: 0.5rem\">OTHER_PERSON</span>\n",
       "</mark>\n",
       " 's case was decided that -- '' ... ... </br> In para 13 of the plaint , it has been further averred that , `` When the plaintiffs asked the defendant to obtain requisite documents immediately , the defendant assured the plaintiffs that he would obtain the requisite documents and would be available on \n",
       "<mark class=\"entity\" style=\"background: #b1ecf7; padding: 0.45em 0.6em; margin: 0 0.25em; line-height: 1; border-radius: 0.35em;\">\n",
       "    29/12/2004\n",
       "    <span style=\"font-size: 0.8em; font-weight: bold; line-height: 1; border-radius: 0.35em; vertical-align: middle; margin-left: 0.5rem\">DATE</span>\n",
       "</mark>\n",
       " at the office of the Sub­Registrar , Geeta Colony , \n",
       "<mark class=\"entity\" style=\"background: #7fdbd4; padding: 0.45em 0.6em; margin: 0 0.25em; line-height: 1; border-radius: 0.35em;\">\n",
       "    Delhi\n",
       "    <span style=\"font-size: 0.8em; font-weight: bold; line-height: 1; border-radius: 0.35em; vertical-align: middle; margin-left: 0.5rem\">GPE</span>\n",
       "</mark>\n",
       " and would execute the sale deed '' . </br> Counsel for appellants contended that who is the Jagirdar against whom the legal fiction is to apply , is not pleaded by the claim petitioners and the scope and ambit of \n",
       "<mark class=\"entity\" style=\"background: yellow; padding: 0.45em 0.6em; margin: 0 0.25em; line-height: 1; border-radius: 0.35em;\">\n",
       "    Rule 2\n",
       "    <span style=\"font-size: 0.8em; font-weight: bold; line-height: 1; border-radius: 0.35em; vertical-align: middle; margin-left: 0.5rem\">PROVISION</span>\n",
       "</mark>\n",
       " of the Rules regarding 'Grant of Pattadari rights in non-Khalsa villages ' , 1356 Fasli framed under \n",
       "<mark class=\"entity\" style=\"background: yellow; padding: 0.45em 0.6em; margin: 0 0.25em; line-height: 1; border-radius: 0.35em;\">\n",
       "    Section 172\n",
       "    <span style=\"font-size: 0.8em; font-weight: bold; line-height: 1; border-radius: 0.35em; vertical-align: middle; margin-left: 0.5rem\">PROVISION</span>\n",
       "</mark>\n",
       " of the \n",
       "<mark class=\"entity\" style=\"background: #faea99; padding: 0.45em 0.6em; margin: 0 0.25em; line-height: 1; border-radius: 0.35em;\">\n",
       "    Hyderabad Land Revenue Act , 1317\n",
       "    <span style=\"font-size: 0.8em; font-weight: bold; line-height: 1; border-radius: 0.35em; vertical-align: middle; margin-left: 0.5rem\">STATUTE</span>\n",
       "</mark>\n",
       " Fasli is nebulous . </br> Further , \n",
       "<mark class=\"entity\" style=\"background: yellow; padding: 0.45em 0.6em; margin: 0 0.25em; line-height: 1; border-radius: 0.35em;\">\n",
       "    section 19 ( 3 )\n",
       "    <span style=\"font-size: 0.8em; font-weight: bold; line-height: 1; border-radius: 0.35em; vertical-align: middle; margin-left: 0.5rem\">PROVISION</span>\n",
       "</mark>\n",
       " of the \n",
       "<mark class=\"entity\" style=\"background: #faea99; padding: 0.45em 0.6em; margin: 0 0.25em; line-height: 1; border-radius: 0.35em;\">\n",
       "    SG Act\n",
       "    <span style=\"font-size: 0.8em; font-weight: bold; line-height: 1; border-radius: 0.35em; vertical-align: middle; margin-left: 0.5rem\">STATUTE</span>\n",
       "</mark>\n",
       " specifies that unless a different intention appears , rules contained in \n",
       "<mark class=\"entity\" style=\"background: yellow; padding: 0.45em 0.6em; margin: 0 0.25em; line-height: 1; border-radius: 0.35em;\">\n",
       "    section 20 to 24\n",
       "    <span style=\"font-size: 0.8em; font-weight: bold; line-height: 1; border-radius: 0.35em; vertical-align: middle; margin-left: 0.5rem\">PROVISION</span>\n",
       "</mark>\n",
       " rules for ascertaining the intention of the parties as to the time at which the property and goods is to passed to the buyer . </br> Hence , the Trial Court convicted the Appellant under \n",
       "<mark class=\"entity\" style=\"background: yellow; padding: 0.45em 0.6em; margin: 0 0.25em; line-height: 1; border-radius: 0.35em;\">\n",
       "    Section 13 ( 2 )\n",
       "    <span style=\"font-size: 0.8em; font-weight: bold; line-height: 1; border-radius: 0.35em; vertical-align: middle; margin-left: 0.5rem\">PROVISION</span>\n",
       "</mark>\n",
       " read with \n",
       "<mark class=\"entity\" style=\"background: yellow; padding: 0.45em 0.6em; margin: 0 0.25em; line-height: 1; border-radius: 0.35em;\">\n",
       "    Section 13 ( 1 ) ( e )\n",
       "    <span style=\"font-size: 0.8em; font-weight: bold; line-height: 1; border-radius: 0.35em; vertical-align: middle; margin-left: 0.5rem\">PROVISION</span>\n",
       "</mark>\n",
       " of the \n",
       "<mark class=\"entity\" style=\"background: #faea99; padding: 0.45em 0.6em; margin: 0 0.25em; line-height: 1; border-radius: 0.35em;\">\n",
       "    PC Act\n",
       "    <span style=\"font-size: 0.8em; font-weight: bold; line-height: 1; border-radius: 0.35em; vertical-align: middle; margin-left: 0.5rem\">STATUTE</span>\n",
       "</mark>\n",
       " ; as well as \n",
       "<mark class=\"entity\" style=\"background: yellow; padding: 0.45em 0.6em; margin: 0 0.25em; line-height: 1; border-radius: 0.35em;\">\n",
       "    Sections 120B and 193\n",
       "    <span style=\"font-size: 0.8em; font-weight: bold; line-height: 1; border-radius: 0.35em; vertical-align: middle; margin-left: 0.5rem\">PROVISION</span>\n",
       "</mark>\n",
       " of the \n",
       "<mark class=\"entity\" style=\"background: #faea99; padding: 0.45em 0.6em; margin: 0 0.25em; line-height: 1; border-radius: 0.35em;\">\n",
       "    IPC\n",
       "    <span style=\"font-size: 0.8em; font-weight: bold; line-height: 1; border-radius: 0.35em; vertical-align: middle; margin-left: 0.5rem\">STATUTE</span>\n",
       "</mark>\n",
       " , and sentenced him to rigorous imprisonment for two years and payment of fine of Rs 1.5 lakhs . </br> The LoA stipulated that : `` 17. The allotment of said land is subject to the outcome of the \n",
       "<mark class=\"entity\" style=\"background: #fbb1cf; padding: 0.45em 0.6em; margin: 0 0.25em; line-height: 1; border-radius: 0.35em;\">\n",
       "    Appeal Suit No. 274/2007\n",
       "    <span style=\"font-size: 0.8em; font-weight: bold; line-height: 1; border-radius: 0.35em; vertical-align: middle; margin-left: 0.5rem\">CASE_NUMBER</span>\n",
       "</mark>\n",
       " in ( \n",
       "<mark class=\"entity\" style=\"background: #fbb1cf; padding: 0.45em 0.6em; margin: 0 0.25em; line-height: 1; border-radius: 0.35em;\">\n",
       "    OS No. 155/05\n",
       "    <span style=\"font-size: 0.8em; font-weight: bold; line-height: 1; border-radius: 0.35em; vertical-align: middle; margin-left: 0.5rem\">CASE_NUMBER</span>\n",
       "</mark>\n",
       " ) , \n",
       "<mark class=\"entity\" style=\"background: #fbb1cf; padding: 0.45em 0.6em; margin: 0 0.25em; line-height: 1; border-radius: 0.35em;\">\n",
       "    WP Nos. 19670/07 , 20667/07 and 22043/07\n",
       "    <span style=\"font-size: 0.8em; font-weight: bold; line-height: 1; border-radius: 0.35em; vertical-align: middle; margin-left: 0.5rem\">CASE_NUMBER</span>\n",
       "</mark>\n",
       " pending before the Hon'ble \n",
       "<mark class=\"entity\" style=\"background: #bbabf2; padding: 0.45em 0.6em; margin: 0 0.25em; line-height: 1; border-radius: 0.35em;\">\n",
       "    High Court of Andhra Pradesh.\n",
       "    <span style=\"font-size: 0.8em; font-weight: bold; line-height: 1; border-radius: 0.35em; vertical-align: middle; margin-left: 0.5rem\">COURT</span>\n",
       "</mark>\n",
       " '' PART A 4 </br> The appeal filed by assessee is against order of CIT ( A ) -7 , Pune , dated \n",
       "<mark class=\"entity\" style=\"background: #b1ecf7; padding: 0.45em 0.6em; margin: 0 0.25em; line-height: 1; border-radius: 0.35em;\">\n",
       "    22.05.2018\n",
       "    <span style=\"font-size: 0.8em; font-weight: bold; line-height: 1; border-radius: 0.35em; vertical-align: middle; margin-left: 0.5rem\">DATE</span>\n",
       "</mark>\n",
       " relating to assessment year 2015-16 against order passed under \n",
       "<mark class=\"entity\" style=\"background: yellow; padding: 0.45em 0.6em; margin: 0 0.25em; line-height: 1; border-radius: 0.35em;\">\n",
       "    section 143 ( 3 )\n",
       "    <span style=\"font-size: 0.8em; font-weight: bold; line-height: 1; border-radius: 0.35em; vertical-align: middle; margin-left: 0.5rem\">PROVISION</span>\n",
       "</mark>\n",
       " of the \n",
       "<mark class=\"entity\" style=\"background: #faea99; padding: 0.45em 0.6em; margin: 0 0.25em; line-height: 1; border-radius: 0.35em;\">\n",
       "    Income-tax Act , 1961\n",
       "    <span style=\"font-size: 0.8em; font-weight: bold; line-height: 1; border-radius: 0.35em; vertical-align: middle; margin-left: 0.5rem\">STATUTE</span>\n",
       "</mark>\n",
       " ( in short 'the Act ' ) . 2 . </br> In this context , we have also to bear in mind the exposition of law by a \n",
       "<mark class=\"entity\" style=\"background: #bbabf2; padding: 0.45em 0.6em; margin: 0 0.25em; line-height: 1; border-radius: 0.35em;\">\n",
       "    Constitution Bench\n",
       "    <span style=\"font-size: 0.8em; font-weight: bold; line-height: 1; border-radius: 0.35em; vertical-align: middle; margin-left: 0.5rem\">COURT</span>\n",
       "</mark>\n",
       " in \n",
       "<mark class=\"entity\" style=\"background: #fad6d6; padding: 0.45em 0.6em; margin: 0 0.25em; line-height: 1; border-radius: 0.35em;\">\n",
       "    State of Punjab v. Jagdip Singh [ ( 1964 ) 4 SCR 964 : AIR 1964 SC 521 ]\n",
       "    <span style=\"font-size: 0.8em; font-weight: bold; line-height: 1; border-radius: 0.35em; vertical-align: middle; margin-left: 0.5rem\">PRECEDENT</span>\n",
       "</mark>\n",
       " . </br> `` ... ... ... .Deficiencies in investigation by way of omissions and lapses on the part of investigating agency can not in themselves justify a total rejection of the prosecution case. '' Hon'ble the \n",
       "<mark class=\"entity\" style=\"background: #bbabf2; padding: 0.45em 0.6em; margin: 0 0.25em; line-height: 1; border-radius: 0.35em;\">\n",
       "    Supreme Court\n",
       "    <span style=\"font-size: 0.8em; font-weight: bold; line-height: 1; border-radius: 0.35em; vertical-align: middle; margin-left: 0.5rem\">COURT</span>\n",
       "</mark>\n",
       " has again in the case of \n",
       "<mark class=\"entity\" style=\"background: #fad6d6; padding: 0.45em 0.6em; margin: 0 0.25em; line-height: 1; border-radius: 0.35em;\">\n",
       "    Surajit Sarkar Vs. State of West Bengal36\n",
       "    <span style=\"font-size: 0.8em; font-weight: bold; line-height: 1; border-radius: 0.35em; vertical-align: middle; margin-left: 0.5rem\">PRECEDENT</span>\n",
       "</mark>\n",
       " , has addressed the issue and held that : - 49 . </br> If a Family Court before which an application is made under \n",
       "<mark class=\"entity\" style=\"background: yellow; padding: 0.45em 0.6em; margin: 0 0.25em; line-height: 1; border-radius: 0.35em;\">\n",
       "    Section 7\n",
       "    <span style=\"font-size: 0.8em; font-weight: bold; line-height: 1; border-radius: 0.35em; vertical-align: middle; margin-left: 0.5rem\">PROVISION</span>\n",
       "</mark>\n",
       " of the Act finds that the minor whose guardianship is sought in the application , ordinarily resides within its territorial jurisdiction , such Family Court is bound to entertain the application and decide that application on merit in accordance with law . </br> Explanation 2.- The terms on which an adjournment or postponement may be granted include , in appropriate cases , the payment of costs by the prosecution or the accused . </br> In this regard in \n",
       "<mark class=\"entity\" style=\"background: #fad6d6; padding: 0.45em 0.6em; margin: 0 0.25em; line-height: 1; border-radius: 0.35em;\">\n",
       "    Rohitbhai Jivanlal Patel vs State of Gujarat\n",
       "    <span style=\"font-size: 0.8em; font-weight: bold; line-height: 1; border-radius: 0.35em; vertical-align: middle; margin-left: 0.5rem\">PRECEDENT</span>\n",
       "</mark>\n",
       " decided by hon'ble \n",
       "<mark class=\"entity\" style=\"background: #bbabf2; padding: 0.45em 0.6em; margin: 0 0.25em; line-height: 1; border-radius: 0.35em;\">\n",
       "    Apex Court\n",
       "    <span style=\"font-size: 0.8em; font-weight: bold; line-height: 1; border-radius: 0.35em; vertical-align: middle; margin-left: 0.5rem\">COURT</span>\n",
       "</mark>\n",
       " in \n",
       "<mark class=\"entity\" style=\"background: #fbb1cf; padding: 0.45em 0.6em; margin: 0 0.25em; line-height: 1; border-radius: 0.35em;\">\n",
       "    Crl Appeal no. 508/2019\n",
       "    <span style=\"font-size: 0.8em; font-weight: bold; line-height: 1; border-radius: 0.35em; vertical-align: middle; margin-left: 0.5rem\">CASE_NUMBER</span>\n",
       "</mark>\n",
       " decided on \n",
       "<mark class=\"entity\" style=\"background: #b1ecf7; padding: 0.45em 0.6em; margin: 0 0.25em; line-height: 1; border-radius: 0.35em;\">\n",
       "    15.03.2019\n",
       "    <span style=\"font-size: 0.8em; font-weight: bold; line-height: 1; border-radius: 0.35em; vertical-align: middle; margin-left: 0.5rem\">DATE</span>\n",
       "</mark>\n",
       " , it has been held as under : </br> A claim for arrears of rent has also been held to be an actionable claim ( \n",
       "<mark class=\"entity\" style=\"background: #fad6d6; padding: 0.45em 0.6em; margin: 0 0.25em; line-height: 1; border-radius: 0.35em;\">\n",
       "    State of Bihar v. Maharajadhiraja Sir Kameshwar Singh [ 1952 SCR 889 : AIR 1952 SC 252 ]\n",
       "    <span style=\"font-size: 0.8em; font-weight: bold; line-height: 1; border-radius: 0.35em; vertical-align: middle; margin-left: 0.5rem\">PRECEDENT</span>\n",
       "</mark>\n",
       " , SCR at p. 910 ) . </br> On \n",
       "<mark class=\"entity\" style=\"background: #b1ecf7; padding: 0.45em 0.6em; margin: 0 0.25em; line-height: 1; border-radius: 0.35em;\">\n",
       "    14th February , 2018\n",
       "    <span style=\"font-size: 0.8em; font-weight: bold; line-height: 1; border-radius: 0.35em; vertical-align: middle; margin-left: 0.5rem\">DATE</span>\n",
       "</mark>\n",
       " , one Mr. \n",
       "<mark class=\"entity\" style=\"background: #b0f6a2; padding: 0.45em 0.6em; margin: 0 0.25em; line-height: 1; border-radius: 0.35em;\">\n",
       "    Amar N. Barot\n",
       "    <span style=\"font-size: 0.8em; font-weight: bold; line-height: 1; border-radius: 0.35em; vertical-align: middle; margin-left: 0.5rem\">OTHER_PERSON</span>\n",
       "</mark>\n",
       " , General Secretary of the \n",
       "<mark class=\"entity\" style=\"background: #a57db5; padding: 0.45em 0.6em; margin: 0 0.25em; line-height: 1; border-radius: 0.35em;\">\n",
       "    Textile Labour Association\n",
       "    <span style=\"font-size: 0.8em; font-weight: bold; line-height: 1; border-radius: 0.35em; vertical-align: middle; margin-left: 0.5rem\">ORG</span>\n",
       "</mark>\n",
       " made a mention before the court that the judgment in the case may either be dictated or the matter may be released and sent to the regular bench. 2 . </br> This will be clarified in the instant case by comparison of \n",
       "<mark class=\"entity\" style=\"background: yellow; padding: 0.45em 0.6em; margin: 0 0.25em; line-height: 1; border-radius: 0.35em;\">\n",
       "    sub- section ( 1 ) of Section 15 with sub-section ( 1 ) of Section 15-A\n",
       "    <span style=\"font-size: 0.8em; font-weight: bold; line-height: 1; border-radius: 0.35em; vertical-align: middle; margin-left: 0.5rem\">PROVISION</span>\n",
       "</mark>\n",
       " . </br> However , the Minister for Legislative Affairs at 10 a.m. on \n",
       "<mark class=\"entity\" style=\"background: #b1ecf7; padding: 0.45em 0.6em; margin: 0 0.25em; line-height: 1; border-radius: 0.35em;\">\n",
       "    13.03.2018\n",
       "    <span style=\"font-size: 0.8em; font-weight: bold; line-height: 1; border-radius: 0.35em; vertical-align: middle; margin-left: 0.5rem\">DATE</span>\n",
       "</mark>\n",
       " stood up and directly recommended for expulsion of 2 members and suspension of 11 members and the Speaker immediately accepted and expelled both the petitioners and suspended the others without there being any deliberation , discussion , debate or giving reasonable opportunity to explain their version before expelling them . </br> It is submitted by the Counsel for the State , that in the compliance report dated \n",
       "<mark class=\"entity\" style=\"background: #b1ecf7; padding: 0.45em 0.6em; margin: 0 0.25em; line-height: 1; border-radius: 0.35em;\">\n",
       "    9-11-2020\n",
       "    <span style=\"font-size: 0.8em; font-weight: bold; line-height: 1; border-radius: 0.35em; vertical-align: middle; margin-left: 0.5rem\">DATE</span>\n",
       "</mark>\n",
       " , it was mentioned that the respondents no. 3 to 5 have been line-attached , but looking to the seriousness of the misconduct committed by them , today , they have been placed under suspension . </br> The contention of Mr. \n",
       "<mark class=\"entity\" style=\"background: #b0f6a2; padding: 0.45em 0.6em; margin: 0 0.25em; line-height: 1; border-radius: 0.35em;\">\n",
       "    Datta\n",
       "    <span style=\"font-size: 0.8em; font-weight: bold; line-height: 1; border-radius: 0.35em; vertical-align: middle; margin-left: 0.5rem\">OTHER_PERSON</span>\n",
       "</mark>\n",
       " , therefore , has been that learned Judges of this Court have uniformly held , upon duly reading the said order , that the retired employees are entitled to pension from the date of refund and there being no valid reason for taking a different view , there is no need for clarification of the said order ; accordingly , \n",
       "<mark class=\"entity\" style=\"background: #fbb1cf; padding: 0.45em 0.6em; margin: 0 0.25em; line-height: 1; border-radius: 0.35em;\">\n",
       "    G.A. No. 464 of 2018\n",
       "    <span style=\"font-size: 0.8em; font-weight: bold; line-height: 1; border-radius: 0.35em; vertical-align: middle; margin-left: 0.5rem\">CASE_NUMBER</span>\n",
       "</mark>\n",
       " merits outright dismissal . </br> </div>\n",
       "</figure>\n",
       "</body>\n",
       "</html></span>"
      ],
      "text/plain": [
       "<IPython.core.display.HTML object>"
      ]
     },
     "metadata": {},
     "output_type": "display_data"
    },
    {
     "name": "stdout",
     "output_type": "stream",
     "text": [
      "\n",
      "Using the 'ent' visualizer\n",
      "Serving on http://0.0.0.0:5000 ...\n",
      "\n"
     ]
    },
    {
     "name": "stderr",
     "output_type": "stream",
     "text": [
      "127.0.0.1 - - [22/Mar/2023 15:22:09] \"GET / HTTP/1.1\" 200 18762\n"
     ]
    },
    {
     "name": "stdout",
     "output_type": "stream",
     "text": [
      "Shutting down server on port 5000.\n"
     ]
    }
   ],
   "source": [
    "options = {\"colors\": colors}\n",
    "displacy.serve(doc, style='ent', options=options)"
   ]
  },
  {
   "cell_type": "code",
   "execution_count": null,
   "id": "c2b77b77",
   "metadata": {},
   "outputs": [],
   "source": []
  }
 ],
 "metadata": {
  "kernelspec": {
   "display_name": "Python 3 (ipykernel)",
   "language": "python",
   "name": "python3"
  },
  "language_info": {
   "codemirror_mode": {
    "name": "ipython",
    "version": 3
   },
   "file_extension": ".py",
   "mimetype": "text/x-python",
   "name": "python",
   "nbconvert_exporter": "python",
   "pygments_lexer": "ipython3",
   "version": "3.10.9"
  }
 },
 "nbformat": 4,
 "nbformat_minor": 5
}
