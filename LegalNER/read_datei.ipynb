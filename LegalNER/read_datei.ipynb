{
 "cells": [
  {
   "cell_type": "code",
   "execution_count": 1,
   "id": "b7761d4f-4396-4386-9e2d-09254fcebb47",
   "metadata": {},
   "outputs": [],
   "source": [
    "import pandas as pd\n",
    "import json"
   ]
  },
  {
   "cell_type": "code",
   "execution_count": 2,
   "id": "fb51da5d-34e5-48ea-b3c4-4a152ea30202",
   "metadata": {},
   "outputs": [],
   "source": [
    "with open(\"NER_TRAIN/NER_TRAIN_JUDGEMENT.json\") as json_file_train:\n",
    "    json_object_train = json.load(json_file_train)"
   ]
  },
  {
   "cell_type": "code",
   "execution_count": 3,
   "id": "7ff63726-3ef1-4d8e-9c17-3f3d8b2de509",
   "metadata": {},
   "outputs": [],
   "source": [
    "with open(\"NER_DEV/NER_DEV/NER_DEV_JUDGEMENT.json\") as json_file_dev:\n",
    "    json_object_dev = json.load(json_file_dev)"
   ]
  },
  {
   "cell_type": "code",
   "execution_count": 4,
   "id": "e6b32311-4434-4307-aca9-e8068f54acba",
   "metadata": {},
   "outputs": [],
   "source": [
    "json_formatted_str = json.dumps(json_object_train[1], indent=2)"
   ]
  },
  {
   "cell_type": "code",
   "execution_count": 5,
   "id": "4acc7f70-280a-4421-9ee5-2a03fcafc90d",
   "metadata": {},
   "outputs": [
    {
     "name": "stdout",
     "output_type": "stream",
     "text": [
      "{\n",
      "  \"id\": \"a325c57ba5b84c6fa46bee65e6616633\",\n",
      "  \"annotations\": [\n",
      "    {\n",
      "      \"result\": [\n",
      "        {\n",
      "          \"value\": {\n",
      "            \"start\": 26,\n",
      "            \"end\": 30,\n",
      "            \"text\": \"Agya\",\n",
      "            \"labels\": [\n",
      "              \"OTHER_PERSON\"\n",
      "            ]\n",
      "          },\n",
      "          \"id\": \"0V4Q2F2B\",\n",
      "          \"from_name\": \"label\",\n",
      "          \"to_name\": \"text\",\n",
      "          \"type\": \"labels\"\n",
      "        },\n",
      "        {\n",
      "          \"value\": {\n",
      "            \"start\": 101,\n",
      "            \"end\": 105,\n",
      "            \"text\": \"Kaur\",\n",
      "            \"labels\": [\n",
      "              \"OTHER_PERSON\"\n",
      "            ]\n",
      "          },\n",
      "          \"id\": \"HLWY1CM9\",\n",
      "          \"from_name\": \"label\",\n",
      "          \"to_name\": \"text\",\n",
      "          \"type\": \"labels\"\n",
      "        },\n",
      "        {\n",
      "          \"value\": {\n",
      "            \"start\": 159,\n",
      "            \"end\": 174,\n",
      "            \"text\": \"Tarlochan Singh\",\n",
      "            \"labels\": [\n",
      "              \"OTHER_PERSON\"\n",
      "            ]\n",
      "          },\n",
      "          \"id\": \"9BYYLAZB\",\n",
      "          \"from_name\": \"label\",\n",
      "          \"to_name\": \"text\",\n",
      "          \"type\": \"labels\"\n",
      "        }\n",
      "      ]\n",
      "    }\n",
      "  ],\n",
      "  \"data\": {\n",
      "    \"text\": \"He was also asked whether Agya <span class=\\\"hidden_text\\\" id=\\\"span_5\\\"> CRA No.326-DB of 1998 6</span> Kaur, mother-in-law of the deceased lived separately from Tarlochan Singh.\"\n",
      "  },\n",
      "  \"meta\": {\n",
      "    \"source\": \"criminal_punjab-haryana_high_court judgement https://indiankanoon.org/doc/264463\"\n",
      "  }\n",
      "}\n"
     ]
    }
   ],
   "source": [
    "print(json_formatted_str)"
   ]
  },
  {
   "cell_type": "code",
   "execution_count": null,
   "id": "375482c9-2003-4733-8c58-a57969b0bde5",
   "metadata": {},
   "outputs": [],
   "source": []
  },
  {
   "cell_type": "code",
   "execution_count": 6,
   "id": "ffb5a287-c3e7-4b87-85a3-58db3163851a",
   "metadata": {},
   "outputs": [
    {
     "data": {
      "text/plain": [
       "{'COURT': 1,\n",
       " 'PETITIONER': 2,\n",
       " 'RESPONDENT': 3,\n",
       " 'JUDGE': 4,\n",
       " 'LAWYER': 5,\n",
       " 'DATE': 6,\n",
       " 'ORG': 7,\n",
       " 'GPE': 8,\n",
       " 'STATUTE': 9,\n",
       " 'PROVISION': 10,\n",
       " 'PRECEDENT': 11,\n",
       " 'CASE_NUMBER': 12,\n",
       " 'WITNESS': 13,\n",
       " 'OTHER_PERSON': 14}"
      ]
     },
     "execution_count": 6,
     "metadata": {},
     "output_type": "execute_result"
    }
   ],
   "source": [
    "named_entities = [\"COURT\", \"PETITIONER\", \"RESPONDENT\", \"JUDGE\", \"LAWYER\", \"DATE\", \"ORG\", \"GPE\", \"STATUTE\", \"PROVISION\", \"PRECEDENT\", \"CASE_NUMBER\", \"WITNESS\", \"OTHER_PERSON\"]\n",
    "named_entities_to_list = {\"\".join(key): idx for idx, key in enumerate(named_entities)}\n",
    "for key, value in named_entities_to_list.items():\n",
    "    named_entities_to_list[key] = named_entities_to_list[key] + 1\n",
    "named_entities_to_list  "
   ]
  },
  {
   "cell_type": "code",
   "execution_count": null,
   "id": "8610b588-15ec-46e0-9638-3bac9b88fdff",
   "metadata": {},
   "outputs": [],
   "source": []
  },
  {
   "cell_type": "code",
   "execution_count": 7,
   "id": "9f09d8d9-c6c1-4258-86fd-85362d86ecf8",
   "metadata": {},
   "outputs": [],
   "source": [
    "def get_start_and_end_and_labels(tree):\n",
    "    start_and_end_and_labels = []\n",
    "    for label in tree[\"annotations\"][0][\"result\"]:\n",
    "        labels = label[\"value\"][\"labels\"][0]\n",
    "        start = label[\"value\"][\"start\"]\n",
    "        end = label[\"value\"][\"end\"]\n",
    "        start_and_end_and_labels.append([labels, start, end])\n",
    "    return start_and_end_and_labels"
   ]
  },
  {
   "cell_type": "code",
   "execution_count": 8,
   "id": "33216205-2242-4cda-a9e1-516df4652f2a",
   "metadata": {},
   "outputs": [],
   "source": [
    "def slice_id_to_token_id(text, start, end):\n",
    "    token_number_start = 0\n",
    "    token_number_end = 1\n",
    "    for char in text[:start]:\n",
    "        if char == \" \":        \n",
    "            token_number_start += 1\n",
    "    for char in text[:end]:\n",
    "        if char == \" \":\n",
    "            token_number_end += 1\n",
    "    return token_number_start, token_number_end"
   ]
  },
  {
   "cell_type": "code",
   "execution_count": 23,
   "id": "717d6ca7-cc60-452b-8dab-4578a963b8c1",
   "metadata": {},
   "outputs": [],
   "source": [
    "import re\n",
    "def text_to_text_plus_label(text, labels):\n",
    "    text = re.sub(r\"\\n\", \" \", text)\n",
    "    token_numbers_of_labels = []\n",
    "    for label in labels:\n",
    "        start, end = slice_id_to_token_id(text, label[1], label[2])\n",
    "        token_numbers_of_labels.append([label[0], start, end])\n",
    "    tokens = text.split(\" \")\n",
    "    number_of_tokens = len(tokens)\n",
    "    \n",
    "    token_labels = [ 0 for i in range(number_of_tokens)]\n",
    "    for label in token_numbers_of_labels:\n",
    "        # check the label\n",
    "        # print(tokens[label[1]:label[2]])\n",
    "        \n",
    "        token_labels[label[1]] = named_entities_to_list[label[0]] * 2 - 1\n",
    "        for i in range(label[1] + 1, label[2]):\n",
    "            token_labels[i] = named_entities_to_list[label[0]]  * 2\n",
    "    \n",
    "    return_text = \"\\t\".join(tokens)\n",
    "    return_text += \"\\t\"\n",
    "    return_text += \"\\t\".join([str(x) for x in token_labels])\n",
    "    return_text = str(number_of_tokens) + \"\\t\" + return_text\n",
    "    return return_text"
   ]
  },
  {
   "cell_type": "code",
   "execution_count": null,
   "id": "387c4cbe-5941-4860-ae52-663beabc485d",
   "metadata": {},
   "outputs": [],
   "source": []
  },
  {
   "cell_type": "code",
   "execution_count": 24,
   "id": "6b91df10-12c4-4a0e-8407-7f177a1186aa",
   "metadata": {},
   "outputs": [],
   "source": [
    "with open(\"LegalNER_train.txt\", \"w\") as train:\n",
    "    conll_format = \"\"\n",
    "    for tree in json_object_train:\n",
    "        labels = get_start_and_end_and_labels(tree)\n",
    "        text = tree[\"data\"][\"text\"]\n",
    "        conll_format += text_to_text_plus_label(text, labels) \n",
    "        conll_format += \"\\n\"\n",
    "    train.write(conll_format)\n",
    "    train.close()"
   ]
  },
  {
   "cell_type": "code",
   "execution_count": 25,
   "id": "efebad67-de65-4029-86da-00ff3eadc215",
   "metadata": {},
   "outputs": [],
   "source": [
    "with open(\"LegalNER_test.txt\", \"w\") as dev:\n",
    "    conll_format = \"\"\n",
    "    for tree in json_object_dev:\n",
    "        labels = get_start_and_end_and_labels(tree)\n",
    "        text = tree[\"data\"][\"text\"]\n",
    "        conll_format += text_to_text_plus_label(text, labels) \n",
    "        conll_format += \"\\n\"\n",
    "    dev.write(conll_format)\n",
    "    dev.close()"
   ]
  },
  {
   "cell_type": "code",
   "execution_count": null,
   "id": "b51a22d3-c5f2-42f9-9d30-511434b65d4a",
   "metadata": {},
   "outputs": [],
   "source": []
  },
  {
   "cell_type": "code",
   "execution_count": 22,
   "id": "1ae33402",
   "metadata": {},
   "outputs": [],
   "source": [
    "# Bericht 5 - 10 Seiten\n",
    "# Fehleranalyse\n",
    "# Vergeich unterschiedlicher Verfahren\n",
    "# daten einreichen mit READFILE!"
   ]
  },
  {
   "cell_type": "code",
   "execution_count": null,
   "id": "bd06ea4a",
   "metadata": {},
   "outputs": [],
   "source": [
    "# Muendliche Pruefung 1. Vorlesungswoche\n",
    "# Terminauswahl dazwischen\n",
    "# theoretischer Teil\n",
    "# im Gespraech"
   ]
  }
 ],
 "metadata": {
  "kernelspec": {
   "display_name": "Python 3 (ipykernel)",
   "language": "python",
   "name": "python3"
  },
  "language_info": {
   "codemirror_mode": {
    "name": "ipython",
    "version": 3
   },
   "file_extension": ".py",
   "mimetype": "text/x-python",
   "name": "python",
   "nbconvert_exporter": "python",
   "pygments_lexer": "ipython3",
   "version": "3.10.8"
  }
 },
 "nbformat": 4,
 "nbformat_minor": 5
}
