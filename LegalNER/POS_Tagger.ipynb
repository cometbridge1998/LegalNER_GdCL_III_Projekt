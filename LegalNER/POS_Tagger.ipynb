{
 "cells": [
  {
   "cell_type": "markdown",
   "id": "5bf6198d-898e-494c-9255-9f02b0c7b4ed",
   "metadata": {},
   "source": [
    "# POS_Tagger"
   ]
  },
  {
   "cell_type": "markdown",
   "id": "eaafe5ca-8364-426a-b843-8a8ca1836c3e",
   "metadata": {},
   "source": [
    "In this Notebook two POS taggers will be adopted to add the Part of Speech types of each token to the dataframe. <br>\n",
    "The first is the standard tokenizer (a <i>pretrained PerceptronTagger</i>) provided by <i>nltk</i>. <br>\n",
    "The second is the <i>TreeTagger</i> configured with the <i>Penn treebank</i>. <br>\n",
    "The TreeTagger provides also lemmas of each token to the dataframe."
   ]
  },
  {
   "cell_type": "markdown",
   "id": "01376178-ff04-40da-9d4c-3dc4fee56b92",
   "metadata": {},
   "source": [
    "Specific informations about installing and configuring the TreeTagger are included in the README.md of the Github Repository."
   ]
  },
  {
   "cell_type": "code",
   "execution_count": 12,
   "id": "ad255f0b-830d-4c0d-8cc9-c91486b48a67",
   "metadata": {},
   "outputs": [],
   "source": [
    "from nltk import pos_tag\n",
    "from nltk.tag.perceptron import PerceptronTagger\n",
    "import pandas as pd\n",
    "import numpy as np"
   ]
  },
  {
   "cell_type": "code",
   "execution_count": 13,
   "id": "15621f17-2f3d-4719-a79b-f2bb6959cd60",
   "metadata": {},
   "outputs": [],
   "source": [
    "from sklearn.feature_extraction import DictVectorizer\n",
    "from sklearn.feature_extraction.text import CountVectorizer, HashingVectorizer\n",
    "from sklearn.linear_model import Perceptron\n",
    "from sklearn.model_selection import train_test_split\n",
    "from sklearn.linear_model import SGDClassifier, PassiveAggressiveClassifier\n",
    "from sklearn.naive_bayes import MultinomialNB\n",
    "from sklearn.metrics import classification_report"
   ]
  },
  {
   "cell_type": "code",
   "execution_count": 14,
   "id": "ef2bc642-90a5-4e70-90a1-c0fb602ca380",
   "metadata": {},
   "outputs": [
    {
     "name": "stderr",
     "output_type": "stream",
     "text": [
      "/home/luxinyao/.local/lib/python3.10/site-packages/treetaggerwrapper.py:739: FutureWarning: Possible nested set at position 8\n",
      "  punct2find_re = re.compile(\"([^ ])([[\" + ALONEMARKS + \"])\",\n",
      "/home/luxinyao/.local/lib/python3.10/site-packages/treetaggerwrapper.py:2043: FutureWarning: Possible nested set at position 152\n",
      "  DnsHostMatch_re = re.compile(\"(\" + DnsHost_expression + \")\",\n",
      "/home/luxinyao/.local/lib/python3.10/site-packages/treetaggerwrapper.py:2067: FutureWarning: Possible nested set at position 409\n",
      "  UrlMatch_re = re.compile(UrlMatch_expression, re.VERBOSE | re.IGNORECASE)\n",
      "/home/luxinyao/.local/lib/python3.10/site-packages/treetaggerwrapper.py:2079: FutureWarning: Possible nested set at position 192\n",
      "  EmailMatch_re = re.compile(EmailMatch_expression, re.VERBOSE | re.IGNORECASE)\n"
     ]
    }
   ],
   "source": [
    "import treetaggerwrapper"
   ]
  },
  {
   "cell_type": "markdown",
   "id": "b0bedc28-ba1d-4154-a3c3-58de7e519f83",
   "metadata": {},
   "source": [
    "<br> load the tokenized train and dev dataframes "
   ]
  },
  {
   "cell_type": "code",
   "execution_count": 15,
   "id": "470bdb1c-53fe-4504-b1ab-6cb0c5ba8fc3",
   "metadata": {},
   "outputs": [],
   "source": [
    "df_train = pd.read_csv(\"transitional_data/tokenized_train.csv\")\n",
    "df_dev = pd.read_csv(\"transitional_data/tokenized_dev.csv\")"
   ]
  },
  {
   "cell_type": "code",
   "execution_count": 7,
   "id": "5dc5f7d4-c9f7-4fe3-9f13-1a5c210d8b9f",
   "metadata": {},
   "outputs": [
    {
     "data": {
      "text/html": [
       "<div>\n",
       "<style scoped>\n",
       "    .dataframe tbody tr th:only-of-type {\n",
       "        vertical-align: middle;\n",
       "    }\n",
       "\n",
       "    .dataframe tbody tr th {\n",
       "        vertical-align: top;\n",
       "    }\n",
       "\n",
       "    .dataframe thead th {\n",
       "        text-align: right;\n",
       "    }\n",
       "</style>\n",
       "<table border=\"1\" class=\"dataframe\">\n",
       "  <thead>\n",
       "    <tr style=\"text-align: right;\">\n",
       "      <th></th>\n",
       "      <th>SentenceNR</th>\n",
       "      <th>Token</th>\n",
       "      <th>Label</th>\n",
       "    </tr>\n",
       "  </thead>\n",
       "  <tbody>\n",
       "    <tr>\n",
       "      <th>0</th>\n",
       "      <td>0</td>\n",
       "      <td>(</td>\n",
       "      <td>o</td>\n",
       "    </tr>\n",
       "    <tr>\n",
       "      <th>1</th>\n",
       "      <td>0</td>\n",
       "      <td>7</td>\n",
       "      <td>o</td>\n",
       "    </tr>\n",
       "    <tr>\n",
       "      <th>2</th>\n",
       "      <td>0</td>\n",
       "      <td>)</td>\n",
       "      <td>o</td>\n",
       "    </tr>\n",
       "    <tr>\n",
       "      <th>3</th>\n",
       "      <td>0</td>\n",
       "      <td>On</td>\n",
       "      <td>o</td>\n",
       "    </tr>\n",
       "    <tr>\n",
       "      <th>4</th>\n",
       "      <td>0</td>\n",
       "      <td>specific</td>\n",
       "      <td>o</td>\n",
       "    </tr>\n",
       "    <tr>\n",
       "      <th>...</th>\n",
       "      <td>...</td>\n",
       "      <td>...</td>\n",
       "      <td>...</td>\n",
       "    </tr>\n",
       "    <tr>\n",
       "      <th>349072</th>\n",
       "      <td>9434</td>\n",
       "      <td>accused</td>\n",
       "      <td>o</td>\n",
       "    </tr>\n",
       "    <tr>\n",
       "      <th>349073</th>\n",
       "      <td>9434</td>\n",
       "      <td>No.1</td>\n",
       "      <td>o</td>\n",
       "    </tr>\n",
       "    <tr>\n",
       "      <th>349074</th>\n",
       "      <td>9434</td>\n",
       "      <td>as</td>\n",
       "      <td>o</td>\n",
       "    </tr>\n",
       "    <tr>\n",
       "      <th>349075</th>\n",
       "      <td>9434</td>\n",
       "      <td>aforementioned</td>\n",
       "      <td>o</td>\n",
       "    </tr>\n",
       "    <tr>\n",
       "      <th>349076</th>\n",
       "      <td>9434</td>\n",
       "      <td>.</td>\n",
       "      <td>o</td>\n",
       "    </tr>\n",
       "  </tbody>\n",
       "</table>\n",
       "<p>349077 rows × 3 columns</p>\n",
       "</div>"
      ],
      "text/plain": [
       "        SentenceNR           Token Label\n",
       "0                0               (     o\n",
       "1                0               7     o\n",
       "2                0               )     o\n",
       "3                0              On     o\n",
       "4                0        specific     o\n",
       "...            ...             ...   ...\n",
       "349072        9434         accused     o\n",
       "349073        9434            No.1     o\n",
       "349074        9434              as     o\n",
       "349075        9434  aforementioned     o\n",
       "349076        9434               .     o\n",
       "\n",
       "[349077 rows x 3 columns]"
      ]
     },
     "execution_count": 7,
     "metadata": {},
     "output_type": "execute_result"
    }
   ],
   "source": [
    "df_train"
   ]
  },
  {
   "cell_type": "markdown",
   "id": "4bced9d5-bea1-45b6-a638-15dd2366d1b5",
   "metadata": {},
   "source": [
    "## tag_by_SentenceNR\n",
    "tagging the tokens per sentence <br>\n",
    "The second parameter \"tagger\" of this function should be a tagger object. (here: standard tokenizer of nltk \"pos_tag\") <br>\n",
    "It return a list of tags with the same length as the dataframe, otherwise a ValueError would be raised."
   ]
  },
  {
   "cell_type": "code",
   "execution_count": 8,
   "id": "15ad2f29-5dd3-4f88-9e7f-7a97510051a8",
   "metadata": {},
   "outputs": [],
   "source": [
    "def tag_by_SentenceNR(df, tagger):\n",
    "    all_tags = []\n",
    "    sentence_numbers = df[\"SentenceNR\"].unique()\n",
    "    for nr in sentence_numbers:\n",
    "        s = df[ df[\"SentenceNR\"] == nr ]\n",
    "        s[\"Token\"] = s[\"Token\"].astype(\"str\")\n",
    "        tags = [e[1] for e in tagger(s[\"Token\"].tolist())]\n",
    "        all_tags += tags\n",
    "    if len(all_tags)== len(df):\n",
    "        return all_tags\n",
    "    else:\n",
    "        raise ValueError"
   ]
  },
  {
   "cell_type": "code",
   "execution_count": 9,
   "id": "3bbcee6e-693f-4817-bceb-a5546392880c",
   "metadata": {},
   "outputs": [
    {
     "name": "stderr",
     "output_type": "stream",
     "text": [
      "/tmp/ipykernel_2322/1276435137.py:6: SettingWithCopyWarning: \n",
      "A value is trying to be set on a copy of a slice from a DataFrame.\n",
      "Try using .loc[row_indexer,col_indexer] = value instead\n",
      "\n",
      "See the caveats in the documentation: https://pandas.pydata.org/pandas-docs/stable/user_guide/indexing.html#returning-a-view-versus-a-copy\n",
      "  s[\"Token\"] = s[\"Token\"].astype(\"str\")\n"
     ]
    },
    {
     "name": "stdout",
     "output_type": "stream",
     "text": [
      "CPU times: user 2.28 s, sys: 36.3 ms, total: 2.31 s\n",
      "Wall time: 2.33 s\n"
     ]
    }
   ],
   "source": [
    "%%time\n",
    "#df_train[\"standard_tagger\"] = tag_by_SentenceNR(df_train, pos_tag)\n",
    "df_dev[\"standard_tagger\"]  = tag_by_SentenceNR(df_dev, pos_tag)"
   ]
  },
  {
   "cell_type": "code",
   "execution_count": 53,
   "id": "a9a11542-16ab-4a0e-857f-b6aced973552",
   "metadata": {},
   "outputs": [
    {
     "data": {
      "text/html": [
       "<div>\n",
       "<style scoped>\n",
       "    .dataframe tbody tr th:only-of-type {\n",
       "        vertical-align: middle;\n",
       "    }\n",
       "\n",
       "    .dataframe tbody tr th {\n",
       "        vertical-align: top;\n",
       "    }\n",
       "\n",
       "    .dataframe thead th {\n",
       "        text-align: right;\n",
       "    }\n",
       "</style>\n",
       "<table border=\"1\" class=\"dataframe\">\n",
       "  <thead>\n",
       "    <tr style=\"text-align: right;\">\n",
       "      <th></th>\n",
       "      <th>SentenceNR</th>\n",
       "      <th>Token</th>\n",
       "      <th>Label</th>\n",
       "      <th>standard_tagger</th>\n",
       "    </tr>\n",
       "  </thead>\n",
       "  <tbody>\n",
       "    <tr>\n",
       "      <th>0</th>\n",
       "      <td>0</td>\n",
       "      <td>(</td>\n",
       "      <td>o</td>\n",
       "      <td>(</td>\n",
       "    </tr>\n",
       "    <tr>\n",
       "      <th>1</th>\n",
       "      <td>0</td>\n",
       "      <td>7</td>\n",
       "      <td>o</td>\n",
       "      <td>CD</td>\n",
       "    </tr>\n",
       "    <tr>\n",
       "      <th>2</th>\n",
       "      <td>0</td>\n",
       "      <td>)</td>\n",
       "      <td>o</td>\n",
       "      <td>)</td>\n",
       "    </tr>\n",
       "    <tr>\n",
       "      <th>3</th>\n",
       "      <td>0</td>\n",
       "      <td>On</td>\n",
       "      <td>o</td>\n",
       "      <td>IN</td>\n",
       "    </tr>\n",
       "    <tr>\n",
       "      <th>4</th>\n",
       "      <td>0</td>\n",
       "      <td>specific</td>\n",
       "      <td>o</td>\n",
       "      <td>JJ</td>\n",
       "    </tr>\n",
       "    <tr>\n",
       "      <th>...</th>\n",
       "      <td>...</td>\n",
       "      <td>...</td>\n",
       "      <td>...</td>\n",
       "      <td>...</td>\n",
       "    </tr>\n",
       "    <tr>\n",
       "      <th>349072</th>\n",
       "      <td>9434</td>\n",
       "      <td>accused</td>\n",
       "      <td>o</td>\n",
       "      <td>JJ</td>\n",
       "    </tr>\n",
       "    <tr>\n",
       "      <th>349073</th>\n",
       "      <td>9434</td>\n",
       "      <td>No.1</td>\n",
       "      <td>o</td>\n",
       "      <td>NNP</td>\n",
       "    </tr>\n",
       "    <tr>\n",
       "      <th>349074</th>\n",
       "      <td>9434</td>\n",
       "      <td>as</td>\n",
       "      <td>o</td>\n",
       "      <td>IN</td>\n",
       "    </tr>\n",
       "    <tr>\n",
       "      <th>349075</th>\n",
       "      <td>9434</td>\n",
       "      <td>aforementioned</td>\n",
       "      <td>o</td>\n",
       "      <td>VBN</td>\n",
       "    </tr>\n",
       "    <tr>\n",
       "      <th>349076</th>\n",
       "      <td>9434</td>\n",
       "      <td>.</td>\n",
       "      <td>o</td>\n",
       "      <td>.</td>\n",
       "    </tr>\n",
       "  </tbody>\n",
       "</table>\n",
       "<p>349077 rows × 4 columns</p>\n",
       "</div>"
      ],
      "text/plain": [
       "        SentenceNR           Token Label standard_tagger\n",
       "0                0               (     o               (\n",
       "1                0               7     o              CD\n",
       "2                0               )     o               )\n",
       "3                0              On     o              IN\n",
       "4                0        specific     o              JJ\n",
       "...            ...             ...   ...             ...\n",
       "349072        9434         accused     o              JJ\n",
       "349073        9434            No.1     o             NNP\n",
       "349074        9434              as     o              IN\n",
       "349075        9434  aforementioned     o             VBN\n",
       "349076        9434               .     o               .\n",
       "\n",
       "[349077 rows x 4 columns]"
      ]
     },
     "execution_count": 53,
     "metadata": {},
     "output_type": "execute_result"
    }
   ],
   "source": [
    "df_train"
   ]
  },
  {
   "cell_type": "markdown",
   "id": "24a0e30f-65db-4ccd-bf01-d853d4d176e1",
   "metadata": {},
   "source": [
    "## tag_by_SentenceNR_with_PerceptronTagger\n",
    "Because the PerceptronTagger cannot be called through the parameter. <br>\n",
    "This time a new tagger object will be initialised in each loop."
   ]
  },
  {
   "cell_type": "code",
   "execution_count": 10,
   "id": "b24e0c96-bab5-402d-858d-088386cda294",
   "metadata": {},
   "outputs": [],
   "source": [
    "def tag_by_SentenceNR_with_PerceptronTagger(df): \n",
    "    all_tags = []\n",
    "    sentence_numbers = df[\"SentenceNR\"].unique()\n",
    "    for nr in sentence_numbers:\n",
    "        s = df[ df[\"SentenceNR\"] == nr ]\n",
    "        s[\"Token\"] = s[\"Token\"].astype(\"str\")\n",
    "        pretrain = PerceptronTagger()\n",
    "        tags = [e[1] for e in pretrain.tag(s[\"Token\"].tolist())]\n",
    "        all_tags += tags\n",
    "    if len(all_tags)== len(df):\n",
    "        return all_tags\n",
    "    else:\n",
    "        raise ValueError"
   ]
  },
  {
   "cell_type": "code",
   "execution_count": 11,
   "id": "c7fe6c09-e9aa-4da5-a8cc-8daa03bff95a",
   "metadata": {},
   "outputs": [
    {
     "name": "stderr",
     "output_type": "stream",
     "text": [
      "/tmp/ipykernel_4946/189087454.py:6: SettingWithCopyWarning: \n",
      "A value is trying to be set on a copy of a slice from a DataFrame.\n",
      "Try using .loc[row_indexer,col_indexer] = value instead\n",
      "\n",
      "See the caveats in the documentation: https://pandas.pydata.org/pandas-docs/stable/user_guide/indexing.html#returning-a-view-versus-a-copy\n",
      "  s[\"Token\"] = s[\"Token\"].astype(\"str\")\n",
      "/tmp/ipykernel_4946/189087454.py:6: SettingWithCopyWarning: \n",
      "A value is trying to be set on a copy of a slice from a DataFrame.\n",
      "Try using .loc[row_indexer,col_indexer] = value instead\n",
      "\n",
      "See the caveats in the documentation: https://pandas.pydata.org/pandas-docs/stable/user_guide/indexing.html#returning-a-view-versus-a-copy\n",
      "  s[\"Token\"] = s[\"Token\"].astype(\"str\")\n"
     ]
    },
    {
     "name": "stdout",
     "output_type": "stream",
     "text": [
      "CPU times: user 22.5 s, sys: 219 ms, total: 22.8 s\n",
      "Wall time: 22.8 s\n"
     ]
    }
   ],
   "source": [
    "%%time\n",
    "df_train[\"PerceptronTagger\"] = tag_by_SentenceNR_with_PerceptronTagger(df_train)\n",
    "df_dev[\"PerceptronTagger\"] = tag_by_SentenceNR_with_PerceptronTagger(df_dev)"
   ]
  },
  {
   "cell_type": "code",
   "execution_count": 12,
   "id": "900e1e83-841a-4e12-93dc-11b4bf88faa3",
   "metadata": {},
   "outputs": [
    {
     "data": {
      "text/html": [
       "<div>\n",
       "<style scoped>\n",
       "    .dataframe tbody tr th:only-of-type {\n",
       "        vertical-align: middle;\n",
       "    }\n",
       "\n",
       "    .dataframe tbody tr th {\n",
       "        vertical-align: top;\n",
       "    }\n",
       "\n",
       "    .dataframe thead th {\n",
       "        text-align: right;\n",
       "    }\n",
       "</style>\n",
       "<table border=\"1\" class=\"dataframe\">\n",
       "  <thead>\n",
       "    <tr style=\"text-align: right;\">\n",
       "      <th></th>\n",
       "      <th>SentenceNR</th>\n",
       "      <th>Token</th>\n",
       "      <th>Label</th>\n",
       "      <th>standard_tagger</th>\n",
       "      <th>PerceptronTagger</th>\n",
       "    </tr>\n",
       "  </thead>\n",
       "  <tbody>\n",
       "    <tr>\n",
       "      <th>0</th>\n",
       "      <td>0</td>\n",
       "      <td>(</td>\n",
       "      <td>o</td>\n",
       "      <td>(</td>\n",
       "      <td>(</td>\n",
       "    </tr>\n",
       "    <tr>\n",
       "      <th>1</th>\n",
       "      <td>0</td>\n",
       "      <td>7</td>\n",
       "      <td>o</td>\n",
       "      <td>CD</td>\n",
       "      <td>CD</td>\n",
       "    </tr>\n",
       "    <tr>\n",
       "      <th>2</th>\n",
       "      <td>0</td>\n",
       "      <td>)</td>\n",
       "      <td>o</td>\n",
       "      <td>)</td>\n",
       "      <td>)</td>\n",
       "    </tr>\n",
       "    <tr>\n",
       "      <th>3</th>\n",
       "      <td>0</td>\n",
       "      <td>On</td>\n",
       "      <td>o</td>\n",
       "      <td>IN</td>\n",
       "      <td>IN</td>\n",
       "    </tr>\n",
       "    <tr>\n",
       "      <th>4</th>\n",
       "      <td>0</td>\n",
       "      <td>specific</td>\n",
       "      <td>o</td>\n",
       "      <td>JJ</td>\n",
       "      <td>JJ</td>\n",
       "    </tr>\n",
       "    <tr>\n",
       "      <th>...</th>\n",
       "      <td>...</td>\n",
       "      <td>...</td>\n",
       "      <td>...</td>\n",
       "      <td>...</td>\n",
       "      <td>...</td>\n",
       "    </tr>\n",
       "    <tr>\n",
       "      <th>349072</th>\n",
       "      <td>9434</td>\n",
       "      <td>accused</td>\n",
       "      <td>o</td>\n",
       "      <td>JJ</td>\n",
       "      <td>JJ</td>\n",
       "    </tr>\n",
       "    <tr>\n",
       "      <th>349073</th>\n",
       "      <td>9434</td>\n",
       "      <td>No.1</td>\n",
       "      <td>o</td>\n",
       "      <td>NNP</td>\n",
       "      <td>NNP</td>\n",
       "    </tr>\n",
       "    <tr>\n",
       "      <th>349074</th>\n",
       "      <td>9434</td>\n",
       "      <td>as</td>\n",
       "      <td>o</td>\n",
       "      <td>IN</td>\n",
       "      <td>IN</td>\n",
       "    </tr>\n",
       "    <tr>\n",
       "      <th>349075</th>\n",
       "      <td>9434</td>\n",
       "      <td>aforementioned</td>\n",
       "      <td>o</td>\n",
       "      <td>VBN</td>\n",
       "      <td>VBN</td>\n",
       "    </tr>\n",
       "    <tr>\n",
       "      <th>349076</th>\n",
       "      <td>9434</td>\n",
       "      <td>.</td>\n",
       "      <td>o</td>\n",
       "      <td>.</td>\n",
       "      <td>.</td>\n",
       "    </tr>\n",
       "  </tbody>\n",
       "</table>\n",
       "<p>349077 rows × 5 columns</p>\n",
       "</div>"
      ],
      "text/plain": [
       "        SentenceNR           Token Label standard_tagger PerceptronTagger\n",
       "0                0               (     o               (                (\n",
       "1                0               7     o              CD               CD\n",
       "2                0               )     o               )                )\n",
       "3                0              On     o              IN               IN\n",
       "4                0        specific     o              JJ               JJ\n",
       "...            ...             ...   ...             ...              ...\n",
       "349072        9434         accused     o              JJ               JJ\n",
       "349073        9434            No.1     o             NNP              NNP\n",
       "349074        9434              as     o              IN               IN\n",
       "349075        9434  aforementioned     o             VBN              VBN\n",
       "349076        9434               .     o               .                .\n",
       "\n",
       "[349077 rows x 5 columns]"
      ]
     },
     "execution_count": 12,
     "metadata": {},
     "output_type": "execute_result"
    }
   ],
   "source": [
    "df_train"
   ]
  },
  {
   "cell_type": "markdown",
   "id": "5d528f85-0fa6-41a7-879b-93a1bdfc9c83",
   "metadata": {},
   "source": [
    "<br> compare the outcome of standard tagger and PerceptronTagger"
   ]
  },
  {
   "cell_type": "code",
   "execution_count": 14,
   "id": "746379a0-dd31-430b-8cde-a17106c2a85d",
   "metadata": {},
   "outputs": [
    {
     "data": {
      "text/html": [
       "<div>\n",
       "<style scoped>\n",
       "    .dataframe tbody tr th:only-of-type {\n",
       "        vertical-align: middle;\n",
       "    }\n",
       "\n",
       "    .dataframe tbody tr th {\n",
       "        vertical-align: top;\n",
       "    }\n",
       "\n",
       "    .dataframe thead th {\n",
       "        text-align: right;\n",
       "    }\n",
       "</style>\n",
       "<table border=\"1\" class=\"dataframe\">\n",
       "  <thead>\n",
       "    <tr style=\"text-align: right;\">\n",
       "      <th></th>\n",
       "      <th>SentenceNR</th>\n",
       "      <th>Token</th>\n",
       "      <th>Label</th>\n",
       "      <th>standard_tagger</th>\n",
       "      <th>PerceptronTagger</th>\n",
       "    </tr>\n",
       "  </thead>\n",
       "  <tbody>\n",
       "  </tbody>\n",
       "</table>\n",
       "</div>"
      ],
      "text/plain": [
       "Empty DataFrame\n",
       "Columns: [SentenceNR, Token, Label, standard_tagger, PerceptronTagger]\n",
       "Index: []"
      ]
     },
     "execution_count": 14,
     "metadata": {},
     "output_type": "execute_result"
    }
   ],
   "source": [
    "df_train[df_train['standard_tagger'] != df_train['PerceptronTagger']]\n",
    "df_dev[df_dev['standard_tagger'] != df_dev['PerceptronTagger']]"
   ]
  },
  {
   "cell_type": "markdown",
   "id": "1dd8668f-9337-4282-9bfa-bd60a441e01e",
   "metadata": {},
   "source": [
    "They are actually the same. <br>\n",
    "Delete the standard_tagger from the dataframe."
   ]
  },
  {
   "cell_type": "code",
   "execution_count": 15,
   "id": "9756cad2-eb16-476f-80e5-8d52c05606d8",
   "metadata": {},
   "outputs": [
    {
     "data": {
      "text/html": [
       "<div>\n",
       "<style scoped>\n",
       "    .dataframe tbody tr th:only-of-type {\n",
       "        vertical-align: middle;\n",
       "    }\n",
       "\n",
       "    .dataframe tbody tr th {\n",
       "        vertical-align: top;\n",
       "    }\n",
       "\n",
       "    .dataframe thead th {\n",
       "        text-align: right;\n",
       "    }\n",
       "</style>\n",
       "<table border=\"1\" class=\"dataframe\">\n",
       "  <thead>\n",
       "    <tr style=\"text-align: right;\">\n",
       "      <th></th>\n",
       "      <th>SentenceNR</th>\n",
       "      <th>Token</th>\n",
       "      <th>Label</th>\n",
       "      <th>PerceptronTagger</th>\n",
       "    </tr>\n",
       "  </thead>\n",
       "  <tbody>\n",
       "    <tr>\n",
       "      <th>0</th>\n",
       "      <td>0</td>\n",
       "      <td>True</td>\n",
       "      <td>o</td>\n",
       "      <td>NN</td>\n",
       "    </tr>\n",
       "    <tr>\n",
       "      <th>1</th>\n",
       "      <td>0</td>\n",
       "      <td>,</td>\n",
       "      <td>o</td>\n",
       "      <td>,</td>\n",
       "    </tr>\n",
       "    <tr>\n",
       "      <th>2</th>\n",
       "      <td>0</td>\n",
       "      <td>our</td>\n",
       "      <td>o</td>\n",
       "      <td>PRP$</td>\n",
       "    </tr>\n",
       "    <tr>\n",
       "      <th>3</th>\n",
       "      <td>0</td>\n",
       "      <td>Constitution</td>\n",
       "      <td>B-STATUTE</td>\n",
       "      <td>NNP</td>\n",
       "    </tr>\n",
       "    <tr>\n",
       "      <th>4</th>\n",
       "      <td>0</td>\n",
       "      <td>has</td>\n",
       "      <td>o</td>\n",
       "      <td>VBZ</td>\n",
       "    </tr>\n",
       "    <tr>\n",
       "      <th>...</th>\n",
       "      <td>...</td>\n",
       "      <td>...</td>\n",
       "      <td>...</td>\n",
       "      <td>...</td>\n",
       "    </tr>\n",
       "    <tr>\n",
       "      <th>37450</th>\n",
       "      <td>948</td>\n",
       "      <td>of</td>\n",
       "      <td>o</td>\n",
       "      <td>IN</td>\n",
       "    </tr>\n",
       "    <tr>\n",
       "      <th>37451</th>\n",
       "      <td>948</td>\n",
       "      <td>right</td>\n",
       "      <td>o</td>\n",
       "      <td>JJ</td>\n",
       "    </tr>\n",
       "    <tr>\n",
       "      <th>37452</th>\n",
       "      <td>948</td>\n",
       "      <td>ear</td>\n",
       "      <td>o</td>\n",
       "      <td>NN</td>\n",
       "    </tr>\n",
       "    <tr>\n",
       "      <th>37453</th>\n",
       "      <td>948</td>\n",
       "      <td>lobule</td>\n",
       "      <td>o</td>\n",
       "      <td>NN</td>\n",
       "    </tr>\n",
       "    <tr>\n",
       "      <th>37454</th>\n",
       "      <td>948</td>\n",
       "      <td>.</td>\n",
       "      <td>o</td>\n",
       "      <td>.</td>\n",
       "    </tr>\n",
       "  </tbody>\n",
       "</table>\n",
       "<p>37455 rows × 4 columns</p>\n",
       "</div>"
      ],
      "text/plain": [
       "       SentenceNR         Token      Label PerceptronTagger\n",
       "0               0          True          o               NN\n",
       "1               0             ,          o                ,\n",
       "2               0           our          o             PRP$\n",
       "3               0  Constitution  B-STATUTE              NNP\n",
       "4               0           has          o              VBZ\n",
       "...           ...           ...        ...              ...\n",
       "37450         948            of          o               IN\n",
       "37451         948         right          o               JJ\n",
       "37452         948           ear          o               NN\n",
       "37453         948        lobule          o               NN\n",
       "37454         948             .          o                .\n",
       "\n",
       "[37455 rows x 4 columns]"
      ]
     },
     "execution_count": 15,
     "metadata": {},
     "output_type": "execute_result"
    }
   ],
   "source": [
    "df_train.drop(['standard_tagger'], axis=1)\n",
    "df_dev.drop(['standard_tagger'], axis=1)"
   ]
  },
  {
   "cell_type": "code",
   "execution_count": null,
   "id": "dd8a2c78-f901-4f06-934a-d53eb7972364",
   "metadata": {},
   "outputs": [],
   "source": []
  },
  {
   "cell_type": "markdown",
   "id": "f17e8940-04d8-40ba-8101-e5f7a9ec2b27",
   "metadata": {},
   "source": [
    "## tag_with_Treetagger\n",
    "The Treetagger always requires a continous str input, rather than a list of tokens. <br>\n",
    "<i>e. g.<br> \n",
    "    tags = tagger.tag_text(\"This is a very short text to tag.\")<br>\n",
    "    tags[0] = This  (tab)  DT  (tab)  this<br>\n",
    "    tags[1] = is  (tab)  VBZ  (tab)  be<br>\n",
    "    ...</i> "
   ]
  },
  {
   "cell_type": "markdown",
   "id": "6a80c925-7cdd-4a3c-89c7-4d3be681fa8d",
   "metadata": {},
   "source": [
    "## different tokenizing, how to cope with?\n",
    "Of course the TreeTagger will <b>NOT</b> produce the same the tokening outcome, since sentences rather than tokens are given. <br>\n",
    "Actually if tokens in list are given, the tagger will combine the tokens before performing the parsing and finally also return a different tokening output. <br>\n",
    "And since the TreebankWordTokenizer of nltk returns a reliable outcome according to the comparison with annotated labels,<br>\n",
    "we don't want to change the tokenizing.<br><br>\n",
    "Instead the tokens and tags returned from the TreeTagger will be compared to the tokens (rows) in the original dataframe. <br>\n",
    "For the \"equivalent\" tokens (who appear not only in the dataframe but also in the the TreeTagger outputs) their POS tags and lemmas will be added to the dataframe. <br>\n",
    "The different tokens will be simply dismissed. The \"TreeTagger\" and \"lemma\" elements in their rows will keep empty value \"np.nan\"."
   ]
  },
  {
   "cell_type": "code",
   "execution_count": 11,
   "id": "8c8465db-5654-42bd-af0c-03878713f1e1",
   "metadata": {},
   "outputs": [],
   "source": [
    "def tag_with_Treetagger(df):\n",
    "    \n",
    "    # create a tagger object from treetaggerwrapper\n",
    "    # TAGDIR=\"TreeTagger\" shows where is the package installed.\n",
    "    tagger = treetaggerwrapper.TreeTagger(TAGLANG='en', TAGDIR=\"TreeTagger\")\n",
    "    \n",
    "    # create two empty columns in the dataframe\n",
    "    df[\"TreeTagger\"] = np.nan\n",
    "    df[\"Lemma\"] = np.nan\n",
    "    \n",
    "    # tagging by each sentence\n",
    "    sentence_numbers = df[\"SentenceNR\"].unique()\n",
    "    \n",
    "    for nr in sentence_numbers:\n",
    "        s = df[ df[\"SentenceNR\"] == nr ]\n",
    "        tokens = [str(t) for t in s[\"Token\"].tolist()]\n",
    "        tags_and_lemmas = tagger.tag_text( \" \".join( tokens ))\n",
    "        penn = []\n",
    "        for row in tags_and_lemmas:\n",
    "            row = row.split(\"\\t\")\n",
    "            if len(row) == 3:\n",
    "                penn.append([ row[0], row[1], row[2] ])\n",
    "            else:\n",
    "                penn.append([np.nan, np.nan, np.nan])\n",
    "        \n",
    "        for unit in penn:\n",
    "            for i in s.index.tolist():\n",
    "                if str(unit[0]) == str(df.at[i, \"Token\"]) and pd.isnull(df.at[i, \"TreeTagger\"]) and pd.isnull(df.at[i, \"Lemma\"]):\n",
    "                    df.at[i, \"TreeTagger\"] = unit[1]\n",
    "                    df.at[i, \"Lemma\"] = unit[2]\n",
    "                    break"
   ]
  },
  {
   "cell_type": "markdown",
   "id": "ba6882e4-8e8a-433f-8b91-b4cf1d196ed8",
   "metadata": {},
   "source": [
    "<br> Unluckily the comparing process is very inefficient and takes even much more time than tagging itself."
   ]
  },
  {
   "cell_type": "code",
   "execution_count": 54,
   "id": "a86f6306-1473-401f-8bd5-653ca8ea4298",
   "metadata": {},
   "outputs": [
    {
     "name": "stdout",
     "output_type": "stream",
     "text": [
      "CPU times: user 29min 50s, sys: 7.34 s, total: 29min 57s\n",
      "Wall time: 30min\n"
     ]
    }
   ],
   "source": [
    "%%time\n",
    "tag_with_Treetagger(df_train)"
   ]
  },
  {
   "cell_type": "code",
   "execution_count": 12,
   "id": "d6f08e86-890e-48e9-85b0-033ed5cf5de2",
   "metadata": {},
   "outputs": [
    {
     "name": "stdout",
     "output_type": "stream",
     "text": [
      "CPU times: user 29.5 s, sys: 682 ms, total: 30.2 s\n",
      "Wall time: 30.2 s\n"
     ]
    }
   ],
   "source": [
    "%%time\n",
    "tag_with_Treetagger(df_dev)"
   ]
  },
  {
   "cell_type": "code",
   "execution_count": 56,
   "id": "e206d7c7-e3f3-4499-8b1f-234c694e535f",
   "metadata": {},
   "outputs": [
    {
     "data": {
      "text/html": [
       "<div>\n",
       "<style scoped>\n",
       "    .dataframe tbody tr th:only-of-type {\n",
       "        vertical-align: middle;\n",
       "    }\n",
       "\n",
       "    .dataframe tbody tr th {\n",
       "        vertical-align: top;\n",
       "    }\n",
       "\n",
       "    .dataframe thead th {\n",
       "        text-align: right;\n",
       "    }\n",
       "</style>\n",
       "<table border=\"1\" class=\"dataframe\">\n",
       "  <thead>\n",
       "    <tr style=\"text-align: right;\">\n",
       "      <th></th>\n",
       "      <th>SentenceNR</th>\n",
       "      <th>Token</th>\n",
       "      <th>Label</th>\n",
       "      <th>standard_tagger</th>\n",
       "      <th>TreeTagger</th>\n",
       "      <th>Lemma</th>\n",
       "    </tr>\n",
       "  </thead>\n",
       "  <tbody>\n",
       "    <tr>\n",
       "      <th>0</th>\n",
       "      <td>0</td>\n",
       "      <td>(</td>\n",
       "      <td>o</td>\n",
       "      <td>(</td>\n",
       "      <td>(</td>\n",
       "      <td>(</td>\n",
       "    </tr>\n",
       "    <tr>\n",
       "      <th>1</th>\n",
       "      <td>0</td>\n",
       "      <td>7</td>\n",
       "      <td>o</td>\n",
       "      <td>CD</td>\n",
       "      <td>CD</td>\n",
       "      <td>@card@</td>\n",
       "    </tr>\n",
       "    <tr>\n",
       "      <th>2</th>\n",
       "      <td>0</td>\n",
       "      <td>)</td>\n",
       "      <td>o</td>\n",
       "      <td>)</td>\n",
       "      <td>)</td>\n",
       "      <td>)</td>\n",
       "    </tr>\n",
       "    <tr>\n",
       "      <th>3</th>\n",
       "      <td>0</td>\n",
       "      <td>On</td>\n",
       "      <td>o</td>\n",
       "      <td>IN</td>\n",
       "      <td>IN</td>\n",
       "      <td>on</td>\n",
       "    </tr>\n",
       "    <tr>\n",
       "      <th>4</th>\n",
       "      <td>0</td>\n",
       "      <td>specific</td>\n",
       "      <td>o</td>\n",
       "      <td>JJ</td>\n",
       "      <td>JJ</td>\n",
       "      <td>specific</td>\n",
       "    </tr>\n",
       "    <tr>\n",
       "      <th>...</th>\n",
       "      <td>...</td>\n",
       "      <td>...</td>\n",
       "      <td>...</td>\n",
       "      <td>...</td>\n",
       "      <td>...</td>\n",
       "      <td>...</td>\n",
       "    </tr>\n",
       "    <tr>\n",
       "      <th>349072</th>\n",
       "      <td>9434</td>\n",
       "      <td>accused</td>\n",
       "      <td>o</td>\n",
       "      <td>JJ</td>\n",
       "      <td>VVN</td>\n",
       "      <td>accuse</td>\n",
       "    </tr>\n",
       "    <tr>\n",
       "      <th>349073</th>\n",
       "      <td>9434</td>\n",
       "      <td>No.1</td>\n",
       "      <td>o</td>\n",
       "      <td>NNP</td>\n",
       "      <td>NN</td>\n",
       "      <td>No.1</td>\n",
       "    </tr>\n",
       "    <tr>\n",
       "      <th>349074</th>\n",
       "      <td>9434</td>\n",
       "      <td>as</td>\n",
       "      <td>o</td>\n",
       "      <td>IN</td>\n",
       "      <td>IN</td>\n",
       "      <td>as</td>\n",
       "    </tr>\n",
       "    <tr>\n",
       "      <th>349075</th>\n",
       "      <td>9434</td>\n",
       "      <td>aforementioned</td>\n",
       "      <td>o</td>\n",
       "      <td>VBN</td>\n",
       "      <td>JJ</td>\n",
       "      <td>aforementioned</td>\n",
       "    </tr>\n",
       "    <tr>\n",
       "      <th>349076</th>\n",
       "      <td>9434</td>\n",
       "      <td>.</td>\n",
       "      <td>o</td>\n",
       "      <td>.</td>\n",
       "      <td>SENT</td>\n",
       "      <td>.</td>\n",
       "    </tr>\n",
       "  </tbody>\n",
       "</table>\n",
       "<p>349077 rows × 6 columns</p>\n",
       "</div>"
      ],
      "text/plain": [
       "        SentenceNR           Token Label standard_tagger TreeTagger  \\\n",
       "0                0               (     o               (          (   \n",
       "1                0               7     o              CD         CD   \n",
       "2                0               )     o               )          )   \n",
       "3                0              On     o              IN         IN   \n",
       "4                0        specific     o              JJ         JJ   \n",
       "...            ...             ...   ...             ...        ...   \n",
       "349072        9434         accused     o              JJ        VVN   \n",
       "349073        9434            No.1     o             NNP         NN   \n",
       "349074        9434              as     o              IN         IN   \n",
       "349075        9434  aforementioned     o             VBN         JJ   \n",
       "349076        9434               .     o               .       SENT   \n",
       "\n",
       "                 Lemma  \n",
       "0                    (  \n",
       "1               @card@  \n",
       "2                    )  \n",
       "3                   on  \n",
       "4             specific  \n",
       "...                ...  \n",
       "349072          accuse  \n",
       "349073            No.1  \n",
       "349074              as  \n",
       "349075  aforementioned  \n",
       "349076               .  \n",
       "\n",
       "[349077 rows x 6 columns]"
      ]
     },
     "execution_count": 56,
     "metadata": {},
     "output_type": "execute_result"
    }
   ],
   "source": [
    "df_train"
   ]
  },
  {
   "cell_type": "code",
   "execution_count": 13,
   "id": "79800dd9-0ea4-43fb-bc41-bea97ea67f09",
   "metadata": {},
   "outputs": [
    {
     "data": {
      "text/html": [
       "<div>\n",
       "<style scoped>\n",
       "    .dataframe tbody tr th:only-of-type {\n",
       "        vertical-align: middle;\n",
       "    }\n",
       "\n",
       "    .dataframe tbody tr th {\n",
       "        vertical-align: top;\n",
       "    }\n",
       "\n",
       "    .dataframe thead th {\n",
       "        text-align: right;\n",
       "    }\n",
       "</style>\n",
       "<table border=\"1\" class=\"dataframe\">\n",
       "  <thead>\n",
       "    <tr style=\"text-align: right;\">\n",
       "      <th></th>\n",
       "      <th>SentenceNR</th>\n",
       "      <th>Token</th>\n",
       "      <th>Label</th>\n",
       "      <th>standard_tagger</th>\n",
       "      <th>TreeTagger</th>\n",
       "      <th>Lemma</th>\n",
       "    </tr>\n",
       "  </thead>\n",
       "  <tbody>\n",
       "    <tr>\n",
       "      <th>0</th>\n",
       "      <td>0</td>\n",
       "      <td>True</td>\n",
       "      <td>o</td>\n",
       "      <td>NN</td>\n",
       "      <td>UH</td>\n",
       "      <td>true</td>\n",
       "    </tr>\n",
       "    <tr>\n",
       "      <th>1</th>\n",
       "      <td>0</td>\n",
       "      <td>,</td>\n",
       "      <td>o</td>\n",
       "      <td>,</td>\n",
       "      <td>,</td>\n",
       "      <td>,</td>\n",
       "    </tr>\n",
       "    <tr>\n",
       "      <th>2</th>\n",
       "      <td>0</td>\n",
       "      <td>our</td>\n",
       "      <td>o</td>\n",
       "      <td>PRP$</td>\n",
       "      <td>PP$</td>\n",
       "      <td>our</td>\n",
       "    </tr>\n",
       "    <tr>\n",
       "      <th>3</th>\n",
       "      <td>0</td>\n",
       "      <td>Constitution</td>\n",
       "      <td>B-STATUTE</td>\n",
       "      <td>NNP</td>\n",
       "      <td>NP</td>\n",
       "      <td>Constitution</td>\n",
       "    </tr>\n",
       "    <tr>\n",
       "      <th>4</th>\n",
       "      <td>0</td>\n",
       "      <td>has</td>\n",
       "      <td>o</td>\n",
       "      <td>VBZ</td>\n",
       "      <td>VHZ</td>\n",
       "      <td>have</td>\n",
       "    </tr>\n",
       "    <tr>\n",
       "      <th>...</th>\n",
       "      <td>...</td>\n",
       "      <td>...</td>\n",
       "      <td>...</td>\n",
       "      <td>...</td>\n",
       "      <td>...</td>\n",
       "      <td>...</td>\n",
       "    </tr>\n",
       "    <tr>\n",
       "      <th>37450</th>\n",
       "      <td>948</td>\n",
       "      <td>of</td>\n",
       "      <td>o</td>\n",
       "      <td>IN</td>\n",
       "      <td>IN</td>\n",
       "      <td>of</td>\n",
       "    </tr>\n",
       "    <tr>\n",
       "      <th>37451</th>\n",
       "      <td>948</td>\n",
       "      <td>right</td>\n",
       "      <td>o</td>\n",
       "      <td>JJ</td>\n",
       "      <td>JJ</td>\n",
       "      <td>right</td>\n",
       "    </tr>\n",
       "    <tr>\n",
       "      <th>37452</th>\n",
       "      <td>948</td>\n",
       "      <td>ear</td>\n",
       "      <td>o</td>\n",
       "      <td>NN</td>\n",
       "      <td>NN</td>\n",
       "      <td>ear</td>\n",
       "    </tr>\n",
       "    <tr>\n",
       "      <th>37453</th>\n",
       "      <td>948</td>\n",
       "      <td>lobule</td>\n",
       "      <td>o</td>\n",
       "      <td>NN</td>\n",
       "      <td>NN</td>\n",
       "      <td>lobule</td>\n",
       "    </tr>\n",
       "    <tr>\n",
       "      <th>37454</th>\n",
       "      <td>948</td>\n",
       "      <td>.</td>\n",
       "      <td>o</td>\n",
       "      <td>.</td>\n",
       "      <td>SENT</td>\n",
       "      <td>.</td>\n",
       "    </tr>\n",
       "  </tbody>\n",
       "</table>\n",
       "<p>37455 rows × 6 columns</p>\n",
       "</div>"
      ],
      "text/plain": [
       "       SentenceNR         Token      Label standard_tagger TreeTagger  \\\n",
       "0               0          True          o              NN         UH   \n",
       "1               0             ,          o               ,          ,   \n",
       "2               0           our          o            PRP$        PP$   \n",
       "3               0  Constitution  B-STATUTE             NNP         NP   \n",
       "4               0           has          o             VBZ        VHZ   \n",
       "...           ...           ...        ...             ...        ...   \n",
       "37450         948            of          o              IN         IN   \n",
       "37451         948         right          o              JJ         JJ   \n",
       "37452         948           ear          o              NN         NN   \n",
       "37453         948        lobule          o              NN         NN   \n",
       "37454         948             .          o               .       SENT   \n",
       "\n",
       "              Lemma  \n",
       "0              true  \n",
       "1                 ,  \n",
       "2               our  \n",
       "3      Constitution  \n",
       "4              have  \n",
       "...             ...  \n",
       "37450            of  \n",
       "37451         right  \n",
       "37452           ear  \n",
       "37453        lobule  \n",
       "37454             .  \n",
       "\n",
       "[37455 rows x 6 columns]"
      ]
     },
     "execution_count": 13,
     "metadata": {},
     "output_type": "execute_result"
    }
   ],
   "source": [
    "df_dev"
   ]
  },
  {
   "cell_type": "markdown",
   "id": "304d7e7d-7661-4805-b507-2c94396343be",
   "metadata": {},
   "source": [
    "<br> How many cells in the dataframe are still empty?"
   ]
  },
  {
   "cell_type": "code",
   "execution_count": 64,
   "id": "886ad146-dd92-4e81-a32b-c034fbe154fa",
   "metadata": {},
   "outputs": [
    {
     "name": "stdout",
     "output_type": "stream",
     "text": [
      "False    349077\n",
      "Name: SentenceNR, dtype: int64\n",
      "False    349074\n",
      "True          3\n",
      "Name: Token, dtype: int64\n",
      "False    349077\n",
      "Name: Label, dtype: int64\n",
      "False    349077\n",
      "Name: standard_tagger, dtype: int64\n",
      "False    341107\n",
      "True       7970\n",
      "Name: TreeTagger, dtype: int64\n",
      "False    341107\n",
      "True       7970\n",
      "Name: Lemma, dtype: int64\n"
     ]
    }
   ],
   "source": [
    "for column in df_train.columns:\n",
    "    print(df_train[column].isnull().value_counts())"
   ]
  },
  {
   "cell_type": "markdown",
   "id": "cd500b06-0a99-4a1b-b5ad-99643602e0e4",
   "metadata": {},
   "source": [
    "<br> 2.28 % of the tokens didn't become the TreeTagger Tag and Lemma."
   ]
  },
  {
   "cell_type": "code",
   "execution_count": 14,
   "id": "c9b52bde-33f7-4ae1-8aec-0575aa8c1b34",
   "metadata": {},
   "outputs": [
    {
     "name": "stdout",
     "output_type": "stream",
     "text": [
      "False    37455\n",
      "Name: SentenceNR, dtype: int64\n",
      "False    37454\n",
      "True         1\n",
      "Name: Token, dtype: int64\n",
      "False    37455\n",
      "Name: Label, dtype: int64\n",
      "False    37455\n",
      "Name: standard_tagger, dtype: int64\n",
      "False    36785\n",
      "True       670\n",
      "Name: TreeTagger, dtype: int64\n",
      "False    36785\n",
      "True       670\n",
      "Name: Lemma, dtype: int64\n"
     ]
    }
   ],
   "source": [
    "for column in df_dev.columns:\n",
    "    print(df_dev[column].isnull().value_counts())"
   ]
  },
  {
   "cell_type": "markdown",
   "id": "c5dd8738-d855-49e3-9d27-d617754563ca",
   "metadata": {},
   "source": [
    "## Fill the NaNs\n",
    "With .fillna() the empty cells in the dataframe will be substituted.<br>\n",
    "This is necessary for the preparing of the maschine learning."
   ]
  },
  {
   "cell_type": "code",
   "execution_count": 6,
   "id": "5dd1b9de-ee93-43bb-96be-8d7254843488",
   "metadata": {},
   "outputs": [],
   "source": [
    "df_train_filled = df_train.copy()\n",
    "df_train_filled = df_train_filled.fillna(\"0\")"
   ]
  },
  {
   "cell_type": "code",
   "execution_count": 7,
   "id": "14a7eed0-5946-463f-a3b4-be7638eb7353",
   "metadata": {},
   "outputs": [],
   "source": [
    "df_dev_filled = df_dev.copy()\n",
    "df_dev_filled = df_dev_filled.fillna(\"0\")"
   ]
  },
  {
   "cell_type": "code",
   "execution_count": 8,
   "id": "36ac9ad4-76ae-4b4e-9a7e-3cd8a5faa98b",
   "metadata": {},
   "outputs": [],
   "source": [
    "df_train.to_csv(\"transitional_data/tagged_train.csv\", index=False)"
   ]
  },
  {
   "cell_type": "code",
   "execution_count": 9,
   "id": "78b86ec2-ecdb-40ed-a149-b223a077079a",
   "metadata": {},
   "outputs": [],
   "source": [
    "df_dev.to_csv(\"transitional_data/tagged_dev.csv\", index=False)"
   ]
  },
  {
   "cell_type": "code",
   "execution_count": 10,
   "id": "45d52822-1491-4bed-ac30-45cb271735a0",
   "metadata": {},
   "outputs": [],
   "source": [
    "df_train_filled.to_csv(\"transitional_data/tagged_train_filled.csv\", index=False)"
   ]
  },
  {
   "cell_type": "code",
   "execution_count": 11,
   "id": "5584c711-b8c5-4ac9-9b6b-6eea13e1b0a2",
   "metadata": {},
   "outputs": [],
   "source": [
    "df_dev_filled.to_csv(\"transitional_data/tagged_dev_filled.csv\", index=False)"
   ]
  },
  {
   "cell_type": "markdown",
   "id": "9ca12729-d17c-402e-9ae2-8cbc3171b341",
   "metadata": {},
   "source": [
    "<br> Check one more time<br>There is no more NaNs in the dataframe"
   ]
  },
  {
   "cell_type": "code",
   "execution_count": 73,
   "id": "4de40380-6be9-4761-a3a4-d71f344f322b",
   "metadata": {},
   "outputs": [
    {
     "name": "stdout",
     "output_type": "stream",
     "text": [
      "False    349077\n",
      "Name: SentenceNR, dtype: int64\n",
      "False    349077\n",
      "Name: Token, dtype: int64\n",
      "False    349077\n",
      "Name: Label, dtype: int64\n",
      "False    349077\n",
      "Name: standard_tagger, dtype: int64\n",
      "False    349077\n",
      "Name: TreeTagger, dtype: int64\n",
      "False    349077\n",
      "Name: Lemma, dtype: int64\n"
     ]
    }
   ],
   "source": [
    "for column in df_train_filled.columns:\n",
    "    print(df_train_filled[column].isnull().value_counts())"
   ]
  },
  {
   "cell_type": "code",
   "execution_count": null,
   "id": "a31f82bf-756f-402e-93e5-7d72205e79b9",
   "metadata": {},
   "outputs": [],
   "source": []
  },
  {
   "cell_type": "code",
   "execution_count": null,
   "id": "a07069e5-8f4f-46ed-8f83-48a8da770efa",
   "metadata": {},
   "outputs": [],
   "source": []
  },
  {
   "cell_type": "code",
   "execution_count": null,
   "id": "f7cea817-215a-4748-83ee-f8aeee95a1ec",
   "metadata": {},
   "outputs": [],
   "source": []
  },
  {
   "cell_type": "markdown",
   "id": "93972067-3446-4844-96e4-603f68f4465f",
   "metadata": {},
   "source": [
    "## Do the tags and lemmas make a difference? YES!\n",
    "This time with the same primitive model and parameter the weighted avg reached  <b> 37% </b>. <br>\n",
    "It has improved <b>9%</b> comparing to the \"thin\" matrix with only the tokens itself last time."
   ]
  },
  {
   "cell_type": "code",
   "execution_count": 76,
   "id": "f25a83e3-bd0e-4a18-aa73-5614324c849d",
   "metadata": {},
   "outputs": [
    {
     "name": "stdout",
     "output_type": "stream",
     "text": [
      "(349077, 45064) (349077,)\n",
      "(349077, 45064) (349077,)\n"
     ]
    }
   ],
   "source": [
    "X_train = df_train_filled.drop([\"Label\", \"SentenceNR\"], axis = 1)\n",
    "v = DictVectorizer(sparse=True)\n",
    "X_train = v.fit_transform(X_train.to_dict('records'))\n",
    "y_train = df_train_filled[\"Label\"]\n",
    "\n",
    "X_dev = df_dev_filled.drop([\"Label\", \"SentenceNR\"], axis=1)\n",
    "X_dev = v.transform(X_dev.to_dict('records'))\n",
    "y_dev = df_dev_filled[\"Label\"]\n",
    "\n",
    "print(X_train.shape, y_train.shape)\n",
    "print(X_dev.shape, y_dev.shape)"
   ]
  },
  {
   "cell_type": "code",
   "execution_count": 77,
   "id": "c9dbfd8a-d325-4c88-848f-ccfd010eaf8c",
   "metadata": {},
   "outputs": [
    {
     "name": "stdout",
     "output_type": "stream",
     "text": [
      "['o', 'B-ORG', 'I-ORG', 'B-OTHER_PERSON', 'I-OTHER_PERSON', 'B-WITNESS', 'I-WITNESS', 'B-GPE', 'B-STATUTE', 'B-DATE', 'I-DATE', 'B-PROVISION', 'I-PROVISION', 'I-STATUTE', 'B-COURT', 'I-COURT', 'B-PRECEDENT', 'I-PRECEDENT', 'B-CASE_NUMBER', 'I-CASE_NUMBER', 'I-GPE', 'B-PETITIONER', 'I-PETITIONER', 'B-JUDGE', 'I-JUDGE', 'B-RESPONDENT', 'I-RESPONDENT']\n"
     ]
    }
   ],
   "source": [
    "classes = df_train_filled[\"Label\"].unique().tolist()\n",
    "print(classes)"
   ]
  },
  {
   "cell_type": "code",
   "execution_count": 78,
   "id": "8b4bf88a-1b93-4f00-91e4-0e6fdfdb1fb6",
   "metadata": {},
   "outputs": [
    {
     "name": "stderr",
     "output_type": "stream",
     "text": [
      "[Parallel(n_jobs=-1)]: Using backend ThreadingBackend with 4 concurrent workers.\n"
     ]
    },
    {
     "name": "stdout",
     "output_type": "stream",
     "text": [
      "-- Epoch 1\n",
      "-- Epoch 1\n",
      "-- Epoch 1\n",
      "-- Epoch 1\n",
      "Norm: 49.58, NNZs: 2195, Bias: -0.150000, T: 349077, Avg. loss: 0.009336\n",
      "Total training time: 0.10 seconds.\n",
      "Norm: 37.18, NNZs: 1016, Bias: -0.250000, T: 349077, Avg. loss: 0.006817\n",
      "Total training time: 0.12 seconds.\n",
      "Norm: 58.29, NNZs: 2089, Bias: -0.210000, T: 349077, Avg. loss: 0.010353\n",
      "Total training time: 0.12 seconds.\n",
      "-- Epoch 1\n",
      "-- Epoch 1\n",
      "Norm: 23.07, NNZs: 408, Bias: -0.160000, T: 349077, Avg. loss: 0.005621\n",
      "Total training time: 0.13 seconds.\n",
      "-- Epoch 1\n",
      "-- Epoch 1\n",
      "Norm: 37.01, NNZs: 1169, Bias: -0.130000, T: 349077, Avg. loss: 0.003532\n",
      "Total training time: 0.11 seconds.\n",
      "Norm: 50.00, NNZs: 2203, Bias: -0.190000, T: 349077, Avg. loss: 0.009757\n",
      "Total training time: 0.11 seconds.\n",
      "-- Epoch 1\n",
      "Norm: 74.51, NNZs: 5102, Bias: -0.210000, T: 349077, Avg. loss: 0.016584\n",
      "Total training time: 0.12 seconds.\n",
      "-- Epoch 1\n",
      "-- Epoch 1\n",
      "Norm: 34.35, NNZs: 1090, Bias: -0.130000, T: 349077, Avg. loss: 0.003368\n",
      "Total training time: 0.13 seconds.\n",
      "-- Epoch 1\n",
      "Norm: 49.60, NNZs: 2347, Bias: -0.240000, T: 349077, Avg. loss: 0.010988\n",
      "Total training time: 0.10 seconds.\n",
      "Norm: 28.46, NNZs: 517, Bias: -0.210000, T: 349077, Avg. loss: 0.005134\n",
      "Total training time: 0.10 seconds.\n",
      "-- Epoch 1\n",
      "Norm: 28.07, NNZs: 752, Bias: -0.110000, T: 349077, Avg. loss: 0.002425\n",
      "Total training time: 0.10 seconds.\n",
      "-- Epoch 1\n",
      "-- Epoch 1\n",
      "Norm: 40.45, NNZs: 1076, Bias: -0.290000, T: 349077, Avg. loss: 0.008403\n",
      "Total training time: 0.10 seconds.\n",
      "-- Epoch 1\n"
     ]
    },
    {
     "name": "stderr",
     "output_type": "stream",
     "text": [
      "[Parallel(n_jobs=-1)]: Done   5 tasks      | elapsed:    0.3s\n",
      "[Parallel(n_jobs=-1)]: Done  10 tasks      | elapsed:    0.4s\n"
     ]
    },
    {
     "name": "stdout",
     "output_type": "stream",
     "text": [
      "Norm: 45.91, NNZs: 1976, Bias: -0.140000, T: 349077, Avg. loss: 0.006352\n",
      "Total training time: 0.10 seconds.\n",
      "-- Epoch 1\n",
      "Norm: 34.41, NNZs: 914, Bias: -0.300000, T: 349077, Avg. loss: 0.020795\n",
      "Total training time: 0.11 seconds.\n",
      "Norm: 54.97, NNZs: 2222, Bias: -0.340000, T: 349077, Avg. loss: 0.033426\n",
      "Total training time: 0.11 seconds.\n",
      "-- Epoch 1\n",
      "-- Epoch 1\n",
      "Norm: 29.90, NNZs: 486, Bias: -0.150000, T: 349077, Avg. loss: 0.016240\n",
      "Total training time: 0.12 seconds.\n",
      "-- Epoch 1\n",
      "Norm: 19.03, NNZs: 323, Bias: -0.100000, T: 349077, Avg. loss: 0.002467\n",
      "Total training time: 0.11 seconds.\n",
      "-- Epoch 1\n",
      "Norm: 53.44, NNZs: 2460, Bias: -0.300000, T: 349077, Avg. loss: 0.023547\n",
      "Total training time: 0.11 seconds.\n",
      "Norm: 27.57, NNZs: 649, Bias: -0.130000, T: 349077, Avg. loss: 0.003027\n",
      "Total training time: 0.11 seconds.\n",
      "-- Epoch 1\n",
      "Norm: 54.75, NNZs: 2649, Bias: -0.240000, T: 349077, Avg. loss: 0.014491\n",
      "Total training time: 0.10 seconds.\n",
      "-- Epoch 1\n",
      "-- Epoch 1\n"
     ]
    },
    {
     "name": "stderr",
     "output_type": "stream",
     "text": [
      "[Parallel(n_jobs=-1)]: Done  17 tasks      | elapsed:    0.6s\n",
      "[Parallel(n_jobs=-1)]: Done  23 out of  27 | elapsed:    0.8s remaining:    0.1s\n"
     ]
    },
    {
     "name": "stdout",
     "output_type": "stream",
     "text": [
      "Norm: 23.11, NNZs: 498, Bias: -0.120000, T: 349077, Avg. loss: 0.003472\n",
      "Total training time: 0.11 seconds.\n",
      "-- Epoch 1\n",
      "Norm: 26.94, NNZs: 687, Bias: -0.200000, T: 349077, Avg. loss: 0.004112\n",
      "Total training time: 0.10 seconds.\n",
      "-- Epoch 1\n",
      "Norm: 95.48, NNZs: 7324, Bias: -0.340000, T: 349077, Avg. loss: 0.097998\n",
      "Total training time: 0.13 seconds.\n",
      "Norm: 61.34, NNZs: 1937, Bias: -0.340000, T: 349077, Avg. loss: 0.048368\n",
      "Total training time: 0.13 seconds.\n",
      "-- Epoch 1\n",
      "Norm: 50.08, NNZs: 1679, Bias: -0.310000, T: 349077, Avg. loss: 0.026681\n",
      "Total training time: 0.10 seconds.\n",
      "Norm: 34.15, NNZs: 1032, Bias: -0.100000, T: 349077, Avg. loss: 0.006094\n",
      "Total training time: 0.12 seconds.\n",
      "Norm: 133.98, NNZs: 13271, Bias: 0.340000, T: 349077, Avg. loss: 0.185963\n",
      "Total training time: 0.10 seconds.\n"
     ]
    },
    {
     "name": "stderr",
     "output_type": "stream",
     "text": [
      "[Parallel(n_jobs=-1)]: Done  27 out of  27 | elapsed:    0.9s finished\n"
     ]
    },
    {
     "data": {
      "text/html": [
       "<style>#sk-container-id-1 {color: black;background-color: white;}#sk-container-id-1 pre{padding: 0;}#sk-container-id-1 div.sk-toggleable {background-color: white;}#sk-container-id-1 label.sk-toggleable__label {cursor: pointer;display: block;width: 100%;margin-bottom: 0;padding: 0.3em;box-sizing: border-box;text-align: center;}#sk-container-id-1 label.sk-toggleable__label-arrow:before {content: \"▸\";float: left;margin-right: 0.25em;color: #696969;}#sk-container-id-1 label.sk-toggleable__label-arrow:hover:before {color: black;}#sk-container-id-1 div.sk-estimator:hover label.sk-toggleable__label-arrow:before {color: black;}#sk-container-id-1 div.sk-toggleable__content {max-height: 0;max-width: 0;overflow: hidden;text-align: left;background-color: #f0f8ff;}#sk-container-id-1 div.sk-toggleable__content pre {margin: 0.2em;color: black;border-radius: 0.25em;background-color: #f0f8ff;}#sk-container-id-1 input.sk-toggleable__control:checked~div.sk-toggleable__content {max-height: 200px;max-width: 100%;overflow: auto;}#sk-container-id-1 input.sk-toggleable__control:checked~label.sk-toggleable__label-arrow:before {content: \"▾\";}#sk-container-id-1 div.sk-estimator input.sk-toggleable__control:checked~label.sk-toggleable__label {background-color: #d4ebff;}#sk-container-id-1 div.sk-label input.sk-toggleable__control:checked~label.sk-toggleable__label {background-color: #d4ebff;}#sk-container-id-1 input.sk-hidden--visually {border: 0;clip: rect(1px 1px 1px 1px);clip: rect(1px, 1px, 1px, 1px);height: 1px;margin: -1px;overflow: hidden;padding: 0;position: absolute;width: 1px;}#sk-container-id-1 div.sk-estimator {font-family: monospace;background-color: #f0f8ff;border: 1px dotted black;border-radius: 0.25em;box-sizing: border-box;margin-bottom: 0.5em;}#sk-container-id-1 div.sk-estimator:hover {background-color: #d4ebff;}#sk-container-id-1 div.sk-parallel-item::after {content: \"\";width: 100%;border-bottom: 1px solid gray;flex-grow: 1;}#sk-container-id-1 div.sk-label:hover label.sk-toggleable__label {background-color: #d4ebff;}#sk-container-id-1 div.sk-serial::before {content: \"\";position: absolute;border-left: 1px solid gray;box-sizing: border-box;top: 0;bottom: 0;left: 50%;z-index: 0;}#sk-container-id-1 div.sk-serial {display: flex;flex-direction: column;align-items: center;background-color: white;padding-right: 0.2em;padding-left: 0.2em;position: relative;}#sk-container-id-1 div.sk-item {position: relative;z-index: 1;}#sk-container-id-1 div.sk-parallel {display: flex;align-items: stretch;justify-content: center;background-color: white;position: relative;}#sk-container-id-1 div.sk-item::before, #sk-container-id-1 div.sk-parallel-item::before {content: \"\";position: absolute;border-left: 1px solid gray;box-sizing: border-box;top: 0;bottom: 0;left: 50%;z-index: -1;}#sk-container-id-1 div.sk-parallel-item {display: flex;flex-direction: column;z-index: 1;position: relative;background-color: white;}#sk-container-id-1 div.sk-parallel-item:first-child::after {align-self: flex-end;width: 50%;}#sk-container-id-1 div.sk-parallel-item:last-child::after {align-self: flex-start;width: 50%;}#sk-container-id-1 div.sk-parallel-item:only-child::after {width: 0;}#sk-container-id-1 div.sk-dashed-wrapped {border: 1px dashed gray;margin: 0 0.4em 0.5em 0.4em;box-sizing: border-box;padding-bottom: 0.4em;background-color: white;}#sk-container-id-1 div.sk-label label {font-family: monospace;font-weight: bold;display: inline-block;line-height: 1.2em;}#sk-container-id-1 div.sk-label-container {text-align: center;}#sk-container-id-1 div.sk-container {/* jupyter's `normalize.less` sets `[hidden] { display: none; }` but bootstrap.min.css set `[hidden] { display: none !important; }` so we also need the `!important` here to be able to override the default hidden behavior on the sphinx rendered scikit-learn.org. See: https://github.com/scikit-learn/scikit-learn/issues/21755 */display: inline-block !important;position: relative;}#sk-container-id-1 div.sk-text-repr-fallback {display: none;}</style><div id=\"sk-container-id-1\" class=\"sk-top-container\"><div class=\"sk-text-repr-fallback\"><pre>Perceptron(max_iter=5, n_jobs=-1, verbose=10)</pre><b>In a Jupyter environment, please rerun this cell to show the HTML representation or trust the notebook. <br />On GitHub, the HTML representation is unable to render, please try loading this page with nbviewer.org.</b></div><div class=\"sk-container\" hidden><div class=\"sk-item\"><div class=\"sk-estimator sk-toggleable\"><input class=\"sk-toggleable__control sk-hidden--visually\" id=\"sk-estimator-id-1\" type=\"checkbox\" checked><label for=\"sk-estimator-id-1\" class=\"sk-toggleable__label sk-toggleable__label-arrow\">Perceptron</label><div class=\"sk-toggleable__content\"><pre>Perceptron(max_iter=5, n_jobs=-1, verbose=10)</pre></div></div></div></div></div>"
      ],
      "text/plain": [
       "Perceptron(max_iter=5, n_jobs=-1, verbose=10)"
      ]
     },
     "execution_count": 78,
     "metadata": {},
     "output_type": "execute_result"
    }
   ],
   "source": [
    "per = Perceptron(verbose=10, n_jobs=-1, max_iter=5)\n",
    "per.partial_fit(X_train, y_train, classes)"
   ]
  },
  {
   "cell_type": "code",
   "execution_count": 79,
   "id": "5f18cf74-b8e3-41d5-8f6e-c07585292efe",
   "metadata": {},
   "outputs": [
    {
     "name": "stdout",
     "output_type": "stream",
     "text": [
      "                precision    recall  f1-score   support\n",
      "\n",
      "         B-ORG       0.46      0.59      0.52      1441\n",
      "         I-ORG       0.41      0.25      0.31      2897\n",
      "B-OTHER_PERSON       0.18      0.84      0.29      2653\n",
      "I-OTHER_PERSON       0.78      0.01      0.03      2089\n",
      "     B-WITNESS       0.38      0.60      0.46       881\n",
      "     I-WITNESS       0.14      0.71      0.23       759\n",
      "         B-GPE       0.49      0.66      0.56      1395\n",
      "     B-STATUTE       0.71      0.34      0.46      1803\n",
      "        B-DATE       0.70      0.17      0.28      1885\n",
      "        I-DATE       0.42      0.14      0.22      1926\n",
      "   B-PROVISION       0.82      0.91      0.86      2384\n",
      "   I-PROVISION       0.37      0.47      0.41      6576\n",
      "     I-STATUTE       0.29      0.20      0.24      3802\n",
      "       B-COURT       0.86      0.55      0.67      1293\n",
      "       I-COURT       0.45      0.20      0.28      2804\n",
      "   B-PRECEDENT       0.47      0.40      0.43      1351\n",
      "   I-PRECEDENT       0.38      0.40      0.39     14098\n",
      " B-CASE_NUMBER       0.18      0.48      0.26      1039\n",
      " I-CASE_NUMBER       0.47      0.30      0.37      4043\n",
      "         I-GPE       0.26      0.13      0.17       284\n",
      "  B-PETITIONER       0.35      0.07      0.12       464\n",
      "  I-PETITIONER       0.03      0.05      0.04       377\n",
      "       B-JUDGE       0.72      0.62      0.67       567\n",
      "       I-JUDGE       0.66      0.14      0.24       397\n",
      "  B-RESPONDENT       0.10      0.55      0.17       324\n",
      "  I-RESPONDENT       0.23      0.02      0.03       452\n",
      "\n",
      "     micro avg       0.35      0.39      0.37     57984\n",
      "     macro avg       0.43      0.38      0.33     57984\n",
      "  weighted avg       0.44      0.39      0.37     57984\n",
      "\n"
     ]
    }
   ],
   "source": [
    "classes.remove(\"o\")\n",
    "print(classification_report(y_pred=per.predict(X_dev), y_true=y_dev, labels=classes))"
   ]
  },
  {
   "cell_type": "code",
   "execution_count": null,
   "id": "0cb4ea70-6119-41c6-832b-550bab27cace",
   "metadata": {},
   "outputs": [],
   "source": []
  },
  {
   "cell_type": "code",
   "execution_count": null,
   "id": "4025ba7a-dfd7-4998-b502-d1c9afbf0416",
   "metadata": {},
   "outputs": [],
   "source": []
  },
  {
   "cell_type": "code",
   "execution_count": null,
   "id": "e239619e-d6ce-4736-b4e2-e2ae9db28c29",
   "metadata": {},
   "outputs": [],
   "source": []
  }
 ],
 "metadata": {
  "kernelspec": {
   "display_name": "Python 3 (ipykernel)",
   "language": "python",
   "name": "python3"
  },
  "language_info": {
   "codemirror_mode": {
    "name": "ipython",
    "version": 3
   },
   "file_extension": ".py",
   "mimetype": "text/x-python",
   "name": "python",
   "nbconvert_exporter": "python",
   "pygments_lexer": "ipython3",
   "version": "3.10.9"
  }
 },
 "nbformat": 4,
 "nbformat_minor": 5
}
