{
 "cells": [
  {
   "cell_type": "markdown",
   "id": "ded3e65d-024a-4b17-adf1-19c23891879c",
   "metadata": {
    "tags": []
   },
   "source": [
    "# Evaluation Notebook"
   ]
  },
  {
   "cell_type": "markdown",
   "id": "1fd29541-017c-4d7c-be27-94a145c7ba72",
   "metadata": {},
   "source": [
    "### This notebook provides functions which can be used to compare the results of different models.\n",
    "1) <b>get_all_labels</b> <br>\n",
    "extracts all labels with its sole sequence number from a y list as preparation for future usage. <br>\n",
    "\n",
    "2) It provides two methods to evaluation. <br>\n",
    "2.1) The fist is shown by <b>get_classify_report</b>. <br>\n",
    "The Classify Report reflects the accuracy of (simply) classification, not considering the rate of detecting.<br>\n",
    "2.2) The second method shows the accuracy of recognition in strict sense. (<b>get_recognition_report</b>)<br>\n",
    "Recognition Report shows how many entities are not only in accurate length detected but also correctly classified. <br>\n",
    "\n",
    "3) <b>get_confusion_matrix</b> <br>\n",
    "returns confusion_matrix in three categories: juridical_person, formats, natural_person"
   ]
  },
  {
   "cell_type": "code",
   "execution_count": 1,
   "id": "fbcee6be-f848-4274-a242-9314bc3ff4dc",
   "metadata": {
    "tags": []
   },
   "outputs": [],
   "source": [
    "import pandas as pd\n",
    "import numpy as np\n",
    "import scipy as sp\n",
    "from scipy import sparse\n",
    "import re"
   ]
  },
  {
   "cell_type": "code",
   "execution_count": 2,
   "id": "fb64477b-ee2a-4c66-8dba-c3249017eb59",
   "metadata": {
    "tags": []
   },
   "outputs": [],
   "source": [
    "from sklearn.feature_extraction.text import CountVectorizer\n",
    "from sklearn.feature_extraction import DictVectorizer\n",
    "from sklearn.preprocessing import OneHotEncoder\n",
    "from sklearn.svm import LinearSVC\n",
    "from sklearn.linear_model import LogisticRegression\n",
    "from sklearn.metrics import accuracy_score, precision_recall_fscore_support, classification_report\n",
    "from sklearn.metrics import confusion_matrix, ConfusionMatrixDisplay\n",
    "from sklearn.linear_model import Perceptron, SGDClassifier\n",
    "from sklearn.naive_bayes import MultinomialNB\n",
    "from sklearn.svm import LinearSVC"
   ]
  },
  {
   "cell_type": "code",
   "execution_count": null,
   "id": "034f4efd-f527-4470-8684-158c6b36bb2a",
   "metadata": {
    "tags": []
   },
   "outputs": [],
   "source": []
  },
  {
   "cell_type": "markdown",
   "id": "fc2644d0-9d99-42bd-a226-8d5b53697833",
   "metadata": {},
   "source": [
    "## Load the feature matrix (sparse) and the model"
   ]
  },
  {
   "cell_type": "code",
   "execution_count": 3,
   "id": "50cb78b6-10c1-4c4a-bb89-c66e570c822d",
   "metadata": {
    "tags": []
   },
   "outputs": [],
   "source": [
    "sparse_train = sp.sparse.load_npz('transitional_data/X5_train.npz')\n",
    "sparse_dev = sp.sparse.load_npz('transitional_data/X5_dev.npz')"
   ]
  },
  {
   "cell_type": "code",
   "execution_count": 19,
   "id": "a141dafe-eca9-4e27-a01c-9b052b4e076e",
   "metadata": {
    "tags": []
   },
   "outputs": [],
   "source": [
    "y_train = pd.read_csv(\"transitional_data/y_train.csv\")\n",
    "y_dev = pd.read_csv(\"transitional_data/y_dev.csv\")"
   ]
  },
  {
   "cell_type": "code",
   "execution_count": 5,
   "id": "390064dd-3d5a-415b-989d-f3d724e6b6e6",
   "metadata": {
    "tags": []
   },
   "outputs": [],
   "source": [
    "y_train = y_train.groupby(by = 'SentenceNR', group_keys=True).apply(lambda x: x)\n",
    "y_train = y_train.rename(columns={\"SentenceNR\": \"Sent\", \"Unnamed: 1\": \"TokenNr\"})"
   ]
  },
  {
   "cell_type": "code",
   "execution_count": 6,
   "id": "2c5c8b95-d894-41e3-9aca-770b52d655cc",
   "metadata": {
    "tags": []
   },
   "outputs": [],
   "source": [
    "y_dev = y_dev.groupby(by = 'SentenceNR', group_keys=True).apply(lambda x: x)\n",
    "y_dev = y_dev.rename(columns={\"SentenceNR\": \"Sent\", \"Unnamed: 1\": \"TokenNr\"})"
   ]
  },
  {
   "cell_type": "code",
   "execution_count": 7,
   "id": "ca0e0ebc-1a0a-47e3-bf7e-3b6fccd8882e",
   "metadata": {
    "tags": []
   },
   "outputs": [],
   "source": [
    "train_true = y_train[\"Label\"]\n",
    "dev_true = y_dev[\"Label\"]"
   ]
  },
  {
   "cell_type": "code",
   "execution_count": 8,
   "id": "85179a98-551b-47ef-bebc-9be025c6b1b8",
   "metadata": {
    "tags": []
   },
   "outputs": [],
   "source": [
    "classes = ['B-ORG', 'I-ORG', 'B-OTHER_PERSON', 'I-OTHER_PERSON', 'B-WITNESS', 'I-WITNESS', 'B-GPE', 'B-STATUTE', 'B-DATE', 'I-DATE', 'B-PROVISION', 'I-PROVISION', 'I-STATUTE', 'B-COURT', 'I-COURT', 'B-PRECEDENT', 'I-PRECEDENT', 'B-CASE_NUMBER', 'I-CASE_NUMBER', 'I-GPE', 'B-PETITIONER', 'I-PETITIONER', 'B-JUDGE', 'I-JUDGE', 'B-RESPONDENT', 'I-RESPONDENT']"
   ]
  },
  {
   "cell_type": "code",
   "execution_count": 9,
   "id": "f8a0e222-7e2e-4f02-ade1-82f3019a715e",
   "metadata": {
    "tags": []
   },
   "outputs": [
    {
     "name": "stdout",
     "output_type": "stream",
     "text": [
      "CPU times: user 1min 4s, sys: 439 ms, total: 1min 4s\n",
      "Wall time: 1min 5s\n"
     ]
    },
    {
     "data": {
      "text/html": [
       "<style>#sk-container-id-1 {color: black;background-color: white;}#sk-container-id-1 pre{padding: 0;}#sk-container-id-1 div.sk-toggleable {background-color: white;}#sk-container-id-1 label.sk-toggleable__label {cursor: pointer;display: block;width: 100%;margin-bottom: 0;padding: 0.3em;box-sizing: border-box;text-align: center;}#sk-container-id-1 label.sk-toggleable__label-arrow:before {content: \"▸\";float: left;margin-right: 0.25em;color: #696969;}#sk-container-id-1 label.sk-toggleable__label-arrow:hover:before {color: black;}#sk-container-id-1 div.sk-estimator:hover label.sk-toggleable__label-arrow:before {color: black;}#sk-container-id-1 div.sk-toggleable__content {max-height: 0;max-width: 0;overflow: hidden;text-align: left;background-color: #f0f8ff;}#sk-container-id-1 div.sk-toggleable__content pre {margin: 0.2em;color: black;border-radius: 0.25em;background-color: #f0f8ff;}#sk-container-id-1 input.sk-toggleable__control:checked~div.sk-toggleable__content {max-height: 200px;max-width: 100%;overflow: auto;}#sk-container-id-1 input.sk-toggleable__control:checked~label.sk-toggleable__label-arrow:before {content: \"▾\";}#sk-container-id-1 div.sk-estimator input.sk-toggleable__control:checked~label.sk-toggleable__label {background-color: #d4ebff;}#sk-container-id-1 div.sk-label input.sk-toggleable__control:checked~label.sk-toggleable__label {background-color: #d4ebff;}#sk-container-id-1 input.sk-hidden--visually {border: 0;clip: rect(1px 1px 1px 1px);clip: rect(1px, 1px, 1px, 1px);height: 1px;margin: -1px;overflow: hidden;padding: 0;position: absolute;width: 1px;}#sk-container-id-1 div.sk-estimator {font-family: monospace;background-color: #f0f8ff;border: 1px dotted black;border-radius: 0.25em;box-sizing: border-box;margin-bottom: 0.5em;}#sk-container-id-1 div.sk-estimator:hover {background-color: #d4ebff;}#sk-container-id-1 div.sk-parallel-item::after {content: \"\";width: 100%;border-bottom: 1px solid gray;flex-grow: 1;}#sk-container-id-1 div.sk-label:hover label.sk-toggleable__label {background-color: #d4ebff;}#sk-container-id-1 div.sk-serial::before {content: \"\";position: absolute;border-left: 1px solid gray;box-sizing: border-box;top: 0;bottom: 0;left: 50%;z-index: 0;}#sk-container-id-1 div.sk-serial {display: flex;flex-direction: column;align-items: center;background-color: white;padding-right: 0.2em;padding-left: 0.2em;position: relative;}#sk-container-id-1 div.sk-item {position: relative;z-index: 1;}#sk-container-id-1 div.sk-parallel {display: flex;align-items: stretch;justify-content: center;background-color: white;position: relative;}#sk-container-id-1 div.sk-item::before, #sk-container-id-1 div.sk-parallel-item::before {content: \"\";position: absolute;border-left: 1px solid gray;box-sizing: border-box;top: 0;bottom: 0;left: 50%;z-index: -1;}#sk-container-id-1 div.sk-parallel-item {display: flex;flex-direction: column;z-index: 1;position: relative;background-color: white;}#sk-container-id-1 div.sk-parallel-item:first-child::after {align-self: flex-end;width: 50%;}#sk-container-id-1 div.sk-parallel-item:last-child::after {align-self: flex-start;width: 50%;}#sk-container-id-1 div.sk-parallel-item:only-child::after {width: 0;}#sk-container-id-1 div.sk-dashed-wrapped {border: 1px dashed gray;margin: 0 0.4em 0.5em 0.4em;box-sizing: border-box;padding-bottom: 0.4em;background-color: white;}#sk-container-id-1 div.sk-label label {font-family: monospace;font-weight: bold;display: inline-block;line-height: 1.2em;}#sk-container-id-1 div.sk-label-container {text-align: center;}#sk-container-id-1 div.sk-container {/* jupyter's `normalize.less` sets `[hidden] { display: none; }` but bootstrap.min.css set `[hidden] { display: none !important; }` so we also need the `!important` here to be able to override the default hidden behavior on the sphinx rendered scikit-learn.org. See: https://github.com/scikit-learn/scikit-learn/issues/21755 */display: inline-block !important;position: relative;}#sk-container-id-1 div.sk-text-repr-fallback {display: none;}</style><div id=\"sk-container-id-1\" class=\"sk-top-container\"><div class=\"sk-text-repr-fallback\"><pre>LinearSVC()</pre><b>In a Jupyter environment, please rerun this cell to show the HTML representation or trust the notebook. <br />On GitHub, the HTML representation is unable to render, please try loading this page with nbviewer.org.</b></div><div class=\"sk-container\" hidden><div class=\"sk-item\"><div class=\"sk-estimator sk-toggleable\"><input class=\"sk-toggleable__control sk-hidden--visually\" id=\"sk-estimator-id-1\" type=\"checkbox\" checked><label for=\"sk-estimator-id-1\" class=\"sk-toggleable__label sk-toggleable__label-arrow\">LinearSVC</label><div class=\"sk-toggleable__content\"><pre>LinearSVC()</pre></div></div></div></div></div>"
      ],
      "text/plain": [
       "LinearSVC()"
      ]
     },
     "execution_count": 9,
     "metadata": {},
     "output_type": "execute_result"
    }
   ],
   "source": [
    "svc = LinearSVC()\n",
    "%time svc.fit(sparse_train, train_true)"
   ]
  },
  {
   "cell_type": "code",
   "execution_count": 10,
   "id": "167fe646-33d0-4f4f-94f6-592852161df5",
   "metadata": {
    "tags": []
   },
   "outputs": [
    {
     "name": "stdout",
     "output_type": "stream",
     "text": [
      "CPU times: user 39.2 ms, sys: 3.21 ms, total: 42.4 ms\n",
      "Wall time: 41.5 ms\n"
     ]
    }
   ],
   "source": [
    "%%time\n",
    "dev_pred = svc.predict(sparse_dev)\n",
    "# print(classification_report(y_pred = dev_pred, y_true = dev_true, labels = classes))"
   ]
  },
  {
   "cell_type": "code",
   "execution_count": null,
   "id": "9c06cf59-5427-40a8-b513-fb391f3f74d0",
   "metadata": {
    "tags": []
   },
   "outputs": [],
   "source": []
  },
  {
   "cell_type": "markdown",
   "id": "338f42a0-1021-4a2d-9652-bba2758e907c",
   "metadata": {
    "tags": []
   },
   "source": [
    "## get_all_labels\n",
    "This function extracts <b>all labels with its sole sequence number</b> from a y list. <br>\n",
    "It returns a nested list: Each element of the list (a named entity) is itself a list of labels. Each label is also a list of two elements, the first is the sequence number, the second the true/predicted label. e. g.<br>\n",
    "<blockquote>[ [38, 'B-PRECEDENT'],<br> \n",
    "    [39, 'I-PRECEDENT'],<br> \n",
    "    [40, 'I-PRECEDENT'],<br> \n",
    "    [41, 'I-PRECEDENT'],<br> \n",
    "    [42, 'I-PRECEDENT'],<br> \n",
    "    [43, 'I-PRECEDENT'] ],<br> </blockquote>\n",
    "A named entity including 6 labels(tokens). "
   ]
  },
  {
   "cell_type": "code",
   "execution_count": 11,
   "id": "567df64e-4ec9-4137-8b7c-3101e5b3f87b",
   "metadata": {
    "tags": []
   },
   "outputs": [],
   "source": [
    "def get_all_labels(label_list):\n",
    "    labels = []\n",
    "    for i in range (len(label_list)):\n",
    "        label = []\n",
    "        if label_list[i].startswith(\"B\"):\n",
    "            label.append([i, label_list[i]])\n",
    "            \n",
    "            c = i + 1\n",
    "            while True:\n",
    "                if label_list[c].startswith(\"I\"):\n",
    "                    label.append([c, label_list[c]])\n",
    "                else:\n",
    "                    break\n",
    "                c += 1\n",
    "                \n",
    "            labels.append(label)\n",
    "            label = []\n",
    "    return labels"
   ]
  },
  {
   "cell_type": "code",
   "execution_count": 12,
   "id": "e11a3f68-af49-42f7-88d7-3eb6bd2d9d4e",
   "metadata": {
    "tags": []
   },
   "outputs": [
    {
     "name": "stdout",
     "output_type": "stream",
     "text": [
      "CPU times: user 11.4 ms, sys: 0 ns, total: 11.4 ms\n",
      "Wall time: 12.1 ms\n",
      "CPU times: user 8.26 ms, sys: 8 µs, total: 8.27 ms\n",
      "Wall time: 8.27 ms\n"
     ]
    }
   ],
   "source": [
    "%time labels_pred = get_all_labels(dev_pred)\n",
    "%time labels_true = get_all_labels(dev_true.tolist())"
   ]
  },
  {
   "cell_type": "code",
   "execution_count": null,
   "id": "ce31e3e3-0d4c-436f-a06e-d7cd49745e1d",
   "metadata": {
    "tags": []
   },
   "outputs": [],
   "source": []
  },
  {
   "cell_type": "markdown",
   "id": "2ff0b0e7-d433-48cc-bb04-81b899ff08d1",
   "metadata": {},
   "source": [
    "## get_classify_report\n",
    "### Classify Report reflects the accuracy of (simply) classification, not considering the rate of detecting.\n",
    "This functions returns two lists of <b>LABEL of Entities</b> with the same length, if no error appears. <br>\n",
    "They show the \"common\" entities in true list and pred list. <br>\n",
    "In specific, these entities must have the <b>SAME SPAN</b>, (covering the same tokens, not langer, not shorter) <br>\n",
    "But they <b>don't</b> necessarily have same <b>LABELs</b>. <br><br>\n",
    "So they are called <i>detected_true</i>, (entities in the true list which are found by the prediction)<br>\n",
    "and <i>valid_pred</i>. (entities in the pred list, whose span are correct according to the true list)<br>\n",
    "They both will be returned after running the function.<br><br>\n",
    "The parameter <i>report</i> requires a boolean value. If True, it will print a classification_report,<br>\n",
    "which reflects the <b>accuracy of (simply) classification</b> of the model, which means,<br>\n",
    "<i>if the entities are in accurate spans detected, how many of them can be classified into the correct class. </i><br>\n",
    "I will call it as <b>classify_report</b> in the future, to distinguish it with the strict <b>recognition_report</b> later."
   ]
  },
  {
   "cell_type": "code",
   "execution_count": 13,
   "id": "8ea2a0b0-9bfc-4b6b-9542-9a6c7024e018",
   "metadata": {
    "tags": []
   },
   "outputs": [],
   "source": [
    "def get_classify_report(true, pred, report=False):\n",
    "    \n",
    "    detected_true = []\n",
    "    valid_pred = []\n",
    "\n",
    "    for l in range(len(pred)):\n",
    "        for t in range(len(true)):\n",
    "            # Check whether they cover the exact same span or not:\n",
    "            if [label[0] for label in pred[l]] == [label[0] for label in true[t]]:\n",
    "                # The labels will be combined. \n",
    "                # detected_true and valid_pred are list of the names of entities [CASE_NUMBER, COURT ...]\n",
    "                detected_true.append(true[t][0][1][2:])\n",
    "                valid_pred.append(pred[l][0][1][2:])\n",
    "                \n",
    "    if len(detected_true) == len(valid_pred):\n",
    "        if report == True:\n",
    "            classes = sorted(list(set(valid_pred + detected_true)))\n",
    "            print(classification_report(y_pred = valid_pred, y_true = detected_true, labels = classes))\n",
    "        return detected_true, valid_pred\n",
    "    else:\n",
    "        raise ValueError"
   ]
  },
  {
   "cell_type": "code",
   "execution_count": 14,
   "id": "61cfa44a-45bd-42d8-ba2a-592771debf17",
   "metadata": {
    "tags": []
   },
   "outputs": [
    {
     "name": "stdout",
     "output_type": "stream",
     "text": [
      "              precision    recall  f1-score   support\n",
      "\n",
      " CASE_NUMBER       0.99      0.94      0.96        71\n",
      "       COURT       0.99      0.99      0.99       135\n",
      "        DATE       1.00      1.00      1.00       208\n",
      "         GPE       0.97      0.87      0.92       118\n",
      "       JUDGE       0.55      0.86      0.67         7\n",
      "         ORG       0.75      0.85      0.79        59\n",
      "OTHER_PERSON       0.85      0.78      0.82       204\n",
      "  PETITIONER       0.11      0.33      0.17         6\n",
      "   PRECEDENT       0.74      0.79      0.76        53\n",
      "   PROVISION       1.00      1.00      1.00       198\n",
      "  RESPONDENT       0.20      0.50      0.29         2\n",
      "     STATUTE       0.98      0.99      0.98       164\n",
      "     WITNESS       0.64      0.64      0.64        42\n",
      "\n",
      "    accuracy                           0.91      1267\n",
      "   macro avg       0.75      0.81      0.77      1267\n",
      "weighted avg       0.93      0.91      0.92      1267\n",
      "\n"
     ]
    }
   ],
   "source": [
    "detected_true, valid_pred = get_classify_report(labels_true, labels_pred, report=True)"
   ]
  },
  {
   "cell_type": "code",
   "execution_count": null,
   "id": "fc1700d5-a4c1-4565-ac20-8d0500b7ff3a",
   "metadata": {
    "tags": []
   },
   "outputs": [],
   "source": []
  },
  {
   "cell_type": "markdown",
   "id": "1adb7dfb-9e1a-492c-8441-d145fe0aacdc",
   "metadata": {},
   "source": [
    "## get_recognition_report\n",
    "### Recognition Report shows how many entities are not only in accurate span detected but also correctly classified. <br>\n",
    "It returns a dataframe <i>all_labels_compare</i> sorted with the unique span of entities (both in true und in pred) as index<br>\n",
    "and their labels (combined) in true and predict.<br>\n",
    "If an entity span doesn't appear in the true/ pred list, it will be fillded with \"o\"."
   ]
  },
  {
   "cell_type": "code",
   "execution_count": 16,
   "id": "cd8cbaba-5995-492c-a3be-fa0d3a67eb58",
   "metadata": {
    "tags": []
   },
   "outputs": [],
   "source": [
    "def get_recognition_report(true, pred, report=False):\n",
    "    \n",
    "    # create a dictionary to save the union of all entites in pred and in true. \n",
    "    # keys are the spans of each entites, values are dictionaries inside, \n",
    "    # which save the labels of these entities in the true list and pred list. \n",
    "    all_label_spans = {}\n",
    "    \n",
    "    for i in range(len(pred)):\n",
    "        label = pred[i]\n",
    "        label_span = [token[0] for token in label]\n",
    "        all_label_spans[str(label_span)] = {\"pred\": pred[i][0][1][2:]}\n",
    "        all_label_spans[str(label_span)][\"true\"] = \"o\"\n",
    "\n",
    "    for i in range(len(true)):\n",
    "        label = true[i]\n",
    "        label_span = [token[0] for token in label]\n",
    "        if str(label_span) in all_label_spans:\n",
    "            all_label_spans[str(label_span)][\"true\"] = true[i][0][1][2:]\n",
    "        else:\n",
    "            all_label_spans[str(label_span)] = {\"true\": true[i][0][1][2:]}\n",
    "            all_label_spans[str(label_span)][\"pred\"] = \"o\"\n",
    "    \n",
    "    all_labels_compare = pd.DataFrame.from_dict(all_label_spans).transpose()\n",
    "    \n",
    "    if report == True:\n",
    "        classes = sorted(list(set(all_labels_compare[\"true\"])))\n",
    "        classes.remove(\"o\")\n",
    "        print(classification_report(y_pred = all_labels_compare[\"pred\"], y_true = all_labels_compare[\"true\"], labels = classes))\n",
    "        \n",
    "    return all_labels_compare"
   ]
  },
  {
   "cell_type": "code",
   "execution_count": 17,
   "id": "d8f4673c-9763-47e8-8a34-da251fc8afd5",
   "metadata": {
    "tags": []
   },
   "outputs": [
    {
     "name": "stdout",
     "output_type": "stream",
     "text": [
      "              precision    recall  f1-score   support\n",
      "\n",
      " CASE_NUMBER       0.56      0.55      0.56       121\n",
      "       COURT       0.82      0.75      0.79       178\n",
      "        DATE       0.92      0.94      0.93       222\n",
      "         GPE       0.63      0.57      0.60       182\n",
      "       JUDGE       0.29      0.75      0.41         8\n",
      "         ORG       0.41      0.31      0.36       159\n",
      "OTHER_PERSON       0.68      0.58      0.62       276\n",
      "  PETITIONER       0.09      0.22      0.13         9\n",
      "   PRECEDENT       0.29      0.24      0.26       177\n",
      "   PROVISION       0.78      0.77      0.77       258\n",
      "  RESPONDENT       0.06      0.20      0.09         5\n",
      "     STATUTE       0.75      0.73      0.74       222\n",
      "     WITNESS       0.45      0.47      0.46        58\n",
      "\n",
      "   micro avg       0.66      0.62      0.64      1875\n",
      "   macro avg       0.52      0.54      0.52      1875\n",
      "weighted avg       0.66      0.62      0.64      1875\n",
      "\n"
     ]
    }
   ],
   "source": [
    "all_labels_compare = get_recognition_report(true = labels_true, pred = labels_pred, report=True)"
   ]
  },
  {
   "cell_type": "code",
   "execution_count": null,
   "id": "29e34ad3-5ed1-4d69-b954-572871b7bb34",
   "metadata": {
    "tags": []
   },
   "outputs": [],
   "source": []
  },
  {
   "cell_type": "markdown",
   "id": "71b6ddd8-7b11-4af7-8887-1e4aaded4bfc",
   "metadata": {},
   "source": [
    "## get_confusion_matrix\n",
    "### Returns confusion_matrix in three categories: juridical_person, formats, natural_person\n",
    "The first two parameters pred and true are labels of entities, they must have the same length. <br>\n",
    "The three categories of labels can be chosen with \"cat\"."
   ]
  },
  {
   "cell_type": "code",
   "execution_count": 134,
   "id": "7cfc0da9-f541-4bb6-8b6e-94360cdea2ed",
   "metadata": {
    "tags": []
   },
   "outputs": [],
   "source": [
    "def get_confusion_matrix(pred, true, cat=\"natural_person\"):\n",
    "    \n",
    "    juridical_person = [\"COURT\", \"GPE\", \"ORG\"]\n",
    "    formats = [\"CASE_NUMBER\", \"PRECEDENT\", \"PROVISION\", \"STATUTE\", \"DATE\"]\n",
    "    natural_person = [\"JUDGE\", \"OTHER_PERSON\", \"PETITIONER\", \"RESPONDENT\", \"WITNESS\"]\n",
    "    labels = []\n",
    "    display_labels = []\n",
    "    \n",
    "    if len(pred) == len(true):\n",
    "        \n",
    "        if cat == \"natural_person\":\n",
    "            labels += natural_person\n",
    "            display_labels += [\"JUDGE\", \"OTHER\", \"PETITIONER\", \"RESPONDENT\", \"WITNESS\"]\n",
    "        elif cat == \"juridical_person\":\n",
    "            labels += juridical_person\n",
    "            display_labels += labels\n",
    "        elif cat == \"formats\":\n",
    "            labels += formats\n",
    "            display_labels += [\"CASE\", \"PRECEDENT\", \"PROVISION\", \"STATUTE\", \"DATE\"]\n",
    "        else:\n",
    "            labels = natural_person + juridical_person + formats\n",
    "            display_labels += labels\n",
    "        \n",
    "        cm = confusion_matrix(y_pred = pred, y_true = true, labels = labels)\n",
    "        disp = ConfusionMatrixDisplay(confusion_matrix=cm, display_labels = display_labels)\n",
    "        disp.plot()\n",
    "        \n",
    "    else:\n",
    "        raise ValueError"
   ]
  },
  {
   "cell_type": "code",
   "execution_count": 141,
   "id": "bc7d8c50-6636-4fcf-908f-a73e442a468d",
   "metadata": {
    "tags": []
   },
   "outputs": [
    {
     "data": {
      "image/png": "[encoded data removed]",
      "text/plain": [
       "<Figure size 640x480 with 2 Axes>"
      ]
     },
     "metadata": {},
     "output_type": "display_data"
    }
   ],
   "source": [
    "get_confusion_matrix(pred = all_labels_compare[\"pred\"], true = all_labels_compare[\"true\"], cat=\"formats\")"
   ]
  },
  {
   "cell_type": "code",
   "execution_count": 142,
   "id": "86c03e06-dde4-49f8-90c3-af65a8881cf0",
   "metadata": {
    "tags": []
   },
   "outputs": [
    {
     "data": {
      "image/png": "[encoded data removed]",
      "text/plain": [
       "<Figure size 640x480 with 2 Axes>"
      ]
     },
     "metadata": {},
     "output_type": "display_data"
    }
   ],
   "source": [
    "get_confusion_matrix(pred = all_labels_compare[\"pred\"], true = all_labels_compare[\"true\"], cat=\"juridical_person\")"
   ]
  },
  {
   "cell_type": "code",
   "execution_count": 143,
   "id": "d4c8f249-10a1-46a6-9629-a7db1dea8d80",
   "metadata": {
    "tags": []
   },
   "outputs": [
    {
     "data": {
      "image/png": "[encoded data removed]",
      "text/plain": [
       "<Figure size 640x480 with 2 Axes>"
      ]
     },
     "metadata": {},
     "output_type": "display_data"
    }
   ],
   "source": [
    "get_confusion_matrix(pred = all_labels_compare[\"pred\"], true = all_labels_compare[\"true\"], cat=\"natural_person\")"
   ]
  },
  {
   "cell_type": "code",
   "execution_count": null,
   "id": "c6f14f03",
   "metadata": {},
   "outputs": [],
   "source": []
  }
 ],
 "metadata": {
  "kernelspec": {
   "display_name": "Python 3 (ipykernel)",
   "language": "python",
   "name": "python3"
  },
  "language_info": {
   "codemirror_mode": {
    "name": "ipython",
    "version": 3
   },
   "file_extension": ".py",
   "mimetype": "text/x-python",
   "name": "python",
   "nbconvert_exporter": "python",
   "pygments_lexer": "ipython3",
   "version": "3.10.9"
  }
 },
 "nbformat": 4,
 "nbformat_minor": 5
}
