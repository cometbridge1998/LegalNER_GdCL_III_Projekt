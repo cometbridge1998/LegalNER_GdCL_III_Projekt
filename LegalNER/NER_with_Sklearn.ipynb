{
 "cells": [
  {
   "cell_type": "code",
   "execution_count": 113,
   "id": "739d86d0",
   "metadata": {},
   "outputs": [],
   "source": [
    "import pandas as pd\n",
    "import numpy as np\n",
    "from sklearn.feature_extraction import DictVectorizer\n",
    "from sklearn.feature_extraction.text import CountVectorizer\n",
    "from sklearn.feature_extraction.text import HashingVectorizer\n",
    "from sklearn.linear_model import Perceptron\n",
    "from sklearn.model_selection import train_test_split\n",
    "from sklearn.linear_model import SGDClassifier\n",
    "from sklearn.linear_model import PassiveAggressiveClassifier\n",
    "from sklearn.naive_bayes import MultinomialNB\n",
    "from sklearn.metrics import classification_report"
   ]
  },
  {
   "cell_type": "code",
   "execution_count": null,
   "id": "740fd0a5",
   "metadata": {},
   "outputs": [],
   "source": []
  },
  {
   "cell_type": "code",
   "execution_count": 114,
   "id": "9c7f5d7d",
   "metadata": {},
   "outputs": [],
   "source": [
    "import pandas as pd\n",
    "import json"
   ]
  },
  {
   "cell_type": "code",
   "execution_count": 115,
   "id": "aa43345f",
   "metadata": {},
   "outputs": [],
   "source": [
    "with open(\"NER_TRAIN/NER_TRAIN_JUDGEMENT.json\") as json_file_train:\n",
    "    json_object_train = json.load(json_file_train)"
   ]
  },
  {
   "cell_type": "code",
   "execution_count": 116,
   "id": "740372a7",
   "metadata": {},
   "outputs": [],
   "source": [
    "with open(\"NER_DEV/NER_DEV/NER_DEV_JUDGEMENT.json\") as json_file_dev:\n",
    "    json_object_dev = json.load(json_file_dev)"
   ]
  },
  {
   "cell_type": "code",
   "execution_count": 117,
   "id": "90363098",
   "metadata": {},
   "outputs": [
    {
     "name": "stdout",
     "output_type": "stream",
     "text": [
      "{0: '[PAD]', 1: 'O', 2: 'B-COURT', 3: 'I-COURT', 4: 'B-PETITIONER', 5: 'I-PETITIONER', 6: 'B-RESPONDENT', 7: 'I-RESPONDENT', 8: 'B-JUDGE', 9: 'I-JUDGE', 10: 'B-LAWYER', 11: 'I-LAWYER', 12: 'B-DATE', 13: 'I-DATE', 14: 'B-ORG', 15: 'I-ORG', 16: 'B-GPE', 17: 'I-GPE', 18: 'B-STATUTE', 19: 'I-STATUTE', 20: 'B-PROVISION', 21: 'I-PROVISION', 22: 'B-PRECEDENT', 23: 'I-PRECEDENT', 24: 'B-CASE_NUMBER', 25: 'I-CASE_NUMBER', 26: 'B-WITNESS', 27: 'I-WITNESS', 28: 'B-OTHER_PERSON', 29: 'I-OTHER_PERSON'}\n"
     ]
    }
   ],
   "source": [
    "named_entities = [\"COURT\", \"PETITIONER\", \"RESPONDENT\", \"JUDGE\", \"LAWYER\", \"DATE\", \"ORG\", \"GPE\", \"STATUTE\", \"PROVISION\", \"PRECEDENT\", \"CASE_NUMBER\", \"WITNESS\", \"OTHER_PERSON\"]\n",
    "def make_tag_lookup_table():\n",
    "    iob_labels = [\"B\", \"I\"]\n",
    "    ner_labels = named_entities\n",
    "    all_labels = [(label1, label2) for label2 in ner_labels for label1 in iob_labels]\n",
    "    all_labels = [\"-\".join([a, b]) for a, b in all_labels]\n",
    "    all_labels = [\"[PAD]\", \"O\"] + all_labels\n",
    "    return dict(zip(range(0, len(all_labels) + 1), all_labels))\n",
    "\n",
    "\n",
    "mapping = make_tag_lookup_table()\n",
    "print(mapping)\n"
   ]
  },
  {
   "cell_type": "code",
   "execution_count": 118,
   "id": "e33ef4e0",
   "metadata": {},
   "outputs": [
    {
     "data": {
      "text/plain": [
       "{'COURT': 1,\n",
       " 'PETITIONER': 2,\n",
       " 'RESPONDENT': 3,\n",
       " 'JUDGE': 4,\n",
       " 'LAWYER': 5,\n",
       " 'DATE': 6,\n",
       " 'ORG': 7,\n",
       " 'GPE': 8,\n",
       " 'STATUTE': 9,\n",
       " 'PROVISION': 10,\n",
       " 'PRECEDENT': 11,\n",
       " 'CASE_NUMBER': 12,\n",
       " 'WITNESS': 13,\n",
       " 'OTHER_PERSON': 14}"
      ]
     },
     "execution_count": 118,
     "metadata": {},
     "output_type": "execute_result"
    }
   ],
   "source": [
    "named_entities = [\"COURT\", \"PETITIONER\", \"RESPONDENT\", \"JUDGE\", \"LAWYER\", \"DATE\", \"ORG\", \"GPE\", \"STATUTE\", \"PROVISION\", \"PRECEDENT\", \"CASE_NUMBER\", \"WITNESS\", \"OTHER_PERSON\"]\n",
    "named_entities_to_list = {\"\".join(key): idx for idx, key in enumerate(named_entities)}\n",
    "for key, value in named_entities_to_list.items():\n",
    "    named_entities_to_list[key] = named_entities_to_list[key] + 1\n",
    "named_entities_to_list  "
   ]
  },
  {
   "cell_type": "code",
   "execution_count": 119,
   "id": "a99b690c",
   "metadata": {},
   "outputs": [],
   "source": [
    "def get_start_and_end_and_labels(tree):\n",
    "    start_and_end_and_labels = []\n",
    "    for label in tree[\"annotations\"][0][\"result\"]:\n",
    "        labels = label[\"value\"][\"labels\"][0]\n",
    "        start = label[\"value\"][\"start\"]\n",
    "        end = label[\"value\"][\"end\"]\n",
    "        start_and_end_and_labels.append([labels, start, end])\n",
    "    return start_and_end_and_labels"
   ]
  },
  {
   "cell_type": "code",
   "execution_count": 120,
   "id": "cb9c96d9",
   "metadata": {},
   "outputs": [],
   "source": [
    "def slice_id_to_token_id(text, start, end):\n",
    "    token_number_start = 0\n",
    "    token_number_end = 1\n",
    "    for char in text[:start]:\n",
    "        if char == \" \":        \n",
    "            token_number_start += 1\n",
    "    for char in text[:end]:\n",
    "        if char == \" \":\n",
    "            token_number_end += 1\n",
    "    return token_number_start, token_number_end"
   ]
  },
  {
   "cell_type": "code",
   "execution_count": 121,
   "id": "5793ce6f",
   "metadata": {},
   "outputs": [],
   "source": [
    "import re\n",
    "def text_to_text_plus_label(text, labels):\n",
    "    text = re.sub(r\"\\n\", \" \", text)\n",
    "    token_numbers_of_labels = []\n",
    "    for label in labels:\n",
    "        start, end = slice_id_to_token_id(text, label[1], label[2])\n",
    "        token_numbers_of_labels.append([label[0], start, end])\n",
    "    tokens = text.split(\" \")\n",
    "    number_of_tokens = len(tokens)\n",
    "    \n",
    "    return_list = []\n",
    "    token_labels = [ \"o\" for i in range(number_of_tokens)]\n",
    "    for label in token_numbers_of_labels:\n",
    "        # check the label\n",
    "        # print(tokens[label[1]:label[2]])\n",
    "        # print(label[1],label[2])\n",
    "        \n",
    "        #token_labels[label[1]] = named_entities_to_list[label[0]] * 2 - 1\n",
    "        token_labels[label[1]] = \"B-\" + label[0]\n",
    "        for i in range(label[1] + 1, label[2]):\n",
    "            #token_labels[i] = named_entities_to_list[label[0]]  * 2\n",
    "            token_labels[i] = \"I-\" + label[0]\n",
    "    \n",
    "    for i in range (len(token_labels)):\n",
    "        return_list.append([tokens[i], token_labels[i]])\n",
    "    return return_list"
   ]
  },
  {
   "cell_type": "code",
   "execution_count": 122,
   "id": "d5598143",
   "metadata": {},
   "outputs": [],
   "source": [
    "try_text = json_object_train[0][\"data\"][\"text\"]"
   ]
  },
  {
   "cell_type": "code",
   "execution_count": 123,
   "id": "d0a76165",
   "metadata": {},
   "outputs": [],
   "source": [
    "try_label = get_start_and_end_and_labels(json_object_train[0])"
   ]
  },
  {
   "cell_type": "code",
   "execution_count": 124,
   "id": "1557e61a",
   "metadata": {},
   "outputs": [
    {
     "name": "stdout",
     "output_type": "stream",
     "text": [
      "[['', 'o'], ['', 'o'], ['(7)', 'o'], ['On', 'o'], ['specific', 'o'], ['query', 'o'], ['by', 'o'], ['the', 'o'], ['Bench', 'o'], ['about', 'o'], ['an', 'o'], ['entry', 'o'], ['of', 'o'], ['Rs.', 'o'], ['1,31,37,500', 'o'], ['on', 'o'], ['deposit', 'o'], ['side', 'o'], ['of', 'o'], ['Hongkong', 'B-ORG'], ['Bank', 'I-ORG'], ['account', 'o'], ['of', 'o'], ['which', 'o'], ['a', 'o'], ['photo', 'o'], ['copy', 'o'], ['is', 'o'], ['appearing', 'o'], ['at', 'o'], ['p.', 'o'], ['40', 'o'], ['of', 'o'], [\"assessee's\", 'o'], ['paper', 'o'], ['book,', 'o'], ['learned', 'o'], ['authorised', 'o'], ['representative', 'o'], ['submitted', 'o'], ['that', 'o'], ['it', 'o'], ['was', 'o'], ['related', 'o'], ['to', 'o'], ['loan', 'o'], ['from', 'o'], ['broker,', 'o'], ['Rahul', 'B-ORG'], ['&', 'I-ORG'], ['Co.', 'I-ORG'], ['on', 'o'], ['the', 'o'], ['basis', 'o'], ['of', 'o'], ['his', 'o'], ['submission', 'o'], ['a', 'o'], ['necessary', 'o'], ['mark', 'o'], ['is', 'o'], ['put', 'o'], ['by', 'o'], ['us', 'o'], ['on', 'o'], ['that', 'o'], ['photo', 'o'], ['copy.', 'o']]\n"
     ]
    }
   ],
   "source": [
    "try_convert = text_to_text_plus_label(try_text, try_label)\n",
    "print(try_convert)"
   ]
  },
  {
   "cell_type": "code",
   "execution_count": null,
   "id": "bb4b4e21",
   "metadata": {},
   "outputs": [],
   "source": []
  },
  {
   "cell_type": "code",
   "execution_count": null,
   "id": "6b6ba1de",
   "metadata": {},
   "outputs": [],
   "source": []
  },
  {
   "cell_type": "code",
   "execution_count": 125,
   "id": "fc4eeac0",
   "metadata": {},
   "outputs": [],
   "source": [
    "df = pd.DataFrame(try_convert)"
   ]
  },
  {
   "cell_type": "code",
   "execution_count": 126,
   "id": "577f10e5",
   "metadata": {},
   "outputs": [
    {
     "data": {
      "text/plain": [
       "1\n",
       "B-ORG     2\n",
       "I-ORG     3\n",
       "o        63\n",
       "dtype: int64"
      ]
     },
     "execution_count": 126,
     "metadata": {},
     "output_type": "execute_result"
    }
   ],
   "source": [
    "df.groupby(1).size()"
   ]
  },
  {
   "cell_type": "code",
   "execution_count": null,
   "id": "d0eede54",
   "metadata": {},
   "outputs": [],
   "source": []
  },
  {
   "cell_type": "code",
   "execution_count": 2,
   "id": "0e85da54",
   "metadata": {},
   "outputs": [
    {
     "ename": "NameError",
     "evalue": "name 'json_object_train' is not defined",
     "output_type": "error",
     "traceback": [
      "\u001b[0;31m---------------------------------------------------------------------------\u001b[0m",
      "\u001b[0;31mNameError\u001b[0m                                 Traceback (most recent call last)",
      "Cell \u001b[0;32mIn [2], line 2\u001b[0m\n\u001b[1;32m      1\u001b[0m token_and_labels_train \u001b[38;5;241m=\u001b[39m []\n\u001b[0;32m----> 2\u001b[0m \u001b[38;5;28;01mfor\u001b[39;00m tree \u001b[38;5;129;01min\u001b[39;00m \u001b[43mjson_object_train\u001b[49m:\n\u001b[1;32m      3\u001b[0m     labels \u001b[38;5;241m=\u001b[39m get_start_and_end_and_labels(tree)\n\u001b[1;32m      4\u001b[0m     text \u001b[38;5;241m=\u001b[39m tree[\u001b[38;5;124m\"\u001b[39m\u001b[38;5;124mdata\u001b[39m\u001b[38;5;124m\"\u001b[39m][\u001b[38;5;124m\"\u001b[39m\u001b[38;5;124mtext\u001b[39m\u001b[38;5;124m\"\u001b[39m]\n",
      "\u001b[0;31mNameError\u001b[0m: name 'json_object_train' is not defined"
     ]
    }
   ],
   "source": [
    "token_and_labels_train = []\n",
    "for tree in json_object_train:\n",
    "    labels = get_start_and_end_and_labels(tree)\n",
    "    text = tree[\"data\"][\"text\"]\n",
    "    token_and_labels_train += text_to_text_plus_label(text, labels) "
   ]
  },
  {
   "cell_type": "code",
   "execution_count": null,
   "id": "c4634466-d553-43ba-bcf1-00996dce9830",
   "metadata": {},
   "outputs": [],
   "source": []
  },
  {
   "cell_type": "code",
   "execution_count": 128,
   "id": "bd92d4b8",
   "metadata": {},
   "outputs": [],
   "source": [
    "token_and_labels_dev = []\n",
    "for tree in json_object_dev:\n",
    "    labels = get_start_and_end_and_labels(tree)\n",
    "    text = tree[\"data\"][\"text\"]\n",
    "    token_and_labels_dev += text_to_text_plus_label(text, labels) "
   ]
  },
  {
   "cell_type": "code",
   "execution_count": 129,
   "id": "103e5c8c",
   "metadata": {},
   "outputs": [
    {
     "data": {
      "text/html": [
       "<div>\n",
       "<style scoped>\n",
       "    .dataframe tbody tr th:only-of-type {\n",
       "        vertical-align: middle;\n",
       "    }\n",
       "\n",
       "    .dataframe tbody tr th {\n",
       "        vertical-align: top;\n",
       "    }\n",
       "\n",
       "    .dataframe thead th {\n",
       "        text-align: right;\n",
       "    }\n",
       "</style>\n",
       "<table border=\"1\" class=\"dataframe\">\n",
       "  <thead>\n",
       "    <tr style=\"text-align: right;\">\n",
       "      <th></th>\n",
       "      <th>0</th>\n",
       "      <th>1</th>\n",
       "    </tr>\n",
       "  </thead>\n",
       "  <tbody>\n",
       "    <tr>\n",
       "      <th>0</th>\n",
       "      <td></td>\n",
       "      <td>o</td>\n",
       "    </tr>\n",
       "    <tr>\n",
       "      <th>1</th>\n",
       "      <td></td>\n",
       "      <td>o</td>\n",
       "    </tr>\n",
       "    <tr>\n",
       "      <th>2</th>\n",
       "      <td>(7)</td>\n",
       "      <td>o</td>\n",
       "    </tr>\n",
       "    <tr>\n",
       "      <th>3</th>\n",
       "      <td>On</td>\n",
       "      <td>o</td>\n",
       "    </tr>\n",
       "    <tr>\n",
       "      <th>4</th>\n",
       "      <td>specific</td>\n",
       "      <td>o</td>\n",
       "    </tr>\n",
       "    <tr>\n",
       "      <th>...</th>\n",
       "      <td>...</td>\n",
       "      <td>...</td>\n",
       "    </tr>\n",
       "    <tr>\n",
       "      <th>320342</th>\n",
       "      <td>with</td>\n",
       "      <td>o</td>\n",
       "    </tr>\n",
       "    <tr>\n",
       "      <th>320343</th>\n",
       "      <td>accused</td>\n",
       "      <td>o</td>\n",
       "    </tr>\n",
       "    <tr>\n",
       "      <th>320344</th>\n",
       "      <td>No.1</td>\n",
       "      <td>o</td>\n",
       "    </tr>\n",
       "    <tr>\n",
       "      <th>320345</th>\n",
       "      <td>as</td>\n",
       "      <td>o</td>\n",
       "    </tr>\n",
       "    <tr>\n",
       "      <th>320346</th>\n",
       "      <td>aforementioned.</td>\n",
       "      <td>o</td>\n",
       "    </tr>\n",
       "  </tbody>\n",
       "</table>\n",
       "<p>320347 rows × 2 columns</p>\n",
       "</div>"
      ],
      "text/plain": [
       "                      0  1\n",
       "0                        o\n",
       "1                        o\n",
       "2                   (7)  o\n",
       "3                    On  o\n",
       "4              specific  o\n",
       "...                 ... ..\n",
       "320342             with  o\n",
       "320343          accused  o\n",
       "320344             No.1  o\n",
       "320345               as  o\n",
       "320346  aforementioned.  o\n",
       "\n",
       "[320347 rows x 2 columns]"
      ]
     },
     "execution_count": 129,
     "metadata": {},
     "output_type": "execute_result"
    }
   ],
   "source": [
    "df_train = pd.DataFrame(token_and_labels_train)\n",
    "df_dev = pd.DataFrame(token_and_labels_dev)\n",
    "df_train"
   ]
  },
  {
   "cell_type": "code",
   "execution_count": 107,
   "id": "e70ef5e7",
   "metadata": {},
   "outputs": [
    {
     "data": {
      "text/plain": [
       "array(['o', 'B-ORG', 'I-ORG', 'B-OTHER_PERSON', 'I-OTHER_PERSON',\n",
       "       'B-WITNESS', 'I-WITNESS', 'B-GPE', 'B-STATUTE', 'B-DATE', 'I-DATE',\n",
       "       'B-PROVISION', 'I-PROVISION', 'I-STATUTE', 'B-COURT', 'I-COURT',\n",
       "       'B-PRECEDENT', 'I-PRECEDENT', 'B-CASE_NUMBER', 'I-CASE_NUMBER',\n",
       "       'I-GPE', 'B-PETITIONER', 'I-PETITIONER', 'B-JUDGE', 'I-JUDGE',\n",
       "       'B-RESPONDENT', 'I-RESPONDENT'], dtype=object)"
      ]
     },
     "execution_count": 107,
     "metadata": {},
     "output_type": "execute_result"
    }
   ],
   "source": [
    "df_train[1].unique()"
   ]
  },
  {
   "cell_type": "code",
   "execution_count": 139,
   "id": "982a5f88",
   "metadata": {},
   "outputs": [
    {
     "data": {
      "text/plain": [
       "((214632, 36532), (214632,))"
      ]
     },
     "execution_count": 139,
     "metadata": {},
     "output_type": "execute_result"
    }
   ],
   "source": [
    "X = df_train.drop(1, axis=1)\n",
    "v = DictVectorizer(sparse=True)\n",
    "X = v.fit_transform(X.to_dict('records'))\n",
    "y = df_train[1]\n",
    "\n",
    "#classes = np.unique(y)\n",
    "#classes = classes.tolist()\n",
    "classes = df_train[1].unique().tolist()\n",
    "\n",
    "X_train, X_test, y_train, y_test = train_test_split(X, y, test_size = 0.33, random_state=0)\n",
    "X_train.shape, y_train.shape"
   ]
  },
  {
   "cell_type": "code",
   "execution_count": null,
   "id": "a4d52092",
   "metadata": {},
   "outputs": [],
   "source": []
  },
  {
   "cell_type": "code",
   "execution_count": 109,
   "id": "ebf7b933",
   "metadata": {},
   "outputs": [
    {
     "name": "stderr",
     "output_type": "stream",
     "text": [
      "[Parallel(n_jobs=-1)]: Using backend ThreadingBackend with 4 concurrent workers.\n",
      "[Parallel(n_jobs=-1)]: Done   5 tasks      | elapsed:    0.2s\n"
     ]
    },
    {
     "name": "stdout",
     "output_type": "stream",
     "text": [
      "-- Epoch 1\n",
      "-- Epoch 1\n",
      "-- Epoch 1\n",
      "-- Epoch 1\n",
      "Norm: 21.10, NNZs: 445, Bias: -0.010000, T: 214632, Avg. loss: 0.001380\n",
      "Total training time: 0.05 seconds.\n",
      "Norm: 41.98, NNZs: 1762, Bias: -0.020000, T: 214632, Avg. loss: 0.000610\n",
      "Total training time: 0.05 seconds.\n",
      "Norm: 10.34, NNZs: 107, Bias: -0.030000, T: 214632, Avg. loss: 0.001353\n",
      "Total training time: 0.06 seconds.\n",
      "-- Epoch 1\n",
      "Norm: 29.55, NNZs: 873, Bias: -0.010000, T: 214632, Avg. loss: 0.001521\n",
      "Total training time: 0.06 seconds.\n",
      "-- Epoch 1\n",
      "-- Epoch 1\n",
      "-- Epoch 1\n",
      "Norm: 21.89, NNZs: 479, Bias: -0.010000, T: 214632, Avg. loss: 0.000491\n",
      "Total training time: 0.05 seconds.\n",
      "-- Epoch 1\n",
      "Norm: 27.80, NNZs: 773, Bias: -0.030000, T: 214632, Avg. loss: 0.001815\n",
      "Total training time: 0.06 seconds.\n",
      "-- Epoch 1\n",
      "Norm: 45.49, NNZs: 2069, Bias: -0.010000, T: 214632, Avg. loss: 0.002279\n",
      "Total training time: 0.07 seconds.\n",
      "Norm: 19.77, NNZs: 391, Bias: -0.010000, T: 214632, Avg. loss: 0.000508\n",
      "Total training time: 0.08 seconds.\n",
      "-- Epoch 1\n",
      "-- Epoch 1\n",
      "Norm: 30.02, NNZs: 901, Bias: -0.030000, T: 214632, Avg. loss: 0.001847\n",
      "Total training time: 0.06 seconds.\n",
      "-- Epoch 1\n",
      "Norm: 15.00, NNZs: 225, Bias: -0.010000, T: 214632, Avg. loss: 0.000344\n",
      "Total training time: 0.07 seconds.\n",
      "-- Epoch 1\n",
      "Norm: 12.53, NNZs: 157, Bias: -0.030000, T: 214632, Avg. loss: 0.001293\n",
      "Total training time: 0.10 seconds.\n",
      "Norm: 26.81, NNZs: 719, Bias: -0.010000, T: 214632, Avg. loss: 0.000953\n",
      "Total training time: 0.06 seconds.\n",
      "Norm: 18.44, NNZs: 340, Bias: -0.020000, T: 214632, Avg. loss: 0.001890\n",
      "Total training time: 0.08 seconds.\n",
      "-- Epoch 1\n",
      "-- Epoch 1\n",
      "-- Epoch 1\n",
      "Norm: 37.51, NNZs: 1407, Bias: -0.010000, T: 214632, Avg. loss: 0.005990\n",
      "Total training time: 0.05 seconds.\n",
      "-- Epoch 1\n",
      "Norm: 18.30, NNZs: 335, Bias: -0.050000, T: 214632, Avg. loss: 0.004558\n",
      "Total training time: 0.08 seconds.\n",
      "Norm: 11.96, NNZs: 143, Bias: -0.010000, T: 214632, Avg. loss: 0.000516\n",
      "Total training time: 0.07 seconds.\n",
      "Norm: 16.94, NNZs: 287, Bias: -0.110000, T: 214632, Avg. loss: 0.001830\n",
      "Total training time: 0.07 seconds.\n",
      "-- Epoch 1\n",
      "-- Epoch 1\n",
      "Norm: 16.28, NNZs: 265, Bias: -0.010000, T: 214632, Avg. loss: 0.000444\n",
      "Total training time: 0.06 seconds.\n",
      "-- Epoch 1\n",
      "-- Epoch 1\n",
      "Norm: 30.66, NNZs: 940, Bias: -0.020000, T: 214632, Avg. loss: 0.004808\n",
      "Total training time: 0.06 seconds.\n",
      "-- Epoch 1\n"
     ]
    },
    {
     "name": "stderr",
     "output_type": "stream",
     "text": [
      "[Parallel(n_jobs=-1)]: Done  10 tasks      | elapsed:    0.3s\n",
      "[Parallel(n_jobs=-1)]: Done  17 tasks      | elapsed:    0.4s\n"
     ]
    },
    {
     "name": "stdout",
     "output_type": "stream",
     "text": [
      "Norm: 12.12, NNZs: 147, Bias: -0.010000, T: 214632, Avg. loss: 0.000737\n",
      "Total training time: 0.07 seconds.\n",
      "Norm: 33.36, NNZs: 1113, Bias: -0.030000, T: 214632, Avg. loss: 0.002600\n",
      "Total training time: 0.08 seconds.\n",
      "-- Epoch 1\n",
      "Norm: 64.37, NNZs: 4143, Bias: -0.030000, T: 214632, Avg. loss: 0.017004\n",
      "Total training time: 0.07 seconds.\n",
      "-- Epoch 1\n",
      "-- Epoch 1\n",
      "Norm: 39.09, NNZs: 1528, Bias: -0.020000, T: 214632, Avg. loss: 0.005099\n",
      "Total training time: 0.06 seconds.\n",
      "-- Epoch 1\n",
      "Norm: 14.83, NNZs: 220, Bias: -0.020000, T: 214632, Avg. loss: 0.000890\n",
      "Total training time: 0.05 seconds.\n",
      "Norm: 26.93, NNZs: 725, Bias: -0.010000, T: 214632, Avg. loss: 0.004840\n",
      "Total training time: 0.05 seconds.\n",
      "Norm: 19.70, NNZs: 388, Bias: -0.040000, T: 214632, Avg. loss: 0.001289\n",
      "Total training time: 0.06 seconds.\n",
      "Norm: 126.28, NNZs: 15947, Bias: 0.010000, T: 214632, Avg. loss: 0.030902\n",
      "Total training time: 0.04 seconds.\n"
     ]
    },
    {
     "name": "stderr",
     "output_type": "stream",
     "text": [
      "[Parallel(n_jobs=-1)]: Done  23 out of  27 | elapsed:    0.5s remaining:    0.1s\n",
      "[Parallel(n_jobs=-1)]: Done  27 out of  27 | elapsed:    0.6s finished\n"
     ]
    },
    {
     "data": {
      "text/html": [
       "<style>#sk-container-id-1 {color: black;background-color: white;}#sk-container-id-1 pre{padding: 0;}#sk-container-id-1 div.sk-toggleable {background-color: white;}#sk-container-id-1 label.sk-toggleable__label {cursor: pointer;display: block;width: 100%;margin-bottom: 0;padding: 0.3em;box-sizing: border-box;text-align: center;}#sk-container-id-1 label.sk-toggleable__label-arrow:before {content: \"▸\";float: left;margin-right: 0.25em;color: #696969;}#sk-container-id-1 label.sk-toggleable__label-arrow:hover:before {color: black;}#sk-container-id-1 div.sk-estimator:hover label.sk-toggleable__label-arrow:before {color: black;}#sk-container-id-1 div.sk-toggleable__content {max-height: 0;max-width: 0;overflow: hidden;text-align: left;background-color: #f0f8ff;}#sk-container-id-1 div.sk-toggleable__content pre {margin: 0.2em;color: black;border-radius: 0.25em;background-color: #f0f8ff;}#sk-container-id-1 input.sk-toggleable__control:checked~div.sk-toggleable__content {max-height: 200px;max-width: 100%;overflow: auto;}#sk-container-id-1 input.sk-toggleable__control:checked~label.sk-toggleable__label-arrow:before {content: \"▾\";}#sk-container-id-1 div.sk-estimator input.sk-toggleable__control:checked~label.sk-toggleable__label {background-color: #d4ebff;}#sk-container-id-1 div.sk-label input.sk-toggleable__control:checked~label.sk-toggleable__label {background-color: #d4ebff;}#sk-container-id-1 input.sk-hidden--visually {border: 0;clip: rect(1px 1px 1px 1px);clip: rect(1px, 1px, 1px, 1px);height: 1px;margin: -1px;overflow: hidden;padding: 0;position: absolute;width: 1px;}#sk-container-id-1 div.sk-estimator {font-family: monospace;background-color: #f0f8ff;border: 1px dotted black;border-radius: 0.25em;box-sizing: border-box;margin-bottom: 0.5em;}#sk-container-id-1 div.sk-estimator:hover {background-color: #d4ebff;}#sk-container-id-1 div.sk-parallel-item::after {content: \"\";width: 100%;border-bottom: 1px solid gray;flex-grow: 1;}#sk-container-id-1 div.sk-label:hover label.sk-toggleable__label {background-color: #d4ebff;}#sk-container-id-1 div.sk-serial::before {content: \"\";position: absolute;border-left: 1px solid gray;box-sizing: border-box;top: 0;bottom: 0;left: 50%;z-index: 0;}#sk-container-id-1 div.sk-serial {display: flex;flex-direction: column;align-items: center;background-color: white;padding-right: 0.2em;padding-left: 0.2em;position: relative;}#sk-container-id-1 div.sk-item {position: relative;z-index: 1;}#sk-container-id-1 div.sk-parallel {display: flex;align-items: stretch;justify-content: center;background-color: white;position: relative;}#sk-container-id-1 div.sk-item::before, #sk-container-id-1 div.sk-parallel-item::before {content: \"\";position: absolute;border-left: 1px solid gray;box-sizing: border-box;top: 0;bottom: 0;left: 50%;z-index: -1;}#sk-container-id-1 div.sk-parallel-item {display: flex;flex-direction: column;z-index: 1;position: relative;background-color: white;}#sk-container-id-1 div.sk-parallel-item:first-child::after {align-self: flex-end;width: 50%;}#sk-container-id-1 div.sk-parallel-item:last-child::after {align-self: flex-start;width: 50%;}#sk-container-id-1 div.sk-parallel-item:only-child::after {width: 0;}#sk-container-id-1 div.sk-dashed-wrapped {border: 1px dashed gray;margin: 0 0.4em 0.5em 0.4em;box-sizing: border-box;padding-bottom: 0.4em;background-color: white;}#sk-container-id-1 div.sk-label label {font-family: monospace;font-weight: bold;display: inline-block;line-height: 1.2em;}#sk-container-id-1 div.sk-label-container {text-align: center;}#sk-container-id-1 div.sk-container {/* jupyter's `normalize.less` sets `[hidden] { display: none; }` but bootstrap.min.css set `[hidden] { display: none !important; }` so we also need the `!important` here to be able to override the default hidden behavior on the sphinx rendered scikit-learn.org. See: https://github.com/scikit-learn/scikit-learn/issues/21755 */display: inline-block !important;position: relative;}#sk-container-id-1 div.sk-text-repr-fallback {display: none;}</style><div id=\"sk-container-id-1\" class=\"sk-top-container\"><div class=\"sk-text-repr-fallback\"><pre>Perceptron(max_iter=5, n_jobs=-1, verbose=10)</pre><b>In a Jupyter environment, please rerun this cell to show the HTML representation or trust the notebook. <br />On GitHub, the HTML representation is unable to render, please try loading this page with nbviewer.org.</b></div><div class=\"sk-container\" hidden><div class=\"sk-item\"><div class=\"sk-estimator sk-toggleable\"><input class=\"sk-toggleable__control sk-hidden--visually\" id=\"sk-estimator-id-1\" type=\"checkbox\" checked><label for=\"sk-estimator-id-1\" class=\"sk-toggleable__label sk-toggleable__label-arrow\">Perceptron</label><div class=\"sk-toggleable__content\"><pre>Perceptron(max_iter=5, n_jobs=-1, verbose=10)</pre></div></div></div></div></div>"
      ],
      "text/plain": [
       "Perceptron(max_iter=5, n_jobs=-1, verbose=10)"
      ]
     },
     "execution_count": 109,
     "metadata": {},
     "output_type": "execute_result"
    }
   ],
   "source": [
    "per = Perceptron(verbose=10, n_jobs=-1, max_iter=5)\n",
    "per.partial_fit(X_train, y_train, classes)"
   ]
  },
  {
   "cell_type": "code",
   "execution_count": null,
   "id": "a82941ad",
   "metadata": {},
   "outputs": [],
   "source": []
  },
  {
   "cell_type": "code",
   "execution_count": 134,
   "id": "21384d76",
   "metadata": {},
   "outputs": [
    {
     "name": "stdout",
     "output_type": "stream",
     "text": [
      "['O', 'B-COURT', 'I-COURT', 'B-PETITIONER', 'I-PETITIONER', 'B-RESPONDENT', 'I-RESPONDENT', 'B-JUDGE', 'I-JUDGE', 'B-LAWYER', 'I-LAWYER', 'B-DATE', 'I-DATE', 'B-ORG', 'I-ORG', 'B-GPE', 'I-GPE', 'B-STATUTE', 'I-STATUTE', 'B-PROVISION', 'I-PROVISION', 'B-PRECEDENT', 'I-PRECEDENT', 'B-CASE_NUMBER', 'I-CASE_NUMBER', 'B-WITNESS', 'I-WITNESS', 'B-OTHER_PERSON', 'I-OTHER_PERSON']\n",
      "['O', 'B-COURT', 'I-COURT', 'B-PETITIONER', 'I-PETITIONER', 'B-RESPONDENT', 'I-RESPONDENT', 'B-LAWYER', 'I-LAWYER', 'B-DATE', 'I-DATE', 'B-ORG', 'I-ORG', 'B-GPE', 'I-GPE', 'B-STATUTE', 'I-STATUTE', 'B-PROVISION', 'I-PROVISION', 'B-PRECEDENT', 'I-PRECEDENT', 'B-CASE_NUMBER', 'I-CASE_NUMBER', 'B-WITNESS', 'I-WITNESS', 'B-OTHER_PERSON', 'I-OTHER_PERSON']\n"
     ]
    },
    {
     "data": {
      "text/plain": [
       "27"
      ]
     },
     "execution_count": 134,
     "metadata": {},
     "output_type": "execute_result"
    }
   ],
   "source": [
    "new_classes = []\n",
    "for text in mapping.values():\n",
    "    new_classes.append(text)\n",
    "new_classes = new_classes[1:]\n",
    "print(new_classes)\n",
    "new_classes.remove('B-JUDGE')\n",
    "new_classes.remove('I-JUDGE')\n",
    "print(new_classes)\n",
    "len(new_classes)"
   ]
  },
  {
   "cell_type": "code",
   "execution_count": 131,
   "id": "98657974-ef0c-4fda-881f-b21425a36e9a",
   "metadata": {},
   "outputs": [
    {
     "name": "stdout",
     "output_type": "stream",
     "text": [
      "['o', 'B-ORG', 'I-ORG', 'B-OTHER_PERSON', 'I-OTHER_PERSON', 'B-WITNESS', 'I-WITNESS', 'B-GPE', 'B-STATUTE', 'B-DATE', 'I-DATE', 'B-PROVISION', 'I-PROVISION', 'I-STATUTE', 'B-COURT', 'I-COURT', 'B-PRECEDENT', 'I-PRECEDENT', 'B-CASE_NUMBER', 'I-CASE_NUMBER', 'I-GPE', 'B-PETITIONER', 'I-PETITIONER', 'B-JUDGE', 'I-JUDGE', 'B-RESPONDENT', 'I-RESPONDENT']\n"
     ]
    }
   ],
   "source": [
    "#classes.remove(\"o\")\n",
    "print(classes)"
   ]
  },
  {
   "cell_type": "code",
   "execution_count": 132,
   "id": "4a072dc9",
   "metadata": {},
   "outputs": [
    {
     "name": "stdout",
     "output_type": "stream",
     "text": [
      "                precision    recall  f1-score   support\n",
      "\n",
      "             o       0.92      0.98      0.95     88722\n",
      "         B-ORG       0.26      0.28      0.27       481\n",
      "         I-ORG       0.34      0.17      0.22       858\n",
      "B-OTHER_PERSON       0.40      0.18      0.25       883\n",
      "I-OTHER_PERSON       0.39      0.18      0.24       698\n",
      "     B-WITNESS       0.17      0.10      0.13       281\n",
      "     I-WITNESS       0.20      0.18      0.19       229\n",
      "         B-GPE       0.32      0.28      0.30       483\n",
      "     B-STATUTE       0.70      0.51      0.59       607\n",
      "        B-DATE       0.71      0.25      0.37       602\n",
      "        I-DATE       0.50      0.32      0.39       472\n",
      "   B-PROVISION       0.87      0.74      0.80       803\n",
      "   I-PROVISION       0.52      0.33      0.41      1330\n",
      "     I-STATUTE       0.62      0.40      0.48      1118\n",
      "       B-COURT       0.74      0.58      0.65       445\n",
      "       I-COURT       0.30      0.06      0.10       789\n",
      "   B-PRECEDENT       0.19      0.10      0.13       448\n",
      "   I-PRECEDENT       0.61      0.27      0.37      4008\n",
      " B-CASE_NUMBER       0.07      0.50      0.12       339\n",
      " I-CASE_NUMBER       0.33      0.12      0.17      1191\n",
      "         I-GPE       0.30      0.14      0.20        83\n",
      "  B-PETITIONER       0.06      0.09      0.07       143\n",
      "  I-PETITIONER       0.14      0.06      0.08       138\n",
      "       B-JUDGE       0.32      0.22      0.26       161\n",
      "       I-JUDGE       0.25      0.18      0.21       131\n",
      "  B-RESPONDENT       0.11      0.08      0.09       127\n",
      "  I-RESPONDENT       0.10      0.04      0.06       145\n",
      "\n",
      "      accuracy                           0.86    105715\n",
      "     macro avg       0.39      0.27      0.30    105715\n",
      "  weighted avg       0.85      0.86      0.85    105715\n",
      "\n"
     ]
    }
   ],
   "source": [
    "# Illusion\n",
    "print(classification_report(y_pred=per.predict(X_test), y_true=y_test, labels=classes))"
   ]
  },
  {
   "cell_type": "code",
   "execution_count": 140,
   "id": "4f351e39",
   "metadata": {},
   "outputs": [
    {
     "name": "stdout",
     "output_type": "stream",
     "text": [
      "                precision    recall  f1-score   support\n",
      "\n",
      "         B-ORG       0.26      0.28      0.27       481\n",
      "         I-ORG       0.34      0.17      0.22       858\n",
      "B-OTHER_PERSON       0.40      0.18      0.25       883\n",
      "I-OTHER_PERSON       0.39      0.18      0.24       698\n",
      "     B-WITNESS       0.17      0.10      0.13       281\n",
      "     I-WITNESS       0.20      0.18      0.19       229\n",
      "         B-GPE       0.32      0.28      0.30       483\n",
      "     B-STATUTE       0.70      0.51      0.59       607\n",
      "        B-DATE       0.71      0.25      0.37       602\n",
      "        I-DATE       0.50      0.32      0.39       472\n",
      "   B-PROVISION       0.87      0.74      0.80       803\n",
      "   I-PROVISION       0.52      0.33      0.41      1330\n",
      "     I-STATUTE       0.62      0.40      0.48      1118\n",
      "       B-COURT       0.74      0.58      0.65       445\n",
      "       I-COURT       0.30      0.06      0.10       789\n",
      "   B-PRECEDENT       0.19      0.10      0.13       448\n",
      "   I-PRECEDENT       0.61      0.27      0.37      4008\n",
      " B-CASE_NUMBER       0.07      0.50      0.12       339\n",
      " I-CASE_NUMBER       0.33      0.12      0.17      1191\n",
      "         I-GPE       0.30      0.14      0.20        83\n",
      "  B-PETITIONER       0.06      0.09      0.07       143\n",
      "  I-PETITIONER       0.14      0.06      0.08       138\n",
      "       B-JUDGE       0.32      0.22      0.26       161\n",
      "       I-JUDGE       0.25      0.18      0.21       131\n",
      "  B-RESPONDENT       0.11      0.08      0.09       127\n",
      "  I-RESPONDENT       0.10      0.04      0.06       145\n",
      "\n",
      "     micro avg       0.40      0.28      0.33     16993\n",
      "     macro avg       0.37      0.24      0.28     16993\n",
      "  weighted avg       0.48      0.28      0.34     16993\n",
      "\n"
     ]
    }
   ],
   "source": [
    "classes.remove(\"o\")\n",
    "print(classification_report(y_pred=per.predict(X_test), y_true=y_test, labels=classes))"
   ]
  },
  {
   "cell_type": "code",
   "execution_count": 3,
   "id": "3a69d398",
   "metadata": {},
   "outputs": [
    {
     "data": {
      "text/plain": [
       "0.1607435084898075"
      ]
     },
     "execution_count": 3,
     "metadata": {},
     "output_type": "execute_result"
    }
   ],
   "source": [
    "16993 / 105715"
   ]
  },
  {
   "cell_type": "code",
   "execution_count": null,
   "id": "888a6cbb-936d-4f49-84cd-7486640b3896",
   "metadata": {},
   "outputs": [],
   "source": []
  },
  {
   "cell_type": "code",
   "execution_count": null,
   "id": "c7e7ae9d-3568-442c-8d90-e503d40d2427",
   "metadata": {},
   "outputs": [],
   "source": []
  }
 ],
 "metadata": {
  "kernelspec": {
   "display_name": "Python 3 (ipykernel)",
   "language": "python",
   "name": "python3"
  },
  "language_info": {
   "codemirror_mode": {
    "name": "ipython",
    "version": 3
   },
   "file_extension": ".py",
   "mimetype": "text/x-python",
   "name": "python",
   "nbconvert_exporter": "python",
   "pygments_lexer": "ipython3",
   "version": "3.10.8"
  }
 },
 "nbformat": 4,
 "nbformat_minor": 5
}
