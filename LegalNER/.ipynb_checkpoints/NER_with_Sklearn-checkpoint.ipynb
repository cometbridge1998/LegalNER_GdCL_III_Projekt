{
 "cells": [
  {
   "cell_type": "code",
   "execution_count": 1,
   "id": "739d86d0",
   "metadata": {},
   "outputs": [],
   "source": [
    "import pandas as pd\n",
    "import numpy as np\n",
    "from sklearn.feature_extraction import DictVectorizer\n",
    "from sklearn.feature_extraction.text import HashingVectorizer\n",
    "from sklearn.linear_model import Perceptron\n",
    "from sklearn.model_selection import train_test_split\n",
    "from sklearn.linear_model import SGDClassifier\n",
    "from sklearn.linear_model import PassiveAggressiveClassifier\n",
    "from sklearn.naive_bayes import MultinomialNB\n",
    "from sklearn.metrics import classification_report"
   ]
  },
  {
   "cell_type": "code",
   "execution_count": null,
   "id": "740fd0a5",
   "metadata": {},
   "outputs": [],
   "source": []
  },
  {
   "cell_type": "code",
   "execution_count": 2,
   "id": "9c7f5d7d",
   "metadata": {},
   "outputs": [],
   "source": [
    "import pandas as pd\n",
    "import json"
   ]
  },
  {
   "cell_type": "code",
   "execution_count": 3,
   "id": "aa43345f",
   "metadata": {},
   "outputs": [],
   "source": [
    "with open(\"NER_TRAIN/NER_TRAIN_JUDGEMENT.json\") as json_file_train:\n",
    "    json_object_train = json.load(json_file_train)"
   ]
  },
  {
   "cell_type": "code",
   "execution_count": 4,
   "id": "740372a7",
   "metadata": {},
   "outputs": [],
   "source": [
    "with open(\"NER_DEV/NER_DEV/NER_DEV_JUDGEMENT.json\") as json_file_dev:\n",
    "    json_object_dev = json.load(json_file_dev)"
   ]
  },
  {
   "cell_type": "code",
   "execution_count": 5,
   "id": "90363098",
   "metadata": {},
   "outputs": [
    {
     "name": "stdout",
     "output_type": "stream",
     "text": [
      "{0: '[PAD]', 1: 'O', 2: 'B-COURT', 3: 'I-COURT', 4: 'B-PETITIONER', 5: 'I-PETITIONER', 6: 'B-RESPONDENT', 7: 'I-RESPONDENT', 8: 'B-JUDGE', 9: 'I-JUDGE', 10: 'B-LAWYER', 11: 'I-LAWYER', 12: 'B-DATE', 13: 'I-DATE', 14: 'B-ORG', 15: 'I-ORG', 16: 'B-GPE', 17: 'I-GPE', 18: 'B-STATUTE', 19: 'I-STATUTE', 20: 'B-PROVISION', 21: 'I-PROVISION', 22: 'B-PRECEDENT', 23: 'I-PRECEDENT', 24: 'B-CASE_NUMBER', 25: 'I-CASE_NUMBER', 26: 'B-WITNESS', 27: 'I-WITNESS', 28: 'B-OTHER_PERSON', 29: 'I-OTHER_PERSON'}\n"
     ]
    }
   ],
   "source": [
    "named_entities = [\"COURT\", \"PETITIONER\", \"RESPONDENT\", \"JUDGE\", \"LAWYER\", \"DATE\", \"ORG\", \"GPE\", \"STATUTE\", \"PROVISION\", \"PRECEDENT\", \"CASE_NUMBER\", \"WITNESS\", \"OTHER_PERSON\"]\n",
    "def make_tag_lookup_table():\n",
    "    iob_labels = [\"B\", \"I\"]\n",
    "    ner_labels = named_entities\n",
    "    all_labels = [(label1, label2) for label2 in ner_labels for label1 in iob_labels]\n",
    "    all_labels = [\"-\".join([a, b]) for a, b in all_labels]\n",
    "    all_labels = [\"[PAD]\", \"O\"] + all_labels\n",
    "    return dict(zip(range(0, len(all_labels) + 1), all_labels))\n",
    "\n",
    "\n",
    "mapping = make_tag_lookup_table()\n",
    "print(mapping)\n"
   ]
  },
  {
   "cell_type": "code",
   "execution_count": 6,
   "id": "e33ef4e0",
   "metadata": {},
   "outputs": [
    {
     "data": {
      "text/plain": [
       "{'COURT': 1,\n",
       " 'PETITIONER': 2,\n",
       " 'RESPONDENT': 3,\n",
       " 'JUDGE': 4,\n",
       " 'LAWYER': 5,\n",
       " 'DATE': 6,\n",
       " 'ORG': 7,\n",
       " 'GPE': 8,\n",
       " 'STATUTE': 9,\n",
       " 'PROVISION': 10,\n",
       " 'PRECEDENT': 11,\n",
       " 'CASE_NUMBER': 12,\n",
       " 'WITNESS': 13,\n",
       " 'OTHER_PERSON': 14}"
      ]
     },
     "execution_count": 6,
     "metadata": {},
     "output_type": "execute_result"
    }
   ],
   "source": [
    "named_entities = [\"COURT\", \"PETITIONER\", \"RESPONDENT\", \"JUDGE\", \"LAWYER\", \"DATE\", \"ORG\", \"GPE\", \"STATUTE\", \"PROVISION\", \"PRECEDENT\", \"CASE_NUMBER\", \"WITNESS\", \"OTHER_PERSON\"]\n",
    "named_entities_to_list = {\"\".join(key): idx for idx, key in enumerate(named_entities)}\n",
    "for key, value in named_entities_to_list.items():\n",
    "    named_entities_to_list[key] = named_entities_to_list[key] + 1\n",
    "named_entities_to_list  "
   ]
  },
  {
   "cell_type": "code",
   "execution_count": 7,
   "id": "a99b690c",
   "metadata": {},
   "outputs": [],
   "source": [
    "def get_start_and_end_and_labels(tree):\n",
    "    start_and_end_and_labels = []\n",
    "    for label in tree[\"annotations\"][0][\"result\"]:\n",
    "        labels = label[\"value\"][\"labels\"][0]\n",
    "        start = label[\"value\"][\"start\"]\n",
    "        end = label[\"value\"][\"end\"]\n",
    "        start_and_end_and_labels.append([labels, start, end])\n",
    "    return start_and_end_and_labels"
   ]
  },
  {
   "cell_type": "code",
   "execution_count": 8,
   "id": "cb9c96d9",
   "metadata": {},
   "outputs": [],
   "source": [
    "def slice_id_to_token_id(text, start, end):\n",
    "    token_number_start = 0\n",
    "    token_number_end = 1\n",
    "    for char in text[:start]:\n",
    "        if char == \" \":        \n",
    "            token_number_start += 1\n",
    "    for char in text[:end]:\n",
    "        if char == \" \":\n",
    "            token_number_end += 1\n",
    "    return token_number_start, token_number_end"
   ]
  },
  {
   "cell_type": "code",
   "execution_count": 9,
   "id": "5793ce6f",
   "metadata": {},
   "outputs": [],
   "source": [
    "import re\n",
    "def text_to_text_plus_label(text, labels):\n",
    "    text = re.sub(r\"\\n\", \" \", text)\n",
    "    token_numbers_of_labels = []\n",
    "    for label in labels:\n",
    "        start, end = slice_id_to_token_id(text, label[1], label[2])\n",
    "        token_numbers_of_labels.append([label[0], start, end])\n",
    "    tokens = text.split(\" \")\n",
    "    number_of_tokens = len(tokens)\n",
    "    \n",
    "    return_list = []\n",
    "    token_labels = [ i - i for i in range(number_of_tokens)]\n",
    "    for label in token_numbers_of_labels:\n",
    "        # check the label\n",
    "        # print(tokens[label[1]:label[2]])\n",
    "        \n",
    "        token_labels[label[1]] = named_entities_to_list[label[0]] * 2 - 1\n",
    "        for i in range(label[1] + 1, label[2]):\n",
    "            token_labels[i] = named_entities_to_list[label[0]]  * 2\n",
    "    \n",
    "    for i in range (len(token_labels)):\n",
    "        return_list.append([tokens[i], token_labels[i]])\n",
    "    return return_list"
   ]
  },
  {
   "cell_type": "code",
   "execution_count": 10,
   "id": "d5598143",
   "metadata": {},
   "outputs": [],
   "source": [
    "try_text = json_object_train[0][\"data\"][\"text\"]"
   ]
  },
  {
   "cell_type": "code",
   "execution_count": 11,
   "id": "d0a76165",
   "metadata": {},
   "outputs": [],
   "source": [
    "try_label = get_start_and_end_and_labels(json_object_train[0])"
   ]
  },
  {
   "cell_type": "code",
   "execution_count": 12,
   "id": "1557e61a",
   "metadata": {},
   "outputs": [
    {
     "name": "stdout",
     "output_type": "stream",
     "text": [
      "[['', 0], ['', 0], ['(7)', 0], ['On', 0], ['specific', 0], ['query', 0], ['by', 0], ['the', 0], ['Bench', 0], ['about', 0], ['an', 0], ['entry', 0], ['of', 0], ['Rs.', 0], ['1,31,37,500', 0], ['on', 0], ['deposit', 0], ['side', 0], ['of', 0], ['Hongkong', 13], ['Bank', 14], ['account', 0], ['of', 0], ['which', 0], ['a', 0], ['photo', 0], ['copy', 0], ['is', 0], ['appearing', 0], ['at', 0], ['p.', 0], ['40', 0], ['of', 0], [\"assessee's\", 0], ['paper', 0], ['book,', 0], ['learned', 0], ['authorised', 0], ['representative', 0], ['submitted', 0], ['that', 0], ['it', 0], ['was', 0], ['related', 0], ['to', 0], ['loan', 0], ['from', 0], ['broker,', 0], ['Rahul', 13], ['&', 14], ['Co.', 14], ['on', 0], ['the', 0], ['basis', 0], ['of', 0], ['his', 0], ['submission', 0], ['a', 0], ['necessary', 0], ['mark', 0], ['is', 0], ['put', 0], ['by', 0], ['us', 0], ['on', 0], ['that', 0], ['photo', 0], ['copy.', 0]]\n"
     ]
    }
   ],
   "source": [
    "try_convert = text_to_text_plus_label(try_text, try_label)\n",
    "print(try_convert)"
   ]
  },
  {
   "cell_type": "code",
   "execution_count": null,
   "id": "bb4b4e21",
   "metadata": {},
   "outputs": [],
   "source": []
  },
  {
   "cell_type": "code",
   "execution_count": null,
   "id": "6b6ba1de",
   "metadata": {},
   "outputs": [],
   "source": []
  },
  {
   "cell_type": "code",
   "execution_count": 13,
   "id": "fc4eeac0",
   "metadata": {},
   "outputs": [],
   "source": [
    "df = pd.DataFrame(try_convert)"
   ]
  },
  {
   "cell_type": "code",
   "execution_count": 14,
   "id": "577f10e5",
   "metadata": {},
   "outputs": [
    {
     "data": {
      "text/plain": [
       "1\n",
       "0     63\n",
       "13     2\n",
       "14     3\n",
       "dtype: int64"
      ]
     },
     "execution_count": 14,
     "metadata": {},
     "output_type": "execute_result"
    }
   ],
   "source": [
    "df.groupby(1).size()"
   ]
  },
  {
   "cell_type": "code",
   "execution_count": null,
   "id": "d0eede54",
   "metadata": {},
   "outputs": [],
   "source": []
  },
  {
   "cell_type": "code",
   "execution_count": 15,
   "id": "0e85da54",
   "metadata": {},
   "outputs": [],
   "source": [
    "token_and_labels_train = []\n",
    "for tree in json_object_train:\n",
    "    labels = get_start_and_end_and_labels(tree)\n",
    "    text = tree[\"data\"][\"text\"]\n",
    "    token_and_labels_train += text_to_text_plus_label(text, labels) "
   ]
  },
  {
   "cell_type": "code",
   "execution_count": 16,
   "id": "bd92d4b8",
   "metadata": {},
   "outputs": [],
   "source": [
    "token_and_labels_dev = []\n",
    "for tree in json_object_dev:\n",
    "    labels = get_start_and_end_and_labels(tree)\n",
    "    text = tree[\"data\"][\"text\"]\n",
    "    token_and_labels_dev += text_to_text_plus_label(text, labels) "
   ]
  },
  {
   "cell_type": "code",
   "execution_count": 17,
   "id": "103e5c8c",
   "metadata": {},
   "outputs": [
    {
     "data": {
      "text/html": [
       "<div>\n",
       "<style scoped>\n",
       "    .dataframe tbody tr th:only-of-type {\n",
       "        vertical-align: middle;\n",
       "    }\n",
       "\n",
       "    .dataframe tbody tr th {\n",
       "        vertical-align: top;\n",
       "    }\n",
       "\n",
       "    .dataframe thead th {\n",
       "        text-align: right;\n",
       "    }\n",
       "</style>\n",
       "<table border=\"1\" class=\"dataframe\">\n",
       "  <thead>\n",
       "    <tr style=\"text-align: right;\">\n",
       "      <th></th>\n",
       "      <th>0</th>\n",
       "      <th>1</th>\n",
       "    </tr>\n",
       "  </thead>\n",
       "  <tbody>\n",
       "    <tr>\n",
       "      <th>0</th>\n",
       "      <td></td>\n",
       "      <td>0</td>\n",
       "    </tr>\n",
       "    <tr>\n",
       "      <th>1</th>\n",
       "      <td></td>\n",
       "      <td>0</td>\n",
       "    </tr>\n",
       "    <tr>\n",
       "      <th>2</th>\n",
       "      <td>(7)</td>\n",
       "      <td>0</td>\n",
       "    </tr>\n",
       "    <tr>\n",
       "      <th>3</th>\n",
       "      <td>On</td>\n",
       "      <td>0</td>\n",
       "    </tr>\n",
       "    <tr>\n",
       "      <th>4</th>\n",
       "      <td>specific</td>\n",
       "      <td>0</td>\n",
       "    </tr>\n",
       "    <tr>\n",
       "      <th>...</th>\n",
       "      <td>...</td>\n",
       "      <td>...</td>\n",
       "    </tr>\n",
       "    <tr>\n",
       "      <th>320342</th>\n",
       "      <td>with</td>\n",
       "      <td>0</td>\n",
       "    </tr>\n",
       "    <tr>\n",
       "      <th>320343</th>\n",
       "      <td>accused</td>\n",
       "      <td>0</td>\n",
       "    </tr>\n",
       "    <tr>\n",
       "      <th>320344</th>\n",
       "      <td>No.1</td>\n",
       "      <td>0</td>\n",
       "    </tr>\n",
       "    <tr>\n",
       "      <th>320345</th>\n",
       "      <td>as</td>\n",
       "      <td>0</td>\n",
       "    </tr>\n",
       "    <tr>\n",
       "      <th>320346</th>\n",
       "      <td>aforementioned.</td>\n",
       "      <td>0</td>\n",
       "    </tr>\n",
       "  </tbody>\n",
       "</table>\n",
       "<p>320347 rows × 2 columns</p>\n",
       "</div>"
      ],
      "text/plain": [
       "                      0  1\n",
       "0                        0\n",
       "1                        0\n",
       "2                   (7)  0\n",
       "3                    On  0\n",
       "4              specific  0\n",
       "...                 ... ..\n",
       "320342             with  0\n",
       "320343          accused  0\n",
       "320344             No.1  0\n",
       "320345               as  0\n",
       "320346  aforementioned.  0\n",
       "\n",
       "[320347 rows x 2 columns]"
      ]
     },
     "execution_count": 17,
     "metadata": {},
     "output_type": "execute_result"
    }
   ],
   "source": [
    "df_train = pd.DataFrame(token_and_labels_train)\n",
    "df_dev = pd.DataFrame(token_and_labels_dev)\n",
    "df_train"
   ]
  },
  {
   "cell_type": "code",
   "execution_count": 18,
   "id": "e70ef5e7",
   "metadata": {},
   "outputs": [
    {
     "data": {
      "text/plain": [
       "1\n",
       "0     268939\n",
       "1       1293\n",
       "2       2534\n",
       "3        464\n",
       "4        386\n",
       "5        324\n",
       "6        456\n",
       "7        567\n",
       "8        391\n",
       "11      1883\n",
       "12      1383\n",
       "13      1441\n",
       "14      2648\n",
       "15      1395\n",
       "16       278\n",
       "17      1803\n",
       "18      3301\n",
       "19      2384\n",
       "20      3908\n",
       "21      1351\n",
       "22     12190\n",
       "23      1039\n",
       "24      3637\n",
       "25       881\n",
       "26       756\n",
       "27      2653\n",
       "28      2062\n",
       "dtype: int64"
      ]
     },
     "execution_count": 18,
     "metadata": {},
     "output_type": "execute_result"
    }
   ],
   "source": [
    "df_train.groupby(1).size()"
   ]
  },
  {
   "cell_type": "code",
   "execution_count": 19,
   "id": "982a5f88",
   "metadata": {},
   "outputs": [
    {
     "data": {
      "text/plain": [
       "((13400, 5835), (13400,))"
      ]
     },
     "execution_count": 19,
     "metadata": {},
     "output_type": "execute_result"
    }
   ],
   "source": [
    "X = df_train.drop(1, axis=1)[:20000]\n",
    "v = DictVectorizer(sparse=False)\n",
    "X = v.fit_transform(X.to_dict('records'))\n",
    "y = df_train[1][:20000]\n",
    "\n",
    "classes = np.unique(y)\n",
    "classes = classes.tolist()\n",
    "\n",
    "X_train, X_test, y_train, y_test = train_test_split(X, y, test_size = 0.33, random_state=0)\n",
    "X_train.shape, y_train.shape"
   ]
  },
  {
   "cell_type": "code",
   "execution_count": null,
   "id": "a4d52092",
   "metadata": {},
   "outputs": [],
   "source": []
  },
  {
   "cell_type": "code",
   "execution_count": 20,
   "id": "ebf7b933",
   "metadata": {},
   "outputs": [
    {
     "name": "stderr",
     "output_type": "stream",
     "text": [
      "[Parallel(n_jobs=-1)]: Using backend ThreadingBackend with 4 concurrent workers.\n"
     ]
    },
    {
     "name": "stdout",
     "output_type": "stream",
     "text": [
      "-- Epoch 1\n",
      "-- Epoch 1\n",
      "-- Epoch 1\n",
      "-- Epoch 1\n",
      "Norm: 8.43, NNZs: 60, Bias: -1.000000, T: 13400, Avg. loss: 0.007836\n",
      "Total training time: 0.12 seconds.\n",
      "-- Epoch 1\n",
      "Norm: 7.07, NNZs: 24, Bias: -2.000000, T: 13400, Avg. loss: 0.002015\n",
      "Total training time: 0.12 seconds.\n",
      "Norm: 6.86, NNZs: 47, Bias: -1.000000, T: 13400, Avg. loss: 0.001716\n",
      "Total training time: 0.12 seconds.\n",
      "-- Epoch 1\n",
      "-- Epoch 1\n",
      "Norm: 57.63, NNZs: 2479, Bias: 1.000000, T: 13400, Avg. loss: 0.126716\n",
      "Total training time: 0.16 seconds.\n",
      "-- Epoch 1\n",
      "Norm: 5.10, NNZs: 26, Bias: -2.000000, T: 13400, Avg. loss: 0.002313\n",
      "Total training time: 0.12 seconds.\n",
      "-- Epoch 1\n",
      "Norm: 6.78, NNZs: 40, Bias: -2.000000, T: 13400, Avg. loss: 0.002612\n",
      "Total training time: 0.14 seconds.\n",
      "-- Epoch 1\n",
      "Norm: 4.58, NNZs: 21, Bias: -1.000000, T: 13400, Avg. loss: 0.001194\n",
      "Total training time: 0.17 seconds.\n",
      "-- Epoch 1\n",
      "Norm: 6.08, NNZs: 34, Bias: -1.000000, T: 13400, Avg. loss: 0.001493\n",
      "Total training time: 0.18 seconds.\n",
      "-- Epoch 1\n",
      "Norm: 4.58, NNZs: 21, Bias: -1.000000, T: 13400, Avg. loss: 0.000896\n",
      "Total training time: 0.13 seconds.\n",
      "-- Epoch 1\n",
      "Norm: 14.32, NNZs: 190, Bias: -1.000000, T: 13400, Avg. loss: 0.007612\n",
      "Total training time: 0.14 seconds.\n",
      "-- Epoch 1\n"
     ]
    },
    {
     "name": "stderr",
     "output_type": "stream",
     "text": [
      "[Parallel(n_jobs=-1)]: Done   5 tasks      | elapsed:    0.2s\n",
      "[Parallel(n_jobs=-1)]: Done  10 tasks      | elapsed:    0.4s\n"
     ]
    },
    {
     "name": "stdout",
     "output_type": "stream",
     "text": [
      "Norm: 10.44, NNZs: 80, Bias: -1.000000, T: 13400, Avg. loss: 0.004030\n",
      "Total training time: 0.19 seconds.\n",
      "-- Epoch 1\n",
      "Norm: 14.59, NNZs: 192, Bias: -1.000000, T: 13400, Avg. loss: 0.012836\n",
      "Total training time: 0.13 seconds.\n",
      "-- Epoch 1\n",
      "Norm: 11.22, NNZs: 117, Bias: -2.000000, T: 13400, Avg. loss: 0.006642\n",
      "Total training time: 0.17 seconds.\n",
      "-- Epoch 1\n",
      "Norm: 11.18, NNZs: 108, Bias: -1.000000, T: 13400, Avg. loss: 0.005075\n",
      "Total training time: 0.13 seconds.\n",
      "-- Epoch 1\n",
      "Norm: 5.00, NNZs: 25, Bias: -1.000000, T: 13400, Avg. loss: 0.001791\n",
      "Total training time: 0.13 seconds.\n",
      "-- Epoch 1\n",
      "Norm: 10.63, NNZs: 89, Bias: -1.000000, T: 13400, Avg. loss: 0.004925\n",
      "Total training time: 0.12 seconds.\n",
      "-- Epoch 1\n",
      "Norm: 10.05, NNZs: 63, Bias: -1.000000, T: 13400, Avg. loss: 0.002985\n",
      "Total training time: 0.12 seconds.\n",
      "-- Epoch 1\n",
      "Norm: 13.71, NNZs: 134, Bias: -2.000000, T: 13400, Avg. loss: 0.010299\n",
      "Total training time: 0.13 seconds.\n",
      "-- Epoch 1\n"
     ]
    },
    {
     "name": "stderr",
     "output_type": "stream",
     "text": [
      "[Parallel(n_jobs=-1)]: Done  17 tasks      | elapsed:    0.7s\n"
     ]
    },
    {
     "name": "stdout",
     "output_type": "stream",
     "text": [
      "Norm: 8.89, NNZs: 79, Bias: -1.000000, T: 13400, Avg. loss: 0.004104\n",
      "Total training time: 0.12 seconds.\n",
      "-- Epoch 1\n",
      "Norm: 15.46, NNZs: 207, Bias: -1.000000, T: 13400, Avg. loss: 0.012164\n",
      "Total training time: 0.14 seconds.\n",
      "-- Epoch 1\n",
      "Norm: 24.62, NNZs: 504, Bias: -2.000000, T: 13400, Avg. loss: 0.036493\n",
      "Total training time: 0.15 seconds.\n",
      "-- Epoch 1\n",
      "Norm: 7.81, NNZs: 55, Bias: -1.000000, T: 13400, Avg. loss: 0.003134\n",
      "Total training time: 0.17 seconds.\n",
      "-- Epoch 1\n",
      "Norm: 13.56, NNZs: 167, Bias: -2.000000, T: 13400, Avg. loss: 0.013582\n",
      "Total training time: 0.15 seconds.\n",
      "-- Epoch 1\n",
      "Norm: 9.00, NNZs: 81, Bias: -1.000000, T: 13400, Avg. loss: 0.003284\n",
      "Total training time: 0.18 seconds.\n",
      "Norm: 8.43, NNZs: 65, Bias: -1.000000, T: 13400, Avg. loss: 0.003955\n",
      "Total training time: 0.14 seconds.\n",
      "Norm: 15.65, NNZs: 221, Bias: -1.000000, T: 13400, Avg. loss: 0.008657\n",
      "Total training time: 0.14 seconds.\n",
      "Norm: 12.85, NNZs: 141, Bias: -1.000000, T: 13400, Avg. loss: 0.007164\n",
      "Total training time: 0.12 seconds.\n"
     ]
    },
    {
     "name": "stderr",
     "output_type": "stream",
     "text": [
      "[Parallel(n_jobs=-1)]: Done  23 out of  27 | elapsed:    0.9s remaining:    0.2s\n",
      "[Parallel(n_jobs=-1)]: Done  27 out of  27 | elapsed:    1.0s finished\n"
     ]
    },
    {
     "data": {
      "text/html": [
       "<style>#sk-container-id-1 {color: black;background-color: white;}#sk-container-id-1 pre{padding: 0;}#sk-container-id-1 div.sk-toggleable {background-color: white;}#sk-container-id-1 label.sk-toggleable__label {cursor: pointer;display: block;width: 100%;margin-bottom: 0;padding: 0.3em;box-sizing: border-box;text-align: center;}#sk-container-id-1 label.sk-toggleable__label-arrow:before {content: \"▸\";float: left;margin-right: 0.25em;color: #696969;}#sk-container-id-1 label.sk-toggleable__label-arrow:hover:before {color: black;}#sk-container-id-1 div.sk-estimator:hover label.sk-toggleable__label-arrow:before {color: black;}#sk-container-id-1 div.sk-toggleable__content {max-height: 0;max-width: 0;overflow: hidden;text-align: left;background-color: #f0f8ff;}#sk-container-id-1 div.sk-toggleable__content pre {margin: 0.2em;color: black;border-radius: 0.25em;background-color: #f0f8ff;}#sk-container-id-1 input.sk-toggleable__control:checked~div.sk-toggleable__content {max-height: 200px;max-width: 100%;overflow: auto;}#sk-container-id-1 input.sk-toggleable__control:checked~label.sk-toggleable__label-arrow:before {content: \"▾\";}#sk-container-id-1 div.sk-estimator input.sk-toggleable__control:checked~label.sk-toggleable__label {background-color: #d4ebff;}#sk-container-id-1 div.sk-label input.sk-toggleable__control:checked~label.sk-toggleable__label {background-color: #d4ebff;}#sk-container-id-1 input.sk-hidden--visually {border: 0;clip: rect(1px 1px 1px 1px);clip: rect(1px, 1px, 1px, 1px);height: 1px;margin: -1px;overflow: hidden;padding: 0;position: absolute;width: 1px;}#sk-container-id-1 div.sk-estimator {font-family: monospace;background-color: #f0f8ff;border: 1px dotted black;border-radius: 0.25em;box-sizing: border-box;margin-bottom: 0.5em;}#sk-container-id-1 div.sk-estimator:hover {background-color: #d4ebff;}#sk-container-id-1 div.sk-parallel-item::after {content: \"\";width: 100%;border-bottom: 1px solid gray;flex-grow: 1;}#sk-container-id-1 div.sk-label:hover label.sk-toggleable__label {background-color: #d4ebff;}#sk-container-id-1 div.sk-serial::before {content: \"\";position: absolute;border-left: 1px solid gray;box-sizing: border-box;top: 0;bottom: 0;left: 50%;z-index: 0;}#sk-container-id-1 div.sk-serial {display: flex;flex-direction: column;align-items: center;background-color: white;padding-right: 0.2em;padding-left: 0.2em;position: relative;}#sk-container-id-1 div.sk-item {position: relative;z-index: 1;}#sk-container-id-1 div.sk-parallel {display: flex;align-items: stretch;justify-content: center;background-color: white;position: relative;}#sk-container-id-1 div.sk-item::before, #sk-container-id-1 div.sk-parallel-item::before {content: \"\";position: absolute;border-left: 1px solid gray;box-sizing: border-box;top: 0;bottom: 0;left: 50%;z-index: -1;}#sk-container-id-1 div.sk-parallel-item {display: flex;flex-direction: column;z-index: 1;position: relative;background-color: white;}#sk-container-id-1 div.sk-parallel-item:first-child::after {align-self: flex-end;width: 50%;}#sk-container-id-1 div.sk-parallel-item:last-child::after {align-self: flex-start;width: 50%;}#sk-container-id-1 div.sk-parallel-item:only-child::after {width: 0;}#sk-container-id-1 div.sk-dashed-wrapped {border: 1px dashed gray;margin: 0 0.4em 0.5em 0.4em;box-sizing: border-box;padding-bottom: 0.4em;background-color: white;}#sk-container-id-1 div.sk-label label {font-family: monospace;font-weight: bold;display: inline-block;line-height: 1.2em;}#sk-container-id-1 div.sk-label-container {text-align: center;}#sk-container-id-1 div.sk-container {/* jupyter's `normalize.less` sets `[hidden] { display: none; }` but bootstrap.min.css set `[hidden] { display: none !important; }` so we also need the `!important` here to be able to override the default hidden behavior on the sphinx rendered scikit-learn.org. See: https://github.com/scikit-learn/scikit-learn/issues/21755 */display: inline-block !important;position: relative;}#sk-container-id-1 div.sk-text-repr-fallback {display: none;}</style><div id=\"sk-container-id-1\" class=\"sk-top-container\"><div class=\"sk-text-repr-fallback\"><pre>Perceptron(max_iter=5, n_jobs=-1, verbose=10)</pre><b>In a Jupyter environment, please rerun this cell to show the HTML representation or trust the notebook. <br />On GitHub, the HTML representation is unable to render, please try loading this page with nbviewer.org.</b></div><div class=\"sk-container\" hidden><div class=\"sk-item\"><div class=\"sk-estimator sk-toggleable\"><input class=\"sk-toggleable__control sk-hidden--visually\" id=\"sk-estimator-id-1\" type=\"checkbox\" checked><label for=\"sk-estimator-id-1\" class=\"sk-toggleable__label sk-toggleable__label-arrow\">Perceptron</label><div class=\"sk-toggleable__content\"><pre>Perceptron(max_iter=5, n_jobs=-1, verbose=10)</pre></div></div></div></div></div>"
      ],
      "text/plain": [
       "Perceptron(max_iter=5, n_jobs=-1, verbose=10)"
      ]
     },
     "execution_count": 20,
     "metadata": {},
     "output_type": "execute_result"
    }
   ],
   "source": [
    "per = Perceptron(verbose=10, n_jobs=-1, max_iter=5)\n",
    "per.partial_fit(X_train, y_train, classes)"
   ]
  },
  {
   "cell_type": "code",
   "execution_count": null,
   "id": "a82941ad",
   "metadata": {},
   "outputs": [],
   "source": []
  },
  {
   "cell_type": "code",
   "execution_count": 21,
   "id": "21384d76",
   "metadata": {},
   "outputs": [
    {
     "data": {
      "text/plain": [
       "29"
      ]
     },
     "execution_count": 21,
     "metadata": {},
     "output_type": "execute_result"
    }
   ],
   "source": [
    "new_classes = []\n",
    "for text in mapping.values():\n",
    "    new_classes.append(text)\n",
    "new_classes = new_classes[1:]\n",
    "len(new_classes)"
   ]
  },
  {
   "cell_type": "code",
   "execution_count": 22,
   "id": "4f351e39",
   "metadata": {},
   "outputs": [
    {
     "name": "stdout",
     "output_type": "stream",
     "text": [
      "              precision    recall  f1-score   support\n",
      "\n",
      "           0       0.86      1.00      0.92      5501\n",
      "           1       0.83      0.58      0.68        26\n",
      "           2       0.00      0.00      0.00        44\n",
      "           3       0.00      0.00      0.00        11\n",
      "           4       0.00      0.00      0.00        13\n",
      "           5       0.00      0.00      0.00        10\n",
      "           6       0.00      0.00      0.00        15\n",
      "           7       0.00      0.00      0.00         5\n",
      "           8       0.00      0.00      0.00         6\n",
      "          11       0.50      0.05      0.09        41\n",
      "          12       0.17      0.03      0.05        33\n",
      "          13       0.50      0.03      0.05        35\n",
      "          14       0.45      0.11      0.18        87\n",
      "          15       0.53      0.23      0.32        35\n",
      "          16       0.00      0.00      0.00         8\n",
      "          17       0.75      0.20      0.31        46\n",
      "          18       0.75      0.30      0.43        69\n",
      "          19       0.82      0.73      0.77        44\n",
      "          20       0.67      0.05      0.09        80\n",
      "          21       0.00      0.00      0.00        27\n",
      "          22       0.88      0.12      0.22       234\n",
      "          23       0.67      0.11      0.18        19\n",
      "          24       0.00      0.00      0.00        49\n",
      "          25       0.00      0.00      0.00        27\n",
      "          26       0.25      0.27      0.26        15\n",
      "          27       0.00      0.00      0.00        62\n",
      "          28       0.20      0.03      0.06        58\n",
      "\n",
      "    accuracy                           0.85      6600\n",
      "   macro avg       0.33      0.14      0.17      6600\n",
      "weighted avg       0.80      0.85      0.80      6600\n",
      "\n"
     ]
    },
    {
     "name": "stderr",
     "output_type": "stream",
     "text": [
      "/home/luxinyao/.local/lib/python3.10/site-packages/sklearn/metrics/_classification.py:1334: UndefinedMetricWarning: Precision and F-score are ill-defined and being set to 0.0 in labels with no predicted samples. Use `zero_division` parameter to control this behavior.\n",
      "  _warn_prf(average, modifier, msg_start, len(result))\n",
      "/home/luxinyao/.local/lib/python3.10/site-packages/sklearn/metrics/_classification.py:1334: UndefinedMetricWarning: Precision and F-score are ill-defined and being set to 0.0 in labels with no predicted samples. Use `zero_division` parameter to control this behavior.\n",
      "  _warn_prf(average, modifier, msg_start, len(result))\n",
      "/home/luxinyao/.local/lib/python3.10/site-packages/sklearn/metrics/_classification.py:1334: UndefinedMetricWarning: Precision and F-score are ill-defined and being set to 0.0 in labels with no predicted samples. Use `zero_division` parameter to control this behavior.\n",
      "  _warn_prf(average, modifier, msg_start, len(result))\n"
     ]
    }
   ],
   "source": [
    "print(classification_report(y_pred=per.predict(X_test), y_true=y_test))"
   ]
  },
  {
   "cell_type": "code",
   "execution_count": null,
   "id": "3a69d398",
   "metadata": {},
   "outputs": [],
   "source": []
  }
 ],
 "metadata": {
  "kernelspec": {
   "display_name": "Python 3 (ipykernel)",
   "language": "python",
   "name": "python3"
  },
  "language_info": {
   "codemirror_mode": {
    "name": "ipython",
    "version": 3
   },
   "file_extension": ".py",
   "mimetype": "text/x-python",
   "name": "python",
   "nbconvert_exporter": "python",
   "pygments_lexer": "ipython3",
   "version": "3.10.8"
  }
 },
 "nbformat": 4,
 "nbformat_minor": 5
}
