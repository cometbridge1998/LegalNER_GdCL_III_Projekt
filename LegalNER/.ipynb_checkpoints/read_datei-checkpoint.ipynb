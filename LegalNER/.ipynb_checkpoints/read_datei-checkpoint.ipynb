{
 "cells": [
  {
   "cell_type": "code",
   "execution_count": 236,
   "id": "b7761d4f-4396-4386-9e2d-09254fcebb47",
   "metadata": {},
   "outputs": [],
   "source": [
    "import pandas as pd\n",
    "import json"
   ]
  },
  {
   "cell_type": "code",
   "execution_count": 330,
   "id": "fb51da5d-34e5-48ea-b3c4-4a152ea30202",
   "metadata": {},
   "outputs": [],
   "source": [
    "with open(\"NER_TRAIN/NER_TRAIN_JUDGEMENT.json\") as json_file_train:\n",
    "    json_object_train = json.load(json_file_train)"
   ]
  },
  {
   "cell_type": "code",
   "execution_count": 332,
   "id": "7ff63726-3ef1-4d8e-9c17-3f3d8b2de509",
   "metadata": {},
   "outputs": [],
   "source": [
    "with open(\"NER_DEV/NER_DEV/NER_DEV_JUDGEMENT.json\") as json_file_dev:\n",
    "    json_object_dev = json.load(json_file_dev)"
   ]
  },
  {
   "cell_type": "code",
   "execution_count": 336,
   "id": "e6b32311-4434-4307-aca9-e8068f54acba",
   "metadata": {},
   "outputs": [],
   "source": [
    "json_formatted_str = json.dumps(json_object_train[1], indent=2)"
   ]
  },
  {
   "cell_type": "code",
   "execution_count": 337,
   "id": "4acc7f70-280a-4421-9ee5-2a03fcafc90d",
   "metadata": {},
   "outputs": [
    {
     "name": "stdout",
     "output_type": "stream",
     "text": [
      "{\n",
      "  \"id\": \"a325c57ba5b84c6fa46bee65e6616633\",\n",
      "  \"annotations\": [\n",
      "    {\n",
      "      \"result\": [\n",
      "        {\n",
      "          \"value\": {\n",
      "            \"start\": 26,\n",
      "            \"end\": 30,\n",
      "            \"text\": \"Agya\",\n",
      "            \"labels\": [\n",
      "              \"OTHER_PERSON\"\n",
      "            ]\n",
      "          },\n",
      "          \"id\": \"0V4Q2F2B\",\n",
      "          \"from_name\": \"label\",\n",
      "          \"to_name\": \"text\",\n",
      "          \"type\": \"labels\"\n",
      "        },\n",
      "        {\n",
      "          \"value\": {\n",
      "            \"start\": 101,\n",
      "            \"end\": 105,\n",
      "            \"text\": \"Kaur\",\n",
      "            \"labels\": [\n",
      "              \"OTHER_PERSON\"\n",
      "            ]\n",
      "          },\n",
      "          \"id\": \"HLWY1CM9\",\n",
      "          \"from_name\": \"label\",\n",
      "          \"to_name\": \"text\",\n",
      "          \"type\": \"labels\"\n",
      "        },\n",
      "        {\n",
      "          \"value\": {\n",
      "            \"start\": 159,\n",
      "            \"end\": 174,\n",
      "            \"text\": \"Tarlochan Singh\",\n",
      "            \"labels\": [\n",
      "              \"OTHER_PERSON\"\n",
      "            ]\n",
      "          },\n",
      "          \"id\": \"9BYYLAZB\",\n",
      "          \"from_name\": \"label\",\n",
      "          \"to_name\": \"text\",\n",
      "          \"type\": \"labels\"\n",
      "        }\n",
      "      ]\n",
      "    }\n",
      "  ],\n",
      "  \"data\": {\n",
      "    \"text\": \"He was also asked whether Agya <span class=\\\"hidden_text\\\" id=\\\"span_5\\\"> CRA No.326-DB of 1998 6</span> Kaur, mother-in-law of the deceased lived separately from Tarlochan Singh.\"\n",
      "  },\n",
      "  \"meta\": {\n",
      "    \"source\": \"criminal_punjab-haryana_high_court judgement https://indiankanoon.org/doc/264463\"\n",
      "  }\n",
      "}\n"
     ]
    }
   ],
   "source": [
    "print(json_formatted_str)"
   ]
  },
  {
   "cell_type": "code",
   "execution_count": null,
   "id": "375482c9-2003-4733-8c58-a57969b0bde5",
   "metadata": {},
   "outputs": [],
   "source": []
  },
  {
   "cell_type": "code",
   "execution_count": 333,
   "id": "ffb5a287-c3e7-4b87-85a3-58db3163851a",
   "metadata": {},
   "outputs": [
    {
     "data": {
      "text/plain": [
       "{'COURT': 1,\n",
       " 'PETITIONER': 2,\n",
       " 'RESPONDENT': 3,\n",
       " 'JUDGE': 4,\n",
       " 'LAWYER': 5,\n",
       " 'DATE': 6,\n",
       " 'ORG': 7,\n",
       " 'GPE': 8,\n",
       " 'STATUTE': 9,\n",
       " 'PROVISION': 10,\n",
       " 'PRECEDENT': 11,\n",
       " 'CASE_NUMBER': 12,\n",
       " 'WITNESS': 13,\n",
       " 'OTHER_PERSON': 14}"
      ]
     },
     "execution_count": 333,
     "metadata": {},
     "output_type": "execute_result"
    }
   ],
   "source": [
    "named_entities = [\"COURT\", \"PETITIONER\", \"RESPONDENT\", \"JUDGE\", \"LAWYER\", \"DATE\", \"ORG\", \"GPE\", \"STATUTE\", \"PROVISION\", \"PRECEDENT\", \"CASE_NUMBER\", \"WITNESS\", \"OTHER_PERSON\"]\n",
    "named_entities_to_list = {\"\".join(key): idx for idx, key in enumerate(named_entities)}\n",
    "for key, value in named_entities_to_list.items():\n",
    "    named_entities_to_list[key] = named_entities_to_list[key] + 1\n",
    "named_entities_to_list  "
   ]
  },
  {
   "cell_type": "code",
   "execution_count": null,
   "id": "8610b588-15ec-46e0-9638-3bac9b88fdff",
   "metadata": {},
   "outputs": [],
   "source": []
  },
  {
   "cell_type": "code",
   "execution_count": null,
   "id": "9f09d8d9-c6c1-4258-86fd-85362d86ecf8",
   "metadata": {},
   "outputs": [],
   "source": [
    "def get_start_and_end_and_labels(tree):\n",
    "    start_and_end_and_labels = []\n",
    "    for label in tree[\"annotations\"][0][\"result\"]:\n",
    "        labels = label[\"value\"][\"labels\"][0]\n",
    "        start = label[\"value\"][\"start\"]\n",
    "        end = label[\"value\"][\"end\"]\n",
    "        start_and_end_and_labels.append([labels, start, end])\n",
    "    return start_and_end_and_labels"
   ]
  },
  {
   "cell_type": "code",
   "execution_count": 334,
   "id": "33216205-2242-4cda-a9e1-516df4652f2a",
   "metadata": {},
   "outputs": [],
   "source": [
    "def slice_id_to_token_id(text, start, end):\n",
    "    token_number_start = 0\n",
    "    token_number_end = 1\n",
    "    for char in text[:start]:\n",
    "        if char == \" \":        \n",
    "            token_number_start += 1\n",
    "    for char in text[:end]:\n",
    "        if char == \" \":\n",
    "            token_number_end += 1\n",
    "    return token_number_start, token_number_end"
   ]
  },
  {
   "cell_type": "code",
   "execution_count": 335,
   "id": "717d6ca7-cc60-452b-8dab-4578a963b8c1",
   "metadata": {},
   "outputs": [],
   "source": [
    "import re\n",
    "def text_to_text_plus_label(text, labels):\n",
    "    text = re.sub(r\"\\n\", \" \", text)\n",
    "    token_numbers_of_labels = []\n",
    "    for label in labels:\n",
    "        start, end = slice_id_to_token_id(text, label[1], label[2])\n",
    "        token_numbers_of_labels.append([label[0], start, end])\n",
    "    tokens = text.split(\" \")\n",
    "    number_of_tokens = len(tokens)\n",
    "    \n",
    "    token_labels = [ i - i for i in range(number_of_tokens)]\n",
    "    for label in token_numbers_of_labels:\n",
    "        # check the label\n",
    "        # print(tokens[label[1]:label[2]])\n",
    "        \n",
    "        for i in range(label[1], label[2]):\n",
    "            token_labels[i] = named_entities_to_list[label[0]]\n",
    "    \n",
    "    return_text = \"\\t\".join(tokens)\n",
    "    return_text += \"\\t\"\n",
    "    return_text += \"\\t\".join([str(x) for x in token_labels])\n",
    "    return_text = str(number_of_tokens) + \"\\t\" + return_text\n",
    "    return return_text"
   ]
  },
  {
   "cell_type": "code",
   "execution_count": null,
   "id": "387c4cbe-5941-4860-ae52-663beabc485d",
   "metadata": {},
   "outputs": [],
   "source": []
  },
  {
   "cell_type": "code",
   "execution_count": null,
   "id": "6b91df10-12c4-4a0e-8407-7f177a1186aa",
   "metadata": {},
   "outputs": [],
   "source": [
    "with open(\"LegalNER_train.txt\", \"w\") as train:\n",
    "    conll_format = \"\"\n",
    "    for tree in json_object:\n",
    "        labels = get_start_and_end_and_labels(tree)\n",
    "        text = tree[\"data\"][\"text\"]\n",
    "        conll_format += text_to_text_plus_label(text, labels) \n",
    "        conll_format += \"\\n\"\n",
    "    train.write(conll_format)\n",
    "    train.close()"
   ]
  },
  {
   "cell_type": "code",
   "execution_count": null,
   "id": "efebad67-de65-4029-86da-00ff3eadc215",
   "metadata": {},
   "outputs": [],
   "source": [
    "with open(\"LegalNER_test.txt\", \"w\") as test:\n",
    "    conll_format = \"\"\n",
    "    for tree in json_object:\n",
    "        labels = get_start_and_end_and_labels(tree)\n",
    "        text = tree[\"data\"][\"text\"]\n",
    "        conll_format += text_to_text_plus_label(text, labels) \n",
    "        conll_format += \"\\n\"\n",
    "    train.write(conll_format)\n",
    "    train.close()"
   ]
  },
  {
   "cell_type": "code",
   "execution_count": null,
   "id": "b51a22d3-c5f2-42f9-9d30-511434b65d4a",
   "metadata": {},
   "outputs": [],
   "source": []
  },
  {
   "cell_type": "code",
   "execution_count": 297,
   "id": "277a9e64-7128-43c3-a1a5-190d2bfd6d61",
   "metadata": {},
   "outputs": [],
   "source": [
    "mini_labels = [[\"ORG\", 90,103], [\"ORG\",267,278] ]"
   ]
  },
  {
   "cell_type": "code",
   "execution_count": 298,
   "id": "fc8f962d-bafb-474e-b201-eae651b382a7",
   "metadata": {},
   "outputs": [
    {
     "data": {
      "text/plain": [
       "\"\\n\\n(7) On specific query by the Bench about an entry of Rs. 1,31,37,500 on deposit side of Hongkong Bank account of which a photo copy is appearing at p. 40 of assessee's paper book, learned authorised representative submitted that it was related to loan from broker, Rahul & Co. on the basis of his submission a necessary mark is put by us on that photo copy.\""
      ]
     },
     "execution_count": 298,
     "metadata": {},
     "output_type": "execute_result"
    }
   ],
   "source": [
    "mini_text"
   ]
  },
  {
   "cell_type": "code",
   "execution_count": 295,
   "id": "47b89e8f-6e90-45c9-b956-75ee321698c5",
   "metadata": {},
   "outputs": [],
   "source": []
  },
  {
   "cell_type": "code",
   "execution_count": 312,
   "id": "db9bf0c4-87c7-4b73-99cb-e80205836434",
   "metadata": {},
   "outputs": [
    {
     "name": "stdout",
     "output_type": "stream",
     "text": [
      "66\n",
      "\n",
      "(7)\tOn\tspecific\tquery\tby\tthe\tBench\tabout\tan\tentry\tof\tRs.\t1,31,37,500\ton\tdeposit\tside\tof\tHongkong\tBank\taccount\tof\twhich\ta\tphoto\tcopy\tis\tappearing\tat\tp.\t40\tof\tassessee's\tpaper\tbook,\tlearned\tauthorised\trepresentative\tsubmitted\tthat\tit\twas\trelated\tto\tloan\tfrom\tbroker,\tRahul\t&\tCo.\ton\tthe\tbasis\tof\this\tsubmission\ta\tnecessary\tmark\tis\tput\tby\tus\ton\tthat\tphoto\tcopy.\t0\t0\t0\t0\t0\t0\t0\t0\t0\t0\t0\t0\t0\t0\t0\t0\t0\t7\t7\t0\t0\t0\t0\t0\t0\t0\t0\t0\t0\t0\t0\t0\t0\t0\t0\t0\t0\t0\t0\t0\t0\t0\t0\t0\t0\t0\t7\t7\t7\t0\t0\t0\t0\t0\t0\t0\t0\t0\t0\t0\t0\t0\t0\t0\t0\t0\n"
     ]
    }
   ],
   "source": [
    "print(text_to_text_plus_label(text0, line0))"
   ]
  },
  {
   "cell_type": "code",
   "execution_count": 48,
   "id": "a336cbec-e69b-4177-bc85-bcbd6402c083",
   "metadata": {},
   "outputs": [
    {
     "name": "stdout",
     "output_type": "stream",
     "text": [
      "\n",
      "\n",
      "(7)\tOn\tspecific\tquery\tby\tthe\tBench\tabout\tan\tentry\tof\tRs.\t1,31,37,500\ton\tdeposit\tside\tof\tHongkong\tBank\taccount\tof\twhich\ta\tphoto\tcopy\tis\tappearing\tat\tp.\t40\tof\tassessee's\tpaper\tbook,\tlearned\tauthorised\trepresentative\tsubmitted\tthat\tit\twas\trelated\tto\tloan\tfrom\tbroker,\tRahul\t&\tCo.\ton\tthe\tbasis\tof\this\tsubmission\ta\tnecessary\tmark\tis\tput\tby\tus\ton\tthat\tphoto\tcopy.\n"
     ]
    }
   ],
   "source": [
    "for value in df.data[0].values():\n",
    "    mini_text = value\n",
    "    print(\"\\t\".join(value.split(\" \")))"
   ]
  },
  {
   "cell_type": "code",
   "execution_count": 238,
   "id": "d646e5f9-468a-4e02-a200-539e3ae2f919",
   "metadata": {},
   "outputs": [
    {
     "name": "stdout",
     "output_type": "stream",
     "text": [
      "ORG\n",
      "ORG\n"
     ]
    }
   ],
   "source": [
    "for label in json_object[0][\"annotations\"][0][\"result\"]:\n",
    "    print(label[\"value\"][\"labels\"][0])"
   ]
  },
  {
   "cell_type": "code",
   "execution_count": 256,
   "id": "b9fd25bb-a3c1-4b0f-a468-fc3231f52b84",
   "metadata": {},
   "outputs": [],
   "source": []
  },
  {
   "cell_type": "code",
   "execution_count": 257,
   "id": "0e036c99-7799-49ec-bcd9-4bab2494f52b",
   "metadata": {},
   "outputs": [
    {
     "data": {
      "text/plain": [
       "[['ORG', 90, 103], ['ORG', 267, 278]]"
      ]
     },
     "execution_count": 257,
     "metadata": {},
     "output_type": "execute_result"
    }
   ],
   "source": [
    "line0 = get_start_and_end_and_labels(json_object[0])\n",
    "line0"
   ]
  },
  {
   "cell_type": "code",
   "execution_count": 258,
   "id": "d4a2cd21-3963-44b0-afe2-5096c220140b",
   "metadata": {},
   "outputs": [
    {
     "data": {
      "text/plain": [
       "\"\\n\\n(7) On specific query by the Bench about an entry of Rs. 1,31,37,500 on deposit side of Hongkong Bank account of which a photo copy is appearing at p. 40 of assessee's paper book, learned authorised representative submitted that it was related to loan from broker, Rahul & Co. on the basis of his submission a necessary mark is put by us on that photo copy.\""
      ]
     },
     "execution_count": 258,
     "metadata": {},
     "output_type": "execute_result"
    }
   ],
   "source": [
    "text0 = json_object[0][\"data\"][\"text\"]\n",
    "text0"
   ]
  },
  {
   "cell_type": "code",
   "execution_count": 329,
   "id": "3466a085-bfbf-4221-9012-6b22c7fac245",
   "metadata": {},
   "outputs": [],
   "source": []
  },
  {
   "cell_type": "code",
   "execution_count": null,
   "id": "509e37a3-dcf9-46e4-be02-d638476542bb",
   "metadata": {},
   "outputs": [],
   "source": []
  },
  {
   "cell_type": "code",
   "execution_count": 317,
   "id": "d6906b33-04b3-4d0d-82a6-1c2fff332888",
   "metadata": {},
   "outputs": [
    {
     "name": "stderr",
     "output_type": "stream",
     "text": [
      "IOPub data rate exceeded.\n",
      "The Jupyter server will temporarily stop sending output\n",
      "to the client in order to avoid crashing it.\n",
      "To change this limit, set the config variable\n",
      "`--ServerApp.iopub_data_rate_limit`.\n",
      "\n",
      "Current values:\n",
      "ServerApp.iopub_data_rate_limit=1000000.0 (bytes/sec)\n",
      "ServerApp.rate_limit_window=3.0 (secs)\n",
      "\n"
     ]
    }
   ],
   "source": [
    "print(conll_format)"
   ]
  },
  {
   "cell_type": "code",
   "execution_count": 305,
   "id": "fe7394ae-5ca0-4676-9da0-fe81b2eeea14",
   "metadata": {},
   "outputs": [
    {
     "name": "stdout",
     "output_type": "stream",
     "text": [
      "{'id': '90d9a97c7b7749ec8a4f460fda6f937e', 'annotations': [{'result': [{'value': {'start': 90, 'end': 103, 'text': 'Hongkong Bank', 'labels': ['ORG']}, 'id': 'C8HPTIM1', 'from_name': 'label', 'to_name': 'text', 'type': 'labels'}, {'value': {'start': 267, 'end': 278, 'text': 'Rahul & Co.', 'labels': ['ORG']}, 'id': 'KOWE3RAM', 'from_name': 'label', 'to_name': 'text', 'type': 'labels'}]}], 'data': {'text': \"\\n\\n(7) On specific query by the Bench about an entry of Rs. 1,31,37,500 on deposit side of Hongkong Bank account of which a photo copy is appearing at p. 40 of assessee's paper book, learned authorised representative submitted that it was related to loan from broker, Rahul & Co. on the basis of his submission a necessary mark is put by us on that photo copy.\"}, 'meta': {'source': 'tax_districtcourts judgement https://indiankanoon.org/doc/1556717/'}}\n"
     ]
    }
   ],
   "source": [
    "print(json_object[0])"
   ]
  },
  {
   "cell_type": "code",
   "execution_count": null,
   "id": "4c6221fe-89b2-477a-9776-2ad371f7969d",
   "metadata": {},
   "outputs": [],
   "source": []
  },
  {
   "cell_type": "code",
   "execution_count": 137,
   "id": "c3159474-53d2-4015-aa10-6f891d057218",
   "metadata": {},
   "outputs": [
    {
     "data": {
      "text/plain": [
       "{'COURT': 1,\n",
       " 'PETITIONER': 2,\n",
       " 'RESPONDENT': 3,\n",
       " 'JUDGE': 4,\n",
       " 'LAWYER': 5,\n",
       " 'DATE': 6,\n",
       " 'ORG': 7,\n",
       " 'GPE': 8,\n",
       " 'STATUTE': 9,\n",
       " 'PROVISION': 10,\n",
       " 'PRECEDENT': 11,\n",
       " 'CASE_NUMBER': 12,\n",
       " 'WITNESS': 13,\n",
       " 'OTHER_PERSON': 14}"
      ]
     },
     "execution_count": 137,
     "metadata": {},
     "output_type": "execute_result"
    }
   ],
   "source": []
  },
  {
   "cell_type": "code",
   "execution_count": null,
   "id": "482bf84d-7409-44fc-ad29-3b893ca87b74",
   "metadata": {},
   "outputs": [],
   "source": []
  },
  {
   "cell_type": "code",
   "execution_count": 202,
   "id": "a08ef8cc-7216-4f8f-bad8-05024a229ef5",
   "metadata": {},
   "outputs": [],
   "source": [
    "import json"
   ]
  },
  {
   "cell_type": "code",
   "execution_count": 216,
   "id": "da495264-2403-4c30-bd8b-5375141517c4",
   "metadata": {},
   "outputs": [],
   "source": [
    "with open(\"NER_TRAIN/NER_TRAIN_JUDGEMENT.json\") as json_file:\n",
    "    json_object = json.load(json_file)"
   ]
  },
  {
   "cell_type": "code",
   "execution_count": 306,
   "id": "8c34cca2-8b1f-4b77-abc3-55e6e47ec67a",
   "metadata": {},
   "outputs": [],
   "source": []
  },
  {
   "cell_type": "code",
   "execution_count": 307,
   "id": "53f821b5-1ce5-4e50-ae85-099fd96c587d",
   "metadata": {},
   "outputs": [
    {
     "name": "stdout",
     "output_type": "stream",
     "text": [
      "{\n",
      "  \"id\": \"a325c57ba5b84c6fa46bee65e6616633\",\n",
      "  \"annotations\": [\n",
      "    {\n",
      "      \"result\": [\n",
      "        {\n",
      "          \"value\": {\n",
      "            \"start\": 26,\n",
      "            \"end\": 30,\n",
      "            \"text\": \"Agya\",\n",
      "            \"labels\": [\n",
      "              \"OTHER_PERSON\"\n",
      "            ]\n",
      "          },\n",
      "          \"id\": \"0V4Q2F2B\",\n",
      "          \"from_name\": \"label\",\n",
      "          \"to_name\": \"text\",\n",
      "          \"type\": \"labels\"\n",
      "        },\n",
      "        {\n",
      "          \"value\": {\n",
      "            \"start\": 101,\n",
      "            \"end\": 105,\n",
      "            \"text\": \"Kaur\",\n",
      "            \"labels\": [\n",
      "              \"OTHER_PERSON\"\n",
      "            ]\n",
      "          },\n",
      "          \"id\": \"HLWY1CM9\",\n",
      "          \"from_name\": \"label\",\n",
      "          \"to_name\": \"text\",\n",
      "          \"type\": \"labels\"\n",
      "        },\n",
      "        {\n",
      "          \"value\": {\n",
      "            \"start\": 159,\n",
      "            \"end\": 174,\n",
      "            \"text\": \"Tarlochan Singh\",\n",
      "            \"labels\": [\n",
      "              \"OTHER_PERSON\"\n",
      "            ]\n",
      "          },\n",
      "          \"id\": \"9BYYLAZB\",\n",
      "          \"from_name\": \"label\",\n",
      "          \"to_name\": \"text\",\n",
      "          \"type\": \"labels\"\n",
      "        }\n",
      "      ]\n",
      "    }\n",
      "  ],\n",
      "  \"data\": {\n",
      "    \"text\": \"He was also asked whether Agya <span class=\\\"hidden_text\\\" id=\\\"span_5\\\"> CRA No.326-DB of 1998 6</span> Kaur, mother-in-law of the deceased lived separately from Tarlochan Singh.\"\n",
      "  },\n",
      "  \"meta\": {\n",
      "    \"source\": \"criminal_punjab-haryana_high_court judgement https://indiankanoon.org/doc/264463\"\n",
      "  }\n",
      "}\n"
     ]
    }
   ],
   "source": [
    "print(json_formatted_str)"
   ]
  },
  {
   "cell_type": "code",
   "execution_count": 235,
   "id": "4fb93996-53e0-4c25-8c90-49c0e5bb0aa7",
   "metadata": {},
   "outputs": [
    {
     "name": "stdout",
     "output_type": "stream",
     "text": [
      "ORG\n",
      "ORG\n"
     ]
    }
   ],
   "source": [
    "for label in json_object[0][\"annotations\"][0][\"result\"]:\n",
    "    print(label[\"value\"][\"labels\"][0])"
   ]
  },
  {
   "cell_type": "code",
   "execution_count": 252,
   "id": "16dccd60-3ba0-44d7-b563-c97071ef098e",
   "metadata": {},
   "outputs": [
    {
     "data": {
      "text/plain": [
       "\"\\n\\n(7) On specific query by the Bench about an entry of Rs. 1,31,37,500 on deposit side of Hongkong Bank account of which a photo copy is appearing at p. 40 of assessee's paper book, learned authorised representative submitted that it was related to loan from broker, Rahul & Co. on the basis of his submission a necessary mark is put by us on that photo copy.\""
      ]
     },
     "execution_count": 252,
     "metadata": {},
     "output_type": "execute_result"
    }
   ],
   "source": [
    "json_object[0][\"data\"][\"text\"]"
   ]
  },
  {
   "cell_type": "code",
   "execution_count": null,
   "id": "3b7581dd-18f4-4c73-b576-76fdffd2cf33",
   "metadata": {},
   "outputs": [],
   "source": []
  },
  {
   "cell_type": "code",
   "execution_count": null,
   "id": "b7a0045a-5db9-4198-9690-9bcc3b5c8fcd",
   "metadata": {},
   "outputs": [],
   "source": []
  },
  {
   "cell_type": "code",
   "execution_count": 319,
   "id": "7b04bf33-0061-4e8a-bba9-c5d50023d7bc",
   "metadata": {},
   "outputs": [],
   "source": [
    "s = \"\\nabc\""
   ]
  },
  {
   "cell_type": "code",
   "execution_count": 320,
   "id": "b77714ff-468f-4671-a09d-a1527a1bdd0d",
   "metadata": {},
   "outputs": [
    {
     "data": {
      "text/plain": [
       "4"
      ]
     },
     "execution_count": 320,
     "metadata": {},
     "output_type": "execute_result"
    }
   ],
   "source": [
    "len(s)"
   ]
  },
  {
   "cell_type": "code",
   "execution_count": null,
   "id": "b4efcc0b-57c8-4cf8-b08d-3be227bcdf39",
   "metadata": {},
   "outputs": [],
   "source": []
  }
 ],
 "metadata": {
  "kernelspec": {
   "display_name": "Python 3 (ipykernel)",
   "language": "python",
   "name": "python3"
  },
  "language_info": {
   "codemirror_mode": {
    "name": "ipython",
    "version": 3
   },
   "file_extension": ".py",
   "mimetype": "text/x-python",
   "name": "python",
   "nbconvert_exporter": "python",
   "pygments_lexer": "ipython3",
   "version": "3.10.8"
  }
 },
 "nbformat": 4,
 "nbformat_minor": 5
}
